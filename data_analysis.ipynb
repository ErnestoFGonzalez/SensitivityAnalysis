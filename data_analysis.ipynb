{
 "cells": [
  {
   "cell_type": "markdown",
   "metadata": {},
   "source": [
    "# Concatenate two datasets"
   ]
  },
  {
   "cell_type": "code",
   "execution_count": 2,
   "metadata": {},
   "outputs": [],
   "source": [
    "import numpy as np\n",
    "import pandas as pd\n",
    "import pylab\n",
    "from mpl_toolkits.mplot3d import Axes3D\n",
    "from sklearn.cluster import KMeans\n",
    "from sklearn.decomposition import PCA\n",
    "from sklearn.preprocessing import StandardScaler\n",
    "%matplotlib notebook"
   ]
  },
  {
   "cell_type": "code",
   "execution_count": 3,
   "metadata": {},
   "outputs": [],
   "source": [
    "with open('dados2/dados2.dat', 'r') as infile:\n",
    "    readlines = infile.readlines()\n",
    "    \n",
    "    df = []\n",
    "    df2 = []\n",
    "\n",
    "    for line in readlines: \n",
    "        temp = line.split('   ')\n",
    "        for elem in temp:\n",
    "            if elem == '':\n",
    "                temp.remove(elem)\n",
    "                continue\n",
    "            temp[temp.index(elem)] = float(elem.strip())\n",
    "        df.append([temp[0], float(temp[1]), temp[2], \n",
    "                   temp[3], temp[4], temp[5], temp[6], temp[7]])\n",
    "        df2.append([temp[0], float(temp[1]), temp[2], \n",
    "                   temp[3], temp[4], temp[5], temp[6], temp[7]]) \n",
    "\n",
    "with open('dados1/dados.dat', 'r') as infile:\n",
    "    readlines = infile.readlines()\n",
    "\n",
    "    for line in readlines: \n",
    "        temp = line.split('   ')\n",
    "        for elem in temp:\n",
    "            if elem == '':\n",
    "                temp.remove(elem)\n",
    "                continue\n",
    "            temp[temp.index(elem)] = float(elem.strip())\n",
    "        df.append([temp[0], float(temp[1]), temp[2], \n",
    "                   temp[3], temp[4], temp[5], temp[6], temp[7]])\n",
    "            \n",
    "df = pd.DataFrame(df)\n",
    "df2 = pd.DataFrame(df2)"
   ]
  },
  {
   "cell_type": "code",
   "execution_count": 8,
   "metadata": {},
   "outputs": [
    {
     "data": {
      "text/html": [
       "<div>\n",
       "<style scoped>\n",
       "    .dataframe tbody tr th:only-of-type {\n",
       "        vertical-align: middle;\n",
       "    }\n",
       "\n",
       "    .dataframe tbody tr th {\n",
       "        vertical-align: top;\n",
       "    }\n",
       "\n",
       "    .dataframe thead th {\n",
       "        text-align: right;\n",
       "    }\n",
       "</style>\n",
       "<table border=\"1\" class=\"dataframe\">\n",
       "  <thead>\n",
       "    <tr style=\"text-align: right;\">\n",
       "      <th></th>\n",
       "      <th>0</th>\n",
       "      <th>1</th>\n",
       "      <th>2</th>\n",
       "      <th>3</th>\n",
       "      <th>4</th>\n",
       "      <th>5</th>\n",
       "      <th>6</th>\n",
       "      <th>7</th>\n",
       "    </tr>\n",
       "  </thead>\n",
       "  <tbody>\n",
       "    <tr>\n",
       "      <th>0</th>\n",
       "      <td>-27.403900</td>\n",
       "      <td>34.909000</td>\n",
       "      <td>0.950377</td>\n",
       "      <td>3.307300</td>\n",
       "      <td>34.4068</td>\n",
       "      <td>18.61440</td>\n",
       "      <td>45.17680</td>\n",
       "      <td>4.340000</td>\n",
       "    </tr>\n",
       "    <tr>\n",
       "      <th>1</th>\n",
       "      <td>1.017860</td>\n",
       "      <td>2.930730</td>\n",
       "      <td>19.793900</td>\n",
       "      <td>29.140500</td>\n",
       "      <td>71.2174</td>\n",
       "      <td>9.20533</td>\n",
       "      <td>7.38931</td>\n",
       "      <td>0.030000</td>\n",
       "    </tr>\n",
       "    <tr>\n",
       "      <th>2</th>\n",
       "      <td>0.657983</td>\n",
       "      <td>4.936150</td>\n",
       "      <td>14.504800</td>\n",
       "      <td>20.598800</td>\n",
       "      <td>117.9200</td>\n",
       "      <td>16.85310</td>\n",
       "      <td>11.44240</td>\n",
       "      <td>0.070000</td>\n",
       "    </tr>\n",
       "    <tr>\n",
       "      <th>3</th>\n",
       "      <td>-9.000650</td>\n",
       "      <td>10.952400</td>\n",
       "      <td>18.637400</td>\n",
       "      <td>24.973700</td>\n",
       "      <td>108.0280</td>\n",
       "      <td>19.79630</td>\n",
       "      <td>23.60180</td>\n",
       "      <td>3.070000</td>\n",
       "    </tr>\n",
       "    <tr>\n",
       "      <th>4</th>\n",
       "      <td>-21.196100</td>\n",
       "      <td>33.012100</td>\n",
       "      <td>0.457121</td>\n",
       "      <td>21.014900</td>\n",
       "      <td>21.7571</td>\n",
       "      <td>3.92138</td>\n",
       "      <td>14.18610</td>\n",
       "      <td>0.929999</td>\n",
       "    </tr>\n",
       "    <tr>\n",
       "      <th>...</th>\n",
       "      <td>...</td>\n",
       "      <td>...</td>\n",
       "      <td>...</td>\n",
       "      <td>...</td>\n",
       "      <td>...</td>\n",
       "      <td>...</td>\n",
       "      <td>...</td>\n",
       "      <td>...</td>\n",
       "    </tr>\n",
       "    <tr>\n",
       "      <th>1973</th>\n",
       "      <td>1.779430</td>\n",
       "      <td>0.027883</td>\n",
       "      <td>0.880700</td>\n",
       "      <td>0.162503</td>\n",
       "      <td>17.6668</td>\n",
       "      <td>2.34437</td>\n",
       "      <td>21.23360</td>\n",
       "      <td>0.100000</td>\n",
       "    </tr>\n",
       "    <tr>\n",
       "      <th>1974</th>\n",
       "      <td>1.059680</td>\n",
       "      <td>0.529239</td>\n",
       "      <td>0.351788</td>\n",
       "      <td>1.023610</td>\n",
       "      <td>48.8019</td>\n",
       "      <td>1.52108</td>\n",
       "      <td>29.33990</td>\n",
       "      <td>32.860500</td>\n",
       "    </tr>\n",
       "    <tr>\n",
       "      <th>1975</th>\n",
       "      <td>0.699809</td>\n",
       "      <td>0.779917</td>\n",
       "      <td>0.087332</td>\n",
       "      <td>0.454162</td>\n",
       "      <td>14.3694</td>\n",
       "      <td>2.85944</td>\n",
       "      <td>33.39300</td>\n",
       "      <td>4.000000</td>\n",
       "    </tr>\n",
       "    <tr>\n",
       "      <th>1976</th>\n",
       "      <td>3.980060</td>\n",
       "      <td>1.281270</td>\n",
       "      <td>0.558420</td>\n",
       "      <td>1.315270</td>\n",
       "      <td>45.5045</td>\n",
       "      <td>2.03614</td>\n",
       "      <td>41.49920</td>\n",
       "      <td>42.518900</td>\n",
       "    </tr>\n",
       "    <tr>\n",
       "      <th>1977</th>\n",
       "      <td>-3.419800</td>\n",
       "      <td>1.531950</td>\n",
       "      <td>0.293964</td>\n",
       "      <td>0.745821</td>\n",
       "      <td>11.0721</td>\n",
       "      <td>3.37450</td>\n",
       "      <td>45.55230</td>\n",
       "      <td>3.500000</td>\n",
       "    </tr>\n",
       "  </tbody>\n",
       "</table>\n",
       "<p>1978 rows × 8 columns</p>\n",
       "</div>"
      ],
      "text/plain": [
       "              0          1          2          3         4         5  \\\n",
       "0    -27.403900  34.909000   0.950377   3.307300   34.4068  18.61440   \n",
       "1      1.017860   2.930730  19.793900  29.140500   71.2174   9.20533   \n",
       "2      0.657983   4.936150  14.504800  20.598800  117.9200  16.85310   \n",
       "3     -9.000650  10.952400  18.637400  24.973700  108.0280  19.79630   \n",
       "4    -21.196100  33.012100   0.457121  21.014900   21.7571   3.92138   \n",
       "...         ...        ...        ...        ...       ...       ...   \n",
       "1973   1.779430   0.027883   0.880700   0.162503   17.6668   2.34437   \n",
       "1974   1.059680   0.529239   0.351788   1.023610   48.8019   1.52108   \n",
       "1975   0.699809   0.779917   0.087332   0.454162   14.3694   2.85944   \n",
       "1976   3.980060   1.281270   0.558420   1.315270   45.5045   2.03614   \n",
       "1977  -3.419800   1.531950   0.293964   0.745821   11.0721   3.37450   \n",
       "\n",
       "             6          7  \n",
       "0     45.17680   4.340000  \n",
       "1      7.38931   0.030000  \n",
       "2     11.44240   0.070000  \n",
       "3     23.60180   3.070000  \n",
       "4     14.18610   0.929999  \n",
       "...        ...        ...  \n",
       "1973  21.23360   0.100000  \n",
       "1974  29.33990  32.860500  \n",
       "1975  33.39300   4.000000  \n",
       "1976  41.49920  42.518900  \n",
       "1977  45.55230   3.500000  \n",
       "\n",
       "[1978 rows x 8 columns]"
      ]
     },
     "execution_count": 8,
     "metadata": {},
     "output_type": "execute_result"
    }
   ],
   "source": [
    "df"
   ]
  },
  {
   "cell_type": "code",
   "execution_count": 5,
   "metadata": {},
   "outputs": [],
   "source": [
    "# data 2\n",
    "nDF = StandardScaler().fit_transform(df2)\n",
    "pca = PCA(n_components=2)\n",
    "principal_components = pca.fit_transform(nDF)\n",
    "\n",
    "principalDf = pd.DataFrame(data=principal_components, \n",
    "                           columns = ['principal component 1', 'principal component 2'])\n",
    "kmeans = KMeans(n_clusters=2)\n",
    "y = kmeans.fit_predict(principalDf[['principal component 1', 'principal component 2']])\n",
    "principalDf['Cluster'] = y\n",
    "first_regime_idx = principalDf.index[principalDf['Cluster']==0]\n",
    "second_regime_idx = principalDf.index[principalDf['Cluster']==1]"
   ]
  },
  {
   "cell_type": "code",
   "execution_count": 6,
   "metadata": {},
   "outputs": [],
   "source": [
    "nDF = StandardScaler().fit_transform(df)\n",
    "pca = PCA(n_components=2)\n",
    "principal_components = pca.fit_transform(nDF)\n",
    "\n",
    "principalDf = pd.DataFrame(data=principal_components, \n",
    "                           columns = ['principal component 1', 'principal component 2'])"
   ]
  },
  {
   "cell_type": "code",
   "execution_count": 7,
   "metadata": {},
   "outputs": [
    {
     "data": {
      "text/plain": [
       "<matplotlib.axes._subplots.AxesSubplot at 0x7f025b567208>"
      ]
     },
     "execution_count": 7,
     "metadata": {},
     "output_type": "execute_result"
    },
    {
     "data": {
      "image/png": "[encoded data removed]",
      "text/plain": [
       "<Figure size 432x288 with 1 Axes>"
      ]
     },
     "metadata": {
      "needs_background": "light"
     },
     "output_type": "display_data"
    }
   ],
   "source": [
    "principalDf.plot(x='principal component 1', y='principal component 2', kind='scatter')"
   ]
  },
  {
   "cell_type": "code",
   "execution_count": 15,
   "metadata": {},
   "outputs": [
    {
     "data": {
      "text/plain": [
       "<matplotlib.collections.PathCollection at 0x7f02591f4320>"
      ]
     },
     "execution_count": 15,
     "metadata": {},
     "output_type": "execute_result"
    },
    {
     "data": {
      "image/png": "[encoded data removed]",
      "text/plain": [
       "<Figure size 432x288 with 1 Axes>"
      ]
     },
     "metadata": {
      "needs_background": "light"
     },
     "output_type": "display_data"
    }
   ],
   "source": [
    "pylab.plot(principalDf['principal component 1'], principalDf['principal component 2'], 'go',zorder=0)\n",
    "pylab.scatter([principalDf['principal component 1'].values[i] for i in range(1979) if i in first_regime_idx],\n",
    "             [principalDf['principal component 2'].values[i] for i in range(1979) if i in first_regime_idx], c='b',zorder=5)\n",
    "pylab.scatter([principalDf['principal component 1'].values[i] for i in range(1979) if i in second_regime_idx],\n",
    "             [principalDf['principal component 2'].values[i] for i in range(1979) if i in second_regime_idx], c='r',zorder=10)"
   ]
  },
  {
   "cell_type": "markdown",
   "metadata": {},
   "source": [
    "## Simulation exercise:\n",
    "<br>\n",
    "In dados2/data_analysis we concluded closest point to first regime centroid is row 723, and closest point to second regime centroid is row 393\n",
    "<br>\n",
    "To study First Regime:\n",
    "    - Vary Column 1, fixate all others around 723 coordinates.\n",
    "    - Vary Column 5, fixate all others around 723 coordinates.\n",
    "    - Vary Column 2, fixate all others aorund 723 coordinates.\n",
    "To study Second Regime:\n",
    "    - Vary Column 4, fixate all others around 393 coordinates.\n",
    "    - Vary Column 3, fixate all others around 393 coordinates.\n",
    "    - Vary Column 2, fixate all others aorund 393 coordinates. "
   ]
  },
  {
   "cell_type": "code",
   "execution_count": null,
   "metadata": {},
   "outputs": [],
   "source": []
  }
 ],
 "metadata": {
  "kernelspec": {
   "display_name": "Python 3",
   "language": "python",
   "name": "python3"
  },
  "language_info": {
   "codemirror_mode": {
    "name": "ipython",
    "version": 3
   },
   "file_extension": ".py",
   "mimetype": "text/x-python",
   "name": "python",
   "nbconvert_exporter": "python",
   "pygments_lexer": "ipython3",
   "version": "3.6.9"
  }
 },
 "nbformat": 4,
 "nbformat_minor": 4
}
