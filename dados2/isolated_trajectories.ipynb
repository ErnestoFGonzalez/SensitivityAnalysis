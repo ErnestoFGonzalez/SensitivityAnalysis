{
 "cells": [
  {
   "cell_type": "markdown",
   "metadata": {},
   "source": [
    "# Isolated Trajectories"
   ]
  },
  {
   "cell_type": "markdown",
   "metadata": {},
   "source": [
    "In this file we will study the trajectories in planes (`Column i`,`Output`), with $𝑖=[6]$, for our dataset `dados2.dat`, by fixating all other column values, i.e. we will vary values in `Column i` while all other values are fixed."
   ]
  },
  {
   "cell_type": "code",
   "execution_count": 1,
   "metadata": {},
   "outputs": [],
   "source": [
    "import numpy as np\n",
    "import pandas as pd\n",
    "import pylab\n",
    "from mpl_toolkits.mplot3d import Axes3D\n",
    "from sklearn.decomposition import PCA\n",
    "from sklearn.preprocessing import StandardScaler\n",
    "%matplotlib notebook"
   ]
  },
  {
   "cell_type": "code",
   "execution_count": 2,
   "metadata": {},
   "outputs": [],
   "source": [
    "# import dataset\n",
    "with open('dados2.dat', 'r') as infile:\n",
    "    readlines = infile.readlines()\n",
    "    \n",
    "    df = []\n",
    "\n",
    "    for line in readlines: \n",
    "        temp = line.split('   ')\n",
    "        for elem in temp:\n",
    "            if elem == '':\n",
    "                temp.remove(elem)\n",
    "                continue\n",
    "            temp[temp.index(elem)] = float(elem.strip())\n",
    "        df.append([temp[0], float(temp[1]), temp[2], \n",
    "                   temp[3], temp[4], temp[5], temp[6], temp[7]])\n",
    "            \n",
    "df = pd.DataFrame(df)"
   ]
  },
  {
   "cell_type": "code",
   "execution_count": 3,
   "metadata": {},
   "outputs": [],
   "source": [
    "def distance(a,b):\n",
    "    sum = 0\n",
    "    for coord in range(len(a)):\n",
    "        sum += (a[coord]- b[coord])**2\n",
    "    return sum**0.5\n",
    "\n",
    "\n",
    "def isolate_column(column, r):\n",
    "    \"\"\"column:= column to isolate;\n",
    "    r:= radius to consider fixation\"\"\"\n",
    "    indexes = [0,1,2,3,4,5,6]\n",
    "    indexes.remove(column)\n",
    "    \n",
    "    list_df = df.loc[:, indexes].values.tolist()\n",
    "    \n",
    "    clusters = []\n",
    "\n",
    "    for point in list_df:\n",
    "        point_cluster = []\n",
    "        for point_ in list_df:\n",
    "            idx = list_df.index(point_)\n",
    "            dist = distance(point, point_)\n",
    "            if dist < r:\n",
    "                point_cluster.append(idx) \n",
    "        if len(point_cluster) != 1:\n",
    "            clusters.append(point_cluster)\n",
    "\n",
    "  \n",
    "    return clusters"
   ]
  },
  {
   "cell_type": "markdown",
   "metadata": {},
   "source": [
    "# Isolating Column 0"
   ]
  },
  {
   "cell_type": "code",
   "execution_count": 4,
   "metadata": {},
   "outputs": [
    {
     "data": {
      "text/plain": [
       "[]"
      ]
     },
     "execution_count": 4,
     "metadata": {},
     "output_type": "execute_result"
    }
   ],
   "source": [
    "isolate_column(0,1.9)    "
   ]
  },
  {
   "cell_type": "markdown",
   "metadata": {},
   "source": [
    "# Isolating Column 1"
   ]
  },
  {
   "cell_type": "code",
   "execution_count": 5,
   "metadata": {},
   "outputs": [
    {
     "data": {
      "text/plain": [
       "[]"
      ]
     },
     "execution_count": 5,
     "metadata": {},
     "output_type": "execute_result"
    }
   ],
   "source": [
    "isolate_column(1,1.9)"
   ]
  },
  {
   "cell_type": "markdown",
   "metadata": {},
   "source": [
    "# Isolating Column 2"
   ]
  },
  {
   "cell_type": "code",
   "execution_count": 6,
   "metadata": {},
   "outputs": [
    {
     "data": {
      "text/plain": [
       "[]"
      ]
     },
     "execution_count": 6,
     "metadata": {},
     "output_type": "execute_result"
    }
   ],
   "source": [
    "isolate_column(2,2)"
   ]
  },
  {
   "cell_type": "markdown",
   "metadata": {},
   "source": [
    "# Isolating Column 3"
   ]
  },
  {
   "cell_type": "code",
   "execution_count": 7,
   "metadata": {},
   "outputs": [
    {
     "data": {
      "text/plain": [
       "[]"
      ]
     },
     "execution_count": 7,
     "metadata": {},
     "output_type": "execute_result"
    }
   ],
   "source": [
    "isolate_column(3,2)"
   ]
  },
  {
   "cell_type": "markdown",
   "metadata": {},
   "source": [
    "# Isolating Column 4"
   ]
  },
  {
   "cell_type": "code",
   "execution_count": 8,
   "metadata": {},
   "outputs": [
    {
     "data": {
      "text/plain": [
       "[]"
      ]
     },
     "execution_count": 8,
     "metadata": {},
     "output_type": "execute_result"
    }
   ],
   "source": [
    "isolate_column(4,2)"
   ]
  },
  {
   "cell_type": "markdown",
   "metadata": {},
   "source": [
    "# Isolating Column 5"
   ]
  },
  {
   "cell_type": "code",
   "execution_count": 9,
   "metadata": {},
   "outputs": [
    {
     "data": {
      "text/plain": [
       "[]"
      ]
     },
     "execution_count": 9,
     "metadata": {},
     "output_type": "execute_result"
    }
   ],
   "source": [
    "isolate_column(5,2)"
   ]
  },
  {
   "cell_type": "markdown",
   "metadata": {},
   "source": [
    "# Isolating Column 6"
   ]
  },
  {
   "cell_type": "code",
   "execution_count": 10,
   "metadata": {},
   "outputs": [
    {
     "data": {
      "text/plain": [
       "[]"
      ]
     },
     "execution_count": 10,
     "metadata": {},
     "output_type": "execute_result"
    }
   ],
   "source": [
    "isolate_column(6,2)"
   ]
  },
  {
   "cell_type": "markdown",
   "metadata": {},
   "source": [
    "# Isolation by segmentation"
   ]
  },
  {
   "cell_type": "markdown",
   "metadata": {},
   "source": [
    "Now we will try to isolate each column by limiting points to a determined interval calculated by $ int_i = i[x_{max}-x{min}]/10$"
   ]
  },
  {
   "cell_type": "markdown",
   "metadata": {},
   "source": [
    "# Column 0"
   ]
  },
  {
   "cell_type": "code",
   "execution_count": 4,
   "metadata": {},
   "outputs": [],
   "source": [
    "min_value = df.loc[:, 0].min()\n",
    "max_value = df.loc[:, 0].max()"
   ]
  },
  {
   "cell_type": "code",
   "execution_count": 5,
   "metadata": {},
   "outputs": [
    {
     "data": {
      "text/plain": [
       "-49.9542"
      ]
     },
     "execution_count": 5,
     "metadata": {},
     "output_type": "execute_result"
    }
   ],
   "source": [
    "min_value"
   ]
  },
  {
   "cell_type": "code",
   "execution_count": 6,
   "metadata": {},
   "outputs": [
    {
     "data": {
      "text/plain": [
       "3.98816"
      ]
     },
     "execution_count": 6,
     "metadata": {},
     "output_type": "execute_result"
    }
   ],
   "source": [
    "max_value"
   ]
  },
  {
   "cell_type": "markdown",
   "metadata": {},
   "source": [
    "To get the width of all 10 intervals we divide the values total width by 10"
   ]
  },
  {
   "cell_type": "code",
   "execution_count": 7,
   "metadata": {},
   "outputs": [
    {
     "data": {
      "text/plain": [
       "5.394236"
      ]
     },
     "execution_count": 7,
     "metadata": {},
     "output_type": "execute_result"
    }
   ],
   "source": [
    "width = (max_value - min_value)/10\n",
    "width"
   ]
  },
  {
   "cell_type": "code",
   "execution_count": 136,
   "metadata": {
    "scrolled": true
   },
   "outputs": [
    {
     "data": {
      "text/plain": [
       "546"
      ]
     },
     "execution_count": 136,
     "metadata": {},
     "output_type": "execute_result"
    }
   ],
   "source": [
    "binned_0 = pd.cut(df.loc[:, 0], bins=10, right=True)\n",
    "points_bin_0_idx = [i for i in range(1152) if binned_0[i]==binned_0[1]]\n",
    "len(points_bin_0_idx)"
   ]
  },
  {
   "cell_type": "markdown",
   "metadata": {},
   "source": [
    "Above, we have the information of to what bin does the ith row belongs, e.g. the 0th row belongs in the 5th bin."
   ]
  },
  {
   "cell_type": "markdown",
   "metadata": {},
   "source": [
    "## Column 1"
   ]
  },
  {
   "cell_type": "code",
   "execution_count": 9,
   "metadata": {},
   "outputs": [
    {
     "data": {
      "text/plain": [
       "0       (31.976, 35.972]\n",
       "1       (-0.0356, 4.001]\n",
       "2         (4.001, 7.997]\n",
       "3        (7.997, 11.994]\n",
       "4       (31.976, 35.972]\n",
       "              ...       \n",
       "1147    (-0.0356, 4.001]\n",
       "1148      (4.001, 7.997]\n",
       "1149     (15.99, 19.987]\n",
       "1150    (-0.0356, 4.001]\n",
       "1151     (11.994, 15.99]\n",
       "Name: 1, Length: 1152, dtype: category\n",
       "Categories (10, interval[float64]): [(-0.0356, 4.001] < (4.001, 7.997] < (7.997, 11.994] < (11.994, 15.99] ... (23.983, 27.98] < (27.98, 31.976] < (31.976, 35.972] < (35.972, 39.969]]"
      ]
     },
     "execution_count": 9,
     "metadata": {},
     "output_type": "execute_result"
    }
   ],
   "source": [
    "binned_1 = pd.cut(df.loc[:, 1], bins=10, right=True)\n",
    "binned_1"
   ]
  },
  {
   "cell_type": "code",
   "execution_count": 116,
   "metadata": {},
   "outputs": [
    {
     "data": {
      "text/plain": [
       "594"
      ]
     },
     "execution_count": 116,
     "metadata": {},
     "output_type": "execute_result"
    }
   ],
   "source": [
    "points_bin_1_idx = [i for i in range(1152) if binned_1[i]==binned_1[1]]\n",
    "len(points_bin_1_idx)"
   ]
  },
  {
   "cell_type": "markdown",
   "metadata": {},
   "source": [
    "## Column 2"
   ]
  },
  {
   "cell_type": "code",
   "execution_count": 10,
   "metadata": {},
   "outputs": [
    {
     "data": {
      "text/plain": [
       "0       (-0.0188, 1.988]\n",
       "1       (17.881, 19.868]\n",
       "2       (13.908, 15.895]\n",
       "3       (17.881, 19.868]\n",
       "4       (-0.0188, 1.988]\n",
       "              ...       \n",
       "1147    (15.895, 17.881]\n",
       "1148     (9.935, 11.921]\n",
       "1149    (-0.0188, 1.988]\n",
       "1150    (15.895, 17.881]\n",
       "1151      (3.974, 5.961]\n",
       "Name: 2, Length: 1152, dtype: category\n",
       "Categories (10, interval[float64]): [(-0.0188, 1.988] < (1.988, 3.974] < (3.974, 5.961] < (5.961, 7.948] ... (11.921, 13.908] < (13.908, 15.895] < (15.895, 17.881] < (17.881, 19.868]]"
      ]
     },
     "execution_count": 10,
     "metadata": {},
     "output_type": "execute_result"
    }
   ],
   "source": [
    "binned_2 = pd.cut(df.loc[:, 2], bins=10, right=True)\n",
    "binned_2"
   ]
  },
  {
   "cell_type": "code",
   "execution_count": 106,
   "metadata": {},
   "outputs": [
    {
     "data": {
      "text/plain": [
       "381"
      ]
     },
     "execution_count": 106,
     "metadata": {},
     "output_type": "execute_result"
    }
   ],
   "source": [
    "points_bin_2_idx = [i for i in range(1152) if binned_2[i]==binned_2[0]]\n",
    "len(points_bin_2_idx)"
   ]
  },
  {
   "cell_type": "markdown",
   "metadata": {},
   "source": [
    "## Column 3"
   ]
  },
  {
   "cell_type": "code",
   "execution_count": 11,
   "metadata": {},
   "outputs": [
    {
     "data": {
      "text/plain": [
       "0         (2.997, 5.989]\n",
       "1       (26.937, 29.929]\n",
       "2       (17.959, 20.952]\n",
       "3       (23.944, 26.937]\n",
       "4       (20.952, 23.944]\n",
       "              ...       \n",
       "1147      (2.997, 5.989]\n",
       "1148    (23.944, 26.937]\n",
       "1149      (2.997, 5.989]\n",
       "1150    (20.952, 23.944]\n",
       "1151    (-0.0257, 2.997]\n",
       "Name: 3, Length: 1152, dtype: category\n",
       "Categories (10, interval[float64]): [(-0.0257, 2.997] < (2.997, 5.989] < (5.989, 8.982] < (8.982, 11.974] ... (17.959, 20.952] < (20.952, 23.944] < (23.944, 26.937] < (26.937, 29.929]]"
      ]
     },
     "execution_count": 11,
     "metadata": {},
     "output_type": "execute_result"
    }
   ],
   "source": [
    "binned_3 = pd.cut(df.loc[:, 3], bins=10, right=True)\n",
    "binned_3"
   ]
  },
  {
   "cell_type": "code",
   "execution_count": 97,
   "metadata": {},
   "outputs": [
    {
     "data": {
      "text/plain": [
       "161"
      ]
     },
     "execution_count": 97,
     "metadata": {},
     "output_type": "execute_result"
    }
   ],
   "source": [
    "points_bin_3_idx = [i for i in range(1152) if binned_3[i]==binned_3[8]]\n",
    "len(points_bin_3_idx)"
   ]
  },
  {
   "cell_type": "markdown",
   "metadata": {},
   "source": [
    "## Column 4"
   ]
  },
  {
   "cell_type": "code",
   "execution_count": 12,
   "metadata": {},
   "outputs": [
    {
     "data": {
      "text/plain": [
       "0          (30.01, 45.004]\n",
       "1         (59.999, 74.994]\n",
       "2       (104.984, 119.978]\n",
       "3       (104.984, 119.978]\n",
       "4          (15.015, 30.01]\n",
       "               ...        \n",
       "1147      (45.004, 59.999]\n",
       "1148     (89.989, 104.984]\n",
       "1149      (74.994, 89.989]\n",
       "1150       (30.01, 45.004]\n",
       "1151       (15.015, 30.01]\n",
       "Name: 4, Length: 1152, dtype: category\n",
       "Categories (10, interval[float64]): [(-0.13, 15.015] < (15.015, 30.01] < (30.01, 45.004] < (45.004, 59.999] ... (89.989, 104.984] < (104.984, 119.978] < (119.978, 134.973] < (134.973, 149.968]]"
      ]
     },
     "execution_count": 12,
     "metadata": {},
     "output_type": "execute_result"
    }
   ],
   "source": [
    "binned_4 = pd.cut(df.loc[:, 4], bins=10, right=True)\n",
    "binned_4"
   ]
  },
  {
   "cell_type": "code",
   "execution_count": 74,
   "metadata": {},
   "outputs": [
    {
     "data": {
      "text/plain": [
       "110"
      ]
     },
     "execution_count": 74,
     "metadata": {},
     "output_type": "execute_result"
    }
   ],
   "source": [
    "points_bin_4_idx = [i for i in range(1152) if binned_4[i]==binned_4[10]]\n",
    "len(points_bin_4_idx)"
   ]
  },
  {
   "cell_type": "markdown",
   "metadata": {},
   "source": [
    "points for column 4 are uniformly distributed along bins"
   ]
  },
  {
   "cell_type": "markdown",
   "metadata": {},
   "source": [
    "## Column 5"
   ]
  },
  {
   "cell_type": "code",
   "execution_count": 25,
   "metadata": {},
   "outputs": [
    {
     "data": {
      "text/plain": [
       "0       (17.998, 19.997]\n",
       "1        (8.001, 10.001]\n",
       "2       (15.999, 17.998]\n",
       "3       (17.998, 19.997]\n",
       "4         (2.003, 4.002]\n",
       "              ...       \n",
       "1147      (6.002, 8.001]\n",
       "1148    (13.999, 15.999]\n",
       "1149    (-0.0163, 2.003]\n",
       "1150      (12.0, 13.999]\n",
       "1151    (17.998, 19.997]\n",
       "Name: 5, Length: 1152, dtype: category\n",
       "Categories (10, interval[float64]): [(-0.0163, 2.003] < (2.003, 4.002] < (4.002, 6.002] < (6.002, 8.001] ... (12.0, 13.999] < (13.999, 15.999] < (15.999, 17.998] < (17.998, 19.997]]"
      ]
     },
     "execution_count": 25,
     "metadata": {},
     "output_type": "execute_result"
    }
   ],
   "source": [
    "binned_5 = pd.cut(df.loc[:, 5], bins=10, right=True)\n",
    "binned_5"
   ]
  },
  {
   "cell_type": "code",
   "execution_count": 62,
   "metadata": {},
   "outputs": [
    {
     "data": {
      "text/plain": [
       "182"
      ]
     },
     "execution_count": 62,
     "metadata": {},
     "output_type": "execute_result"
    }
   ],
   "source": [
    "points_bin_5_idx = [i for i in range(1152) if binned_5[i]==binned_5[0]]\n",
    "len(points_bin_5_idx)"
   ]
  },
  {
   "cell_type": "markdown",
   "metadata": {},
   "source": [
    "## Column 6"
   ]
  },
  {
   "cell_type": "code",
   "execution_count": 15,
   "metadata": {},
   "outputs": [
    {
     "data": {
      "text/plain": [
       "0        (43.19, 48.585]\n",
       "1        (5.426, 10.821]\n",
       "2       (10.821, 16.216]\n",
       "3       (21.611, 27.006]\n",
       "4       (10.821, 16.216]\n",
       "              ...       \n",
       "1147     (5.426, 10.821]\n",
       "1148    (10.821, 16.216]\n",
       "1149     (37.795, 43.19]\n",
       "1150      (32.4, 37.795]\n",
       "1151    (-0.0223, 5.426]\n",
       "Name: 6, Length: 1152, dtype: category\n",
       "Categories (10, interval[float64]): [(-0.0223, 5.426] < (5.426, 10.821] < (10.821, 16.216] < (16.216, 21.611] ... (32.4, 37.795] < (37.795, 43.19] < (43.19, 48.585] < (48.585, 53.98]]"
      ]
     },
     "execution_count": 15,
     "metadata": {},
     "output_type": "execute_result"
    }
   ],
   "source": [
    "binned_6 = pd.cut(df.loc[:, 6], bins=10, right=True)\n",
    "binned_6"
   ]
  },
  {
   "cell_type": "code",
   "execution_count": 16,
   "metadata": {},
   "outputs": [
    {
     "data": {
      "text/plain": [
       "Interval(16.216, 21.611, closed='right')"
      ]
     },
     "execution_count": 16,
     "metadata": {},
     "output_type": "execute_result"
    }
   ],
   "source": [
    "binned_6[1100]"
   ]
  },
  {
   "cell_type": "code",
   "execution_count": 17,
   "metadata": {},
   "outputs": [
    {
     "data": {
      "text/plain": [
       "122"
      ]
     },
     "execution_count": 17,
     "metadata": {},
     "output_type": "execute_result"
    }
   ],
   "source": [
    "points_bin_6_idx = [i for i in range(1152) if binned_6[i]==binned_6[1149]]\n",
    "len(points_bin_6_idx)"
   ]
  },
  {
   "cell_type": "markdown",
   "metadata": {},
   "source": [
    "Bins have approximately the same size, as points are uniformly distributed in Column 6"
   ]
  },
  {
   "cell_type": "markdown",
   "metadata": {},
   "source": [
    "## Fixate Common 1 and 2, Output(Column 3)"
   ]
  },
  {
   "cell_type": "code",
   "execution_count": 122,
   "metadata": {},
   "outputs": [
    {
     "data": {
      "text/plain": [
       "[31,\n",
       " 68,\n",
       " 138,\n",
       " 167,\n",
       " 198,\n",
       " 213,\n",
       " 239,\n",
       " 345,\n",
       " 360,\n",
       " 371,\n",
       " 418,\n",
       " 496,\n",
       " 540,\n",
       " 554,\n",
       " 567,\n",
       " 577,\n",
       " 631,\n",
       " 643,\n",
       " 698,\n",
       " 744,\n",
       " 773,\n",
       " 855,\n",
       " 934,\n",
       " 993,\n",
       " 1056,\n",
       " 1073,\n",
       " 1082]"
      ]
     },
     "execution_count": 122,
     "metadata": {},
     "output_type": "execute_result"
    }
   ],
   "source": [
    "common = []\n",
    "for element in points_bin_1_idx:\n",
    "    if element in points_bin_2_idx:\n",
    "        common.append(element)\n",
    "common"
   ]
  },
  {
   "cell_type": "code",
   "execution_count": 123,
   "metadata": {},
   "outputs": [],
   "source": [
    "commondf = df.loc[common]"
   ]
  },
  {
   "cell_type": "code",
   "execution_count": 128,
   "metadata": {},
   "outputs": [
    {
     "data": {
      "text/plain": [
       "[<matplotlib.lines.Line2D at 0x7f4a40b5dba8>]"
      ]
     },
     "execution_count": 128,
     "metadata": {},
     "output_type": "execute_result"
    },
    {
     "data": {
      "image/png": "[encoded data removed]",
      "text/plain": [
       "<Figure size 432x288 with 1 Axes>"
      ]
     },
     "metadata": {
      "needs_background": "light"
     },
     "output_type": "display_data"
    }
   ],
   "source": [
    "x = commondf.loc[:, [3]].values\n",
    "y = commondf.loc[:, [7]].values\n",
    "\n",
    "pylab.plot(x, y, 'bo')"
   ]
  },
  {
   "cell_type": "markdown",
   "metadata": {},
   "source": [
    "## Fixate Column 2 and 5, Output(Column 3)"
   ]
  },
  {
   "cell_type": "code",
   "execution_count": 139,
   "metadata": {},
   "outputs": [
    {
     "data": {
      "text/plain": [
       "[<matplotlib.lines.Line2D at 0x7f4a4082cda0>]"
      ]
     },
     "execution_count": 139,
     "metadata": {},
     "output_type": "execute_result"
    },
    {
     "data": {
      "image/png": "[encoded data removed]",
      "text/plain": [
       "<Figure size 432x288 with 1 Axes>"
      ]
     },
     "metadata": {
      "needs_background": "light"
     },
     "output_type": "display_data"
    }
   ],
   "source": [
    "common = []\n",
    "for element in points_bin_2_idx:\n",
    "    if element in points_bin_5_idx:\n",
    "        common.append(element)\n",
    "commondf = df.loc[common]\n",
    "x = commondf.loc[:, [3]].values\n",
    "y = commondf.loc[:, [7]].values\n",
    "pylab.plot(x, y, 'bo')"
   ]
  },
  {
   "cell_type": "markdown",
   "metadata": {},
   "source": [
    "## Fixate Column 6 and 3, Output(Column 2)"
   ]
  },
  {
   "cell_type": "code",
   "execution_count": 131,
   "metadata": {},
   "outputs": [
    {
     "data": {
      "text/plain": [
       "[<matplotlib.lines.Line2D at 0x7f4a40aa5320>]"
      ]
     },
     "execution_count": 131,
     "metadata": {},
     "output_type": "execute_result"
    },
    {
     "data": {
      "image/png": "[encoded data removed]",
      "text/plain": [
       "<Figure size 432x288 with 1 Axes>"
      ]
     },
     "metadata": {
      "needs_background": "light"
     },
     "output_type": "display_data"
    }
   ],
   "source": [
    "common = []\n",
    "for element in points_bin_6_idx:\n",
    "    if element in points_bin_3_idx:\n",
    "        common.append(element)\n",
    "commondf = df.loc[common]\n",
    "x = commondf.loc[:, [2]].values\n",
    "y = commondf.loc[:, [7]].values\n",
    "pylab.plot(x, y, 'bo')"
   ]
  },
  {
   "cell_type": "markdown",
   "metadata": {},
   "source": [
    "## Fixate Column 5 and 1, Output(Column 2)"
   ]
  },
  {
   "cell_type": "code",
   "execution_count": 132,
   "metadata": {},
   "outputs": [
    {
     "data": {
      "text/plain": [
       "[<matplotlib.lines.Line2D at 0x7f4a40a00940>]"
      ]
     },
     "execution_count": 132,
     "metadata": {},
     "output_type": "execute_result"
    },
    {
     "data": {
      "image/png": "[encoded data removed]",
      "text/plain": [
       "<Figure size 432x288 with 1 Axes>"
      ]
     },
     "metadata": {
      "needs_background": "light"
     },
     "output_type": "display_data"
    }
   ],
   "source": [
    "common = []\n",
    "for element in points_bin_5_idx:\n",
    "    if element in points_bin_1_idx:\n",
    "        common.append(element)\n",
    "commondf = df.loc[common]\n",
    "x = commondf.loc[:, [2]].values\n",
    "y = commondf.loc[:, [7]].values\n",
    "pylab.plot(x, y, 'bo')"
   ]
  },
  {
   "cell_type": "markdown",
   "metadata": {},
   "source": [
    "## Fixate Column 0 and 3, Output(Column 2)"
   ]
  },
  {
   "cell_type": "code",
   "execution_count": 137,
   "metadata": {},
   "outputs": [
    {
     "data": {
      "text/plain": [
       "[<matplotlib.lines.Line2D at 0x7f4a408de5c0>]"
      ]
     },
     "execution_count": 137,
     "metadata": {},
     "output_type": "execute_result"
    },
    {
     "data": {
      "image/png": "[encoded data removed]",
      "text/plain": [
       "<Figure size 432x288 with 1 Axes>"
      ]
     },
     "metadata": {
      "needs_background": "light"
     },
     "output_type": "display_data"
    }
   ],
   "source": [
    "common = []\n",
    "for element in points_bin_0_idx:\n",
    "    if element in points_bin_3_idx:\n",
    "        common.append(element)\n",
    "commondf = df.loc[common]\n",
    "x = commondf.loc[:, [2]].values\n",
    "y = commondf.loc[:, [7]].values\n",
    "pylab.plot(x, y, 'bo')"
   ]
  },
  {
   "cell_type": "markdown",
   "metadata": {},
   "source": [
    "## Fixate Column 2 and 3, Output(Column 5)"
   ]
  },
  {
   "cell_type": "code",
   "execution_count": 133,
   "metadata": {},
   "outputs": [
    {
     "data": {
      "text/plain": [
       "[<matplotlib.lines.Line2D at 0x7f4a409eb6d8>]"
      ]
     },
     "execution_count": 133,
     "metadata": {},
     "output_type": "execute_result"
    },
    {
     "data": {
      "image/png": "[encoded data removed]",
      "text/plain": [
       "<Figure size 432x288 with 1 Axes>"
      ]
     },
     "metadata": {
      "needs_background": "light"
     },
     "output_type": "display_data"
    }
   ],
   "source": [
    "common = []\n",
    "for element in points_bin_2_idx:\n",
    "    if element in points_bin_3_idx:\n",
    "        common.append(element)\n",
    "commondf = df.loc[common]\n",
    "x = commondf.loc[:, [5]].values\n",
    "y = commondf.loc[:, [7]].values\n",
    "pylab.plot(x, y, 'bo')"
   ]
  },
  {
   "cell_type": "markdown",
   "metadata": {},
   "source": [
    "## Fixate Column 2 and 3, Output(Column 1)"
   ]
  },
  {
   "cell_type": "code",
   "execution_count": 134,
   "metadata": {},
   "outputs": [
    {
     "data": {
      "text/plain": [
       "[<matplotlib.lines.Line2D at 0x7f4a4095a390>]"
      ]
     },
     "execution_count": 134,
     "metadata": {},
     "output_type": "execute_result"
    },
    {
     "data": {
      "image/png": "[encoded data removed]",
      "text/plain": [
       "<Figure size 432x288 with 1 Axes>"
      ]
     },
     "metadata": {
      "needs_background": "light"
     },
     "output_type": "display_data"
    }
   ],
   "source": [
    "common = []\n",
    "for element in points_bin_2_idx:\n",
    "    if element in points_bin_3_idx:\n",
    "        common.append(element)\n",
    "commondf = df.loc[common]\n",
    "x = commondf.loc[:, [1]].values\n",
    "y = commondf.loc[:, [7]].values\n",
    "pylab.plot(x, y, 'bo')"
   ]
  },
  {
   "cell_type": "markdown",
   "metadata": {},
   "source": [
    "## Fixate Column 2 and 5, Output(Column 1)"
   ]
  },
  {
   "cell_type": "code",
   "execution_count": 138,
   "metadata": {},
   "outputs": [
    {
     "data": {
      "text/plain": [
       "[<matplotlib.lines.Line2D at 0x7f4a4084d240>]"
      ]
     },
     "execution_count": 138,
     "metadata": {},
     "output_type": "execute_result"
    },
    {
     "data": {
      "image/png": "[encoded data removed]",
      "text/plain": [
       "<Figure size 432x288 with 1 Axes>"
      ]
     },
     "metadata": {
      "needs_background": "light"
     },
     "output_type": "display_data"
    }
   ],
   "source": [
    "common = []\n",
    "for element in points_bin_2_idx:\n",
    "    if element in points_bin_5_idx:\n",
    "        common.append(element)\n",
    "commondf = df.loc[common]\n",
    "x = commondf.loc[:, [1]].values\n",
    "y = commondf.loc[:, [7]].values\n",
    "pylab.plot(x, y, 'bo')"
   ]
  }
 ],
 "metadata": {
  "kernelspec": {
   "display_name": "Python 3",
   "language": "python",
   "name": "python3"
  },
  "language_info": {
   "codemirror_mode": {
    "name": "ipython",
    "version": 3
   },
   "file_extension": ".py",
   "mimetype": "text/x-python",
   "name": "python",
   "nbconvert_exporter": "python",
   "pygments_lexer": "ipython3",
   "version": "3.6.9"
  }
 },
 "nbformat": 4,
 "nbformat_minor": 2
}
