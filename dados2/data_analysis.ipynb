{
 "cells": [
  {
   "cell_type": "markdown",
   "metadata": {},
   "source": [
    "Author: Ernesto González Date: 23/01/2020"
   ]
  },
  {
   "cell_type": "code",
   "execution_count": 1,
   "metadata": {},
   "outputs": [],
   "source": [
    "import numpy as np\n",
    "import pandas as pd\n",
    "import pylab\n",
    "from mpl_toolkits.mplot3d import Axes3D\n",
    "from sklearn.decomposition import PCA\n",
    "from sklearn.preprocessing import StandardScaler\n",
    "%matplotlib notebook"
   ]
  },
  {
   "cell_type": "markdown",
   "metadata": {},
   "source": [
    "Let's start by reading the data file `dados2.dat` and creating a dataframe"
   ]
  },
  {
   "cell_type": "code",
   "execution_count": 2,
   "metadata": {},
   "outputs": [],
   "source": [
    "with open('dados2.dat', 'r') as infile:\n",
    "    readlines = infile.readlines()\n",
    "    \n",
    "    df = []\n",
    "\n",
    "    for line in readlines: \n",
    "        temp = line.split('   ')\n",
    "        for elem in temp:\n",
    "            if elem == '':\n",
    "                temp.remove(elem)\n",
    "                continue\n",
    "            temp[temp.index(elem)] = float(elem.strip())\n",
    "        df.append([temp[0], float(temp[1]), temp[2], \n",
    "                   temp[3], temp[4], temp[5], temp[6], temp[7]])\n",
    "            \n",
    "df = pd.DataFrame(df)"
   ]
  },
  {
   "cell_type": "code",
   "execution_count": 3,
   "metadata": {},
   "outputs": [
    {
     "data": {
      "text/html": [
       "<div>\n",
       "<style scoped>\n",
       "    .dataframe tbody tr th:only-of-type {\n",
       "        vertical-align: middle;\n",
       "    }\n",
       "\n",
       "    .dataframe tbody tr th {\n",
       "        vertical-align: top;\n",
       "    }\n",
       "\n",
       "    .dataframe thead th {\n",
       "        text-align: right;\n",
       "    }\n",
       "</style>\n",
       "<table border=\"1\" class=\"dataframe\">\n",
       "  <thead>\n",
       "    <tr style=\"text-align: right;\">\n",
       "      <th></th>\n",
       "      <th>0</th>\n",
       "      <th>1</th>\n",
       "      <th>2</th>\n",
       "      <th>3</th>\n",
       "      <th>4</th>\n",
       "      <th>5</th>\n",
       "      <th>6</th>\n",
       "      <th>7</th>\n",
       "    </tr>\n",
       "  </thead>\n",
       "  <tbody>\n",
       "    <tr>\n",
       "      <th>0</th>\n",
       "      <td>-27.403900</td>\n",
       "      <td>34.90900</td>\n",
       "      <td>0.950377</td>\n",
       "      <td>3.307300</td>\n",
       "      <td>34.4068</td>\n",
       "      <td>18.614400</td>\n",
       "      <td>45.17680</td>\n",
       "      <td>4.340000</td>\n",
       "    </tr>\n",
       "    <tr>\n",
       "      <th>1</th>\n",
       "      <td>1.017860</td>\n",
       "      <td>2.93073</td>\n",
       "      <td>19.793900</td>\n",
       "      <td>29.140500</td>\n",
       "      <td>71.2174</td>\n",
       "      <td>9.205330</td>\n",
       "      <td>7.38931</td>\n",
       "      <td>0.030000</td>\n",
       "    </tr>\n",
       "    <tr>\n",
       "      <th>2</th>\n",
       "      <td>0.657983</td>\n",
       "      <td>4.93615</td>\n",
       "      <td>14.504800</td>\n",
       "      <td>20.598800</td>\n",
       "      <td>117.9200</td>\n",
       "      <td>16.853100</td>\n",
       "      <td>11.44240</td>\n",
       "      <td>0.070000</td>\n",
       "    </tr>\n",
       "    <tr>\n",
       "      <th>3</th>\n",
       "      <td>-9.000650</td>\n",
       "      <td>10.95240</td>\n",
       "      <td>18.637400</td>\n",
       "      <td>24.973700</td>\n",
       "      <td>108.0280</td>\n",
       "      <td>19.796300</td>\n",
       "      <td>23.60180</td>\n",
       "      <td>3.070000</td>\n",
       "    </tr>\n",
       "    <tr>\n",
       "      <th>4</th>\n",
       "      <td>-21.196100</td>\n",
       "      <td>33.01210</td>\n",
       "      <td>0.457121</td>\n",
       "      <td>21.014900</td>\n",
       "      <td>21.7571</td>\n",
       "      <td>3.921380</td>\n",
       "      <td>14.18610</td>\n",
       "      <td>0.929999</td>\n",
       "    </tr>\n",
       "    <tr>\n",
       "      <th>...</th>\n",
       "      <td>...</td>\n",
       "      <td>...</td>\n",
       "      <td>...</td>\n",
       "      <td>...</td>\n",
       "      <td>...</td>\n",
       "      <td>...</td>\n",
       "      <td>...</td>\n",
       "      <td>...</td>\n",
       "    </tr>\n",
       "    <tr>\n",
       "      <th>1147</th>\n",
       "      <td>3.177660</td>\n",
       "      <td>2.90066</td>\n",
       "      <td>17.194900</td>\n",
       "      <td>3.562290</td>\n",
       "      <td>52.6569</td>\n",
       "      <td>7.129460</td>\n",
       "      <td>10.08440</td>\n",
       "      <td>0.090000</td>\n",
       "    </tr>\n",
       "    <tr>\n",
       "      <th>1148</th>\n",
       "      <td>-44.904600</td>\n",
       "      <td>4.90608</td>\n",
       "      <td>11.905800</td>\n",
       "      <td>25.020600</td>\n",
       "      <td>99.3595</td>\n",
       "      <td>14.777200</td>\n",
       "      <td>14.13750</td>\n",
       "      <td>0.310000</td>\n",
       "    </tr>\n",
       "    <tr>\n",
       "      <th>1149</th>\n",
       "      <td>-6.102160</td>\n",
       "      <td>16.93860</td>\n",
       "      <td>0.171050</td>\n",
       "      <td>3.770360</td>\n",
       "      <td>79.5754</td>\n",
       "      <td>0.663618</td>\n",
       "      <td>38.45630</td>\n",
       "      <td>3.420000</td>\n",
       "    </tr>\n",
       "    <tr>\n",
       "      <th>1150</th>\n",
       "      <td>0.340030</td>\n",
       "      <td>1.00368</td>\n",
       "      <td>16.701600</td>\n",
       "      <td>21.269900</td>\n",
       "      <td>40.0071</td>\n",
       "      <td>12.436500</td>\n",
       "      <td>33.09370</td>\n",
       "      <td>0.030000</td>\n",
       "    </tr>\n",
       "    <tr>\n",
       "      <th>1151</th>\n",
       "      <td>-39.694700</td>\n",
       "      <td>13.03620</td>\n",
       "      <td>4.966910</td>\n",
       "      <td>0.019693</td>\n",
       "      <td>20.2230</td>\n",
       "      <td>18.322900</td>\n",
       "      <td>3.41240</td>\n",
       "      <td>241.567000</td>\n",
       "    </tr>\n",
       "  </tbody>\n",
       "</table>\n",
       "<p>1152 rows × 8 columns</p>\n",
       "</div>"
      ],
      "text/plain": [
       "              0         1          2          3         4          5  \\\n",
       "0    -27.403900  34.90900   0.950377   3.307300   34.4068  18.614400   \n",
       "1      1.017860   2.93073  19.793900  29.140500   71.2174   9.205330   \n",
       "2      0.657983   4.93615  14.504800  20.598800  117.9200  16.853100   \n",
       "3     -9.000650  10.95240  18.637400  24.973700  108.0280  19.796300   \n",
       "4    -21.196100  33.01210   0.457121  21.014900   21.7571   3.921380   \n",
       "...         ...       ...        ...        ...       ...        ...   \n",
       "1147   3.177660   2.90066  17.194900   3.562290   52.6569   7.129460   \n",
       "1148 -44.904600   4.90608  11.905800  25.020600   99.3595  14.777200   \n",
       "1149  -6.102160  16.93860   0.171050   3.770360   79.5754   0.663618   \n",
       "1150   0.340030   1.00368  16.701600  21.269900   40.0071  12.436500   \n",
       "1151 -39.694700  13.03620   4.966910   0.019693   20.2230  18.322900   \n",
       "\n",
       "             6           7  \n",
       "0     45.17680    4.340000  \n",
       "1      7.38931    0.030000  \n",
       "2     11.44240    0.070000  \n",
       "3     23.60180    3.070000  \n",
       "4     14.18610    0.929999  \n",
       "...        ...         ...  \n",
       "1147  10.08440    0.090000  \n",
       "1148  14.13750    0.310000  \n",
       "1149  38.45630    3.420000  \n",
       "1150  33.09370    0.030000  \n",
       "1151   3.41240  241.567000  \n",
       "\n",
       "[1152 rows x 8 columns]"
      ]
     },
     "execution_count": 3,
     "metadata": {},
     "output_type": "execute_result"
    }
   ],
   "source": [
    "df"
   ]
  },
  {
   "cell_type": "markdown",
   "metadata": {},
   "source": [
    "## Apply PCA to whole dataframe"
   ]
  },
  {
   "cell_type": "code",
   "execution_count": 4,
   "metadata": {},
   "outputs": [],
   "source": [
    "nDF = StandardScaler().fit_transform(df)\n",
    "pca = PCA(n_components=2)\n",
    "principal_components = pca.fit_transform(nDF)\n",
    "\n",
    "principalDf = pd.DataFrame(data=principal_components, \n",
    "                           columns = ['principal component 1', 'principal component 2'])"
   ]
  },
  {
   "cell_type": "code",
   "execution_count": 5,
   "metadata": {},
   "outputs": [
    {
     "data": {
      "text/plain": [
       "<matplotlib.axes._subplots.AxesSubplot at 0x243cdea5438>"
      ]
     },
     "execution_count": 5,
     "metadata": {},
     "output_type": "execute_result"
    },
    {
     "data": {
      "image/png": "[encoded data removed]",
      "text/plain": [
       "<Figure size 432x288 with 1 Axes>"
      ]
     },
     "metadata": {
      "needs_background": "light"
     },
     "output_type": "display_data"
    }
   ],
   "source": [
    "principalDf.plot(x='principal component 1', y='principal component 2', kind='scatter')"
   ]
  },
  {
   "cell_type": "code",
   "execution_count": 6,
   "metadata": {},
   "outputs": [
    {
     "data": {
      "text/plain": [
       "array([[-0.06231662,  0.60034468, -0.63131745, -0.24360051, -0.00352116,\n",
       "        -0.32038198,  0.0171435 ,  0.27358557],\n",
       "       [ 0.0514632 , -0.16308624,  0.07948795, -0.39625732,  0.5882363 ,\n",
       "         0.32832776,  0.10172944,  0.58587223]])"
      ]
     },
     "execution_count": 6,
     "metadata": {},
     "output_type": "execute_result"
    }
   ],
   "source": [
    "pca.components_"
   ]
  },
  {
   "cell_type": "code",
   "execution_count": 7,
   "metadata": {},
   "outputs": [
    {
     "data": {
      "text/plain": [
       "array([0.23667604, 0.14361326])"
      ]
     },
     "execution_count": 7,
     "metadata": {},
     "output_type": "execute_result"
    }
   ],
   "source": [
    "pca.explained_variance_ratio_"
   ]
  },
  {
   "cell_type": "markdown",
   "metadata": {},
   "source": [
    "From column weight on PC1, column influence to output is:\n",
    "- `Column 2`\n",
    "- `Column 1`\n",
    "- `Column 5`\n",
    "- `Column 3`\n",
    "- `Column 0`\n",
    "- `Column 6`\n",
    "- `Column 4`"
   ]
  },
  {
   "cell_type": "code",
   "execution_count": null,
   "metadata": {},
   "outputs": [],
   "source": []
  }
 ],
 "metadata": {
  "kernelspec": {
   "display_name": "Python 3",
   "language": "python",
   "name": "python3"
  },
  "language_info": {
   "codemirror_mode": {
    "name": "ipython",
    "version": 3
   },
   "file_extension": ".py",
   "mimetype": "text/x-python",
   "name": "python",
   "nbconvert_exporter": "python",
   "pygments_lexer": "ipython3",
   "version": "3.7.1"
  }
 },
 "nbformat": 4,
 "nbformat_minor": 2
}
