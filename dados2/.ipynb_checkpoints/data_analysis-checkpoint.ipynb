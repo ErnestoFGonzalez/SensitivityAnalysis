{
 "cells": [
  {
   "cell_type": "markdown",
   "metadata": {},
   "source": [
    "Author: Ernesto González Date: 23/01/2020"
   ]
  },
  {
   "cell_type": "code",
   "execution_count": 1,
   "metadata": {},
   "outputs": [],
   "source": [
    "import numpy as np\n",
    "import pandas as pd\n",
    "import pylab\n",
    "from mpl_toolkits.mplot3d import Axes3D\n",
    "from sklearn.cluster import KMeans\n",
    "from sklearn.decomposition import PCA\n",
    "from sklearn.preprocessing import StandardScaler\n",
    "%matplotlib notebook"
   ]
  },
  {
   "cell_type": "markdown",
   "metadata": {},
   "source": [
    "Let's start by reading the data file `dados2.dat` and creating a dataframe"
   ]
  },
  {
   "cell_type": "code",
   "execution_count": 2,
   "metadata": {},
   "outputs": [],
   "source": [
    "with open('dados2.dat', 'r') as infile:\n",
    "    readlines = infile.readlines()\n",
    "    \n",
    "    df = []\n",
    "\n",
    "    for line in readlines: \n",
    "        temp = line.split('   ')\n",
    "        for elem in temp:\n",
    "            if elem == '':\n",
    "                temp.remove(elem)\n",
    "                continue\n",
    "            temp[temp.index(elem)] = float(elem.strip())\n",
    "        df.append([temp[0], float(temp[1]), temp[2], \n",
    "                   temp[3], temp[4], temp[5], temp[6], temp[7]])\n",
    "            \n",
    "df = pd.DataFrame(df)"
   ]
  },
  {
   "cell_type": "code",
   "execution_count": 3,
   "metadata": {},
   "outputs": [
    {
     "data": {
      "text/html": [
       "<div>\n",
       "<style scoped>\n",
       "    .dataframe tbody tr th:only-of-type {\n",
       "        vertical-align: middle;\n",
       "    }\n",
       "\n",
       "    .dataframe tbody tr th {\n",
       "        vertical-align: top;\n",
       "    }\n",
       "\n",
       "    .dataframe thead th {\n",
       "        text-align: right;\n",
       "    }\n",
       "</style>\n",
       "<table border=\"1\" class=\"dataframe\">\n",
       "  <thead>\n",
       "    <tr style=\"text-align: right;\">\n",
       "      <th></th>\n",
       "      <th>0</th>\n",
       "      <th>1</th>\n",
       "      <th>2</th>\n",
       "      <th>3</th>\n",
       "      <th>4</th>\n",
       "      <th>5</th>\n",
       "      <th>6</th>\n",
       "      <th>7</th>\n",
       "    </tr>\n",
       "  </thead>\n",
       "  <tbody>\n",
       "    <tr>\n",
       "      <th>0</th>\n",
       "      <td>-27.403900</td>\n",
       "      <td>34.90900</td>\n",
       "      <td>0.950377</td>\n",
       "      <td>3.307300</td>\n",
       "      <td>34.4068</td>\n",
       "      <td>18.614400</td>\n",
       "      <td>45.17680</td>\n",
       "      <td>4.340000</td>\n",
       "    </tr>\n",
       "    <tr>\n",
       "      <th>1</th>\n",
       "      <td>1.017860</td>\n",
       "      <td>2.93073</td>\n",
       "      <td>19.793900</td>\n",
       "      <td>29.140500</td>\n",
       "      <td>71.2174</td>\n",
       "      <td>9.205330</td>\n",
       "      <td>7.38931</td>\n",
       "      <td>0.030000</td>\n",
       "    </tr>\n",
       "    <tr>\n",
       "      <th>2</th>\n",
       "      <td>0.657983</td>\n",
       "      <td>4.93615</td>\n",
       "      <td>14.504800</td>\n",
       "      <td>20.598800</td>\n",
       "      <td>117.9200</td>\n",
       "      <td>16.853100</td>\n",
       "      <td>11.44240</td>\n",
       "      <td>0.070000</td>\n",
       "    </tr>\n",
       "    <tr>\n",
       "      <th>3</th>\n",
       "      <td>-9.000650</td>\n",
       "      <td>10.95240</td>\n",
       "      <td>18.637400</td>\n",
       "      <td>24.973700</td>\n",
       "      <td>108.0280</td>\n",
       "      <td>19.796300</td>\n",
       "      <td>23.60180</td>\n",
       "      <td>3.070000</td>\n",
       "    </tr>\n",
       "    <tr>\n",
       "      <th>4</th>\n",
       "      <td>-21.196100</td>\n",
       "      <td>33.01210</td>\n",
       "      <td>0.457121</td>\n",
       "      <td>21.014900</td>\n",
       "      <td>21.7571</td>\n",
       "      <td>3.921380</td>\n",
       "      <td>14.18610</td>\n",
       "      <td>0.929999</td>\n",
       "    </tr>\n",
       "    <tr>\n",
       "      <th>...</th>\n",
       "      <td>...</td>\n",
       "      <td>...</td>\n",
       "      <td>...</td>\n",
       "      <td>...</td>\n",
       "      <td>...</td>\n",
       "      <td>...</td>\n",
       "      <td>...</td>\n",
       "      <td>...</td>\n",
       "    </tr>\n",
       "    <tr>\n",
       "      <th>1147</th>\n",
       "      <td>3.177660</td>\n",
       "      <td>2.90066</td>\n",
       "      <td>17.194900</td>\n",
       "      <td>3.562290</td>\n",
       "      <td>52.6569</td>\n",
       "      <td>7.129460</td>\n",
       "      <td>10.08440</td>\n",
       "      <td>0.090000</td>\n",
       "    </tr>\n",
       "    <tr>\n",
       "      <th>1148</th>\n",
       "      <td>-44.904600</td>\n",
       "      <td>4.90608</td>\n",
       "      <td>11.905800</td>\n",
       "      <td>25.020600</td>\n",
       "      <td>99.3595</td>\n",
       "      <td>14.777200</td>\n",
       "      <td>14.13750</td>\n",
       "      <td>0.310000</td>\n",
       "    </tr>\n",
       "    <tr>\n",
       "      <th>1149</th>\n",
       "      <td>-6.102160</td>\n",
       "      <td>16.93860</td>\n",
       "      <td>0.171050</td>\n",
       "      <td>3.770360</td>\n",
       "      <td>79.5754</td>\n",
       "      <td>0.663618</td>\n",
       "      <td>38.45630</td>\n",
       "      <td>3.420000</td>\n",
       "    </tr>\n",
       "    <tr>\n",
       "      <th>1150</th>\n",
       "      <td>0.340030</td>\n",
       "      <td>1.00368</td>\n",
       "      <td>16.701600</td>\n",
       "      <td>21.269900</td>\n",
       "      <td>40.0071</td>\n",
       "      <td>12.436500</td>\n",
       "      <td>33.09370</td>\n",
       "      <td>0.030000</td>\n",
       "    </tr>\n",
       "    <tr>\n",
       "      <th>1151</th>\n",
       "      <td>-39.694700</td>\n",
       "      <td>13.03620</td>\n",
       "      <td>4.966910</td>\n",
       "      <td>0.019693</td>\n",
       "      <td>20.2230</td>\n",
       "      <td>18.322900</td>\n",
       "      <td>3.41240</td>\n",
       "      <td>241.567000</td>\n",
       "    </tr>\n",
       "  </tbody>\n",
       "</table>\n",
       "<p>1152 rows × 8 columns</p>\n",
       "</div>"
      ],
      "text/plain": [
       "              0         1          2          3         4          5  \\\n",
       "0    -27.403900  34.90900   0.950377   3.307300   34.4068  18.614400   \n",
       "1      1.017860   2.93073  19.793900  29.140500   71.2174   9.205330   \n",
       "2      0.657983   4.93615  14.504800  20.598800  117.9200  16.853100   \n",
       "3     -9.000650  10.95240  18.637400  24.973700  108.0280  19.796300   \n",
       "4    -21.196100  33.01210   0.457121  21.014900   21.7571   3.921380   \n",
       "...         ...       ...        ...        ...       ...        ...   \n",
       "1147   3.177660   2.90066  17.194900   3.562290   52.6569   7.129460   \n",
       "1148 -44.904600   4.90608  11.905800  25.020600   99.3595  14.777200   \n",
       "1149  -6.102160  16.93860   0.171050   3.770360   79.5754   0.663618   \n",
       "1150   0.340030   1.00368  16.701600  21.269900   40.0071  12.436500   \n",
       "1151 -39.694700  13.03620   4.966910   0.019693   20.2230  18.322900   \n",
       "\n",
       "             6           7  \n",
       "0     45.17680    4.340000  \n",
       "1      7.38931    0.030000  \n",
       "2     11.44240    0.070000  \n",
       "3     23.60180    3.070000  \n",
       "4     14.18610    0.929999  \n",
       "...        ...         ...  \n",
       "1147  10.08440    0.090000  \n",
       "1148  14.13750    0.310000  \n",
       "1149  38.45630    3.420000  \n",
       "1150  33.09370    0.030000  \n",
       "1151   3.41240  241.567000  \n",
       "\n",
       "[1152 rows x 8 columns]"
      ]
     },
     "execution_count": 3,
     "metadata": {},
     "output_type": "execute_result"
    }
   ],
   "source": [
    "df"
   ]
  },
  {
   "cell_type": "code",
   "execution_count": 4,
   "metadata": {},
   "outputs": [
    {
     "data": {
      "text/html": [
       "<div>\n",
       "<style scoped>\n",
       "    .dataframe tbody tr th:only-of-type {\n",
       "        vertical-align: middle;\n",
       "    }\n",
       "\n",
       "    .dataframe tbody tr th {\n",
       "        vertical-align: top;\n",
       "    }\n",
       "\n",
       "    .dataframe thead th {\n",
       "        text-align: right;\n",
       "    }\n",
       "</style>\n",
       "<table border=\"1\" class=\"dataframe\">\n",
       "  <thead>\n",
       "    <tr style=\"text-align: right;\">\n",
       "      <th></th>\n",
       "      <th>0</th>\n",
       "      <th>1</th>\n",
       "      <th>2</th>\n",
       "      <th>3</th>\n",
       "      <th>4</th>\n",
       "      <th>5</th>\n",
       "      <th>6</th>\n",
       "      <th>7</th>\n",
       "    </tr>\n",
       "  </thead>\n",
       "  <tbody>\n",
       "    <tr>\n",
       "      <th>0</th>\n",
       "      <td>-49.9542</td>\n",
       "      <td>0.004377</td>\n",
       "      <td>0.001088</td>\n",
       "      <td>0.00426</td>\n",
       "      <td>0.02008</td>\n",
       "      <td>0.003733</td>\n",
       "      <td>0.031668</td>\n",
       "      <td>0.01</td>\n",
       "    </tr>\n",
       "  </tbody>\n",
       "</table>\n",
       "</div>"
      ],
      "text/plain": [
       "         0         1         2        3        4         5         6     7\n",
       "0 -49.9542  0.004377  0.001088  0.00426  0.02008  0.003733  0.031668  0.01"
      ]
     },
     "execution_count": 4,
     "metadata": {},
     "output_type": "execute_result"
    }
   ],
   "source": [
    "pd.DataFrame(df.values.min(0)[None, :], columns=df.columns)"
   ]
  },
  {
   "cell_type": "markdown",
   "metadata": {},
   "source": [
    "## Apply PCA to whole dataframe"
   ]
  },
  {
   "cell_type": "code",
   "execution_count": 5,
   "metadata": {},
   "outputs": [],
   "source": [
    "nDF = StandardScaler().fit_transform(df)\n",
    "pca = PCA(n_components=2)\n",
    "principal_components = pca.fit_transform(nDF)\n",
    "\n",
    "principalDf = pd.DataFrame(data=principal_components, \n",
    "                           columns = ['principal component 1', 'principal component 2'])"
   ]
  },
  {
   "cell_type": "code",
   "execution_count": 6,
   "metadata": {},
   "outputs": [
    {
     "data": {
      "text/plain": [
       "<matplotlib.axes._subplots.AxesSubplot at 0x7fcb4a7faa20>"
      ]
     },
     "execution_count": 6,
     "metadata": {},
     "output_type": "execute_result"
    },
    {
     "data": {
      "image/png": "[encoded data removed]",
      "text/plain": [
       "<Figure size 432x288 with 1 Axes>"
      ]
     },
     "metadata": {
      "needs_background": "light"
     },
     "output_type": "display_data"
    }
   ],
   "source": [
    "principalDf.plot(x='principal component 1', y='principal component 2', kind='scatter')"
   ]
  },
  {
   "cell_type": "code",
   "execution_count": 7,
   "metadata": {},
   "outputs": [
    {
     "data": {
      "image/png": "[encoded data removed]",
      "text/plain": [
       "<Figure size 432x288 with 1 Axes>"
      ]
     },
     "metadata": {
      "needs_background": "light"
     },
     "output_type": "display_data"
    }
   ],
   "source": [
    "pylab.plot(principalDf['principal component 1'], principalDf['principal component 2'], 'bo', markersize=2.5)\n",
    "pylab.xlabel('$x_i \\cdot w_1$', fontsize=15)\n",
    "pylab.ylabel('$x_i \\cdot w_2$', fontsize=15)\n",
    "pylab.xticks(fontsize=14)\n",
    "pylab.yticks(fontsize=14)\n",
    "pylab.savefig('PCA-results-dataset2.png')\n",
    "pylab.show()"
   ]
  },
  {
   "cell_type": "code",
   "execution_count": 8,
   "metadata": {},
   "outputs": [
    {
     "data": {
      "text/plain": [
       "array([[-0.06231662,  0.60034468, -0.63131745, -0.24360051, -0.00352116,\n",
       "        -0.32038198,  0.0171435 ,  0.27358557],\n",
       "       [ 0.0514632 , -0.16308624,  0.07948795, -0.39625732,  0.5882363 ,\n",
       "         0.32832776,  0.10172944,  0.58587223]])"
      ]
     },
     "execution_count": 8,
     "metadata": {},
     "output_type": "execute_result"
    }
   ],
   "source": [
    "pca.components_"
   ]
  },
  {
   "cell_type": "code",
   "execution_count": 9,
   "metadata": {},
   "outputs": [
    {
     "data": {
      "text/plain": [
       "array([0.23667604, 0.14361326])"
      ]
     },
     "execution_count": 9,
     "metadata": {},
     "output_type": "execute_result"
    }
   ],
   "source": [
    "pca.explained_variance_ratio_"
   ]
  },
  {
   "cell_type": "markdown",
   "metadata": {},
   "source": [
    "From column weight on PC1, column influence to output is:\n",
    "- `Column 2`\n",
    "- `Column 1`\n",
    "- `Column 5`\n",
    "- `Column 3`\n",
    "- `Column 0`\n",
    "- `Column 6`\n",
    "- `Column 4`"
   ]
  },
  {
   "cell_type": "markdown",
   "metadata": {},
   "source": [
    "## Divide data in two regimes (clustering with K-Means"
   ]
  },
  {
   "cell_type": "code",
   "execution_count": 10,
   "metadata": {},
   "outputs": [],
   "source": [
    "kmeans = KMeans(n_clusters=2)\n",
    "y = kmeans.fit_predict(principalDf[['principal component 1', 'principal component 2']])\n",
    "principalDf['Cluster'] = y"
   ]
  },
  {
   "cell_type": "code",
   "execution_count": 11,
   "metadata": {},
   "outputs": [
    {
     "data": {
      "text/plain": [
       "array([[-0.87427607,  0.06086932],\n",
       "       [ 1.77616087, -0.12366083]])"
      ]
     },
     "execution_count": 11,
     "metadata": {},
     "output_type": "execute_result"
    }
   ],
   "source": [
    "kmeans.cluster_centers_"
   ]
  },
  {
   "cell_type": "code",
   "execution_count": 12,
   "metadata": {},
   "outputs": [],
   "source": [
    "# Get closest point to each centroid\n",
    "min_distance = 10\n",
    "min_i = 1\n",
    "for i in range(1152):\n",
    "    point_x = principalDf['principal component 1'].values[i]\n",
    "    point_y = principalDf['principal component 2'].values[i]\n",
    "    distance = np.sqrt((point_x+0.87427607)**2 + (point_y-0.06086932)**2 ) \n",
    "    if distance < min_distance:\n",
    "        min_distance = distance\n",
    "        min_i = i"
   ]
  },
  {
   "cell_type": "code",
   "execution_count": 13,
   "metadata": {},
   "outputs": [
    {
     "data": {
      "text/plain": [
       "723"
      ]
     },
     "execution_count": 13,
     "metadata": {},
     "output_type": "execute_result"
    }
   ],
   "source": [
    "min_i"
   ]
  },
  {
   "cell_type": "code",
   "execution_count": 14,
   "metadata": {},
   "outputs": [
    {
     "data": {
      "text/plain": [
       "0     0.280382\n",
       "1     0.994736\n",
       "2    13.549800\n",
       "3    10.157000\n",
       "4    57.242000\n",
       "5    12.287800\n",
       "6    35.083900\n",
       "7     0.030000\n",
       "Name: 723, dtype: float64"
      ]
     },
     "execution_count": 14,
     "metadata": {},
     "output_type": "execute_result"
    }
   ],
   "source": [
    "df.iloc[723]"
   ]
  },
  {
   "cell_type": "markdown",
   "metadata": {},
   "source": [
    "Point in row 723 is closest to centroid 0"
   ]
  },
  {
   "cell_type": "code",
   "execution_count": 15,
   "metadata": {},
   "outputs": [],
   "source": [
    "min_distance = 10\n",
    "min_i = 1\n",
    "for i in range(1152):\n",
    "    point_x = principalDf['principal component 1'].values[i]\n",
    "    point_y = principalDf['principal component 2'].values[i]\n",
    "    distance = np.sqrt((point_x-1.77616087)**2 + (point_y+0.12366083)**2 ) \n",
    "    if distance < min_distance:\n",
    "        min_distance = distance\n",
    "        min_i = i"
   ]
  },
  {
   "cell_type": "code",
   "execution_count": 16,
   "metadata": {},
   "outputs": [
    {
     "data": {
      "text/plain": [
       "393"
      ]
     },
     "execution_count": 16,
     "metadata": {},
     "output_type": "execute_result"
    }
   ],
   "source": [
    "min_i"
   ]
  },
  {
   "cell_type": "code",
   "execution_count": 17,
   "metadata": {},
   "outputs": [
    {
     "data": {
      "text/plain": [
       "0     1.759890\n",
       "1    37.302100\n",
       "2     0.259542\n",
       "3     9.847910\n",
       "4    49.783400\n",
       "5    19.737500\n",
       "6    23.357100\n",
       "7     7.140070\n",
       "Name: 393, dtype: float64"
      ]
     },
     "execution_count": 17,
     "metadata": {},
     "output_type": "execute_result"
    }
   ],
   "source": [
    "df.iloc[393]"
   ]
  },
  {
   "cell_type": "code",
   "execution_count": 18,
   "metadata": {},
   "outputs": [
    {
     "data": {
      "text/html": [
       "<div>\n",
       "<style scoped>\n",
       "    .dataframe tbody tr th:only-of-type {\n",
       "        vertical-align: middle;\n",
       "    }\n",
       "\n",
       "    .dataframe tbody tr th {\n",
       "        vertical-align: top;\n",
       "    }\n",
       "\n",
       "    .dataframe thead th {\n",
       "        text-align: right;\n",
       "    }\n",
       "</style>\n",
       "<table border=\"1\" class=\"dataframe\">\n",
       "  <thead>\n",
       "    <tr style=\"text-align: right;\">\n",
       "      <th></th>\n",
       "      <th>principal component 1</th>\n",
       "      <th>principal component 2</th>\n",
       "      <th>Cluster</th>\n",
       "    </tr>\n",
       "  </thead>\n",
       "  <tbody>\n",
       "    <tr>\n",
       "      <th>0</th>\n",
       "      <td>1.959243</td>\n",
       "      <td>-0.094939</td>\n",
       "      <td>1</td>\n",
       "    </tr>\n",
       "    <tr>\n",
       "      <th>1</th>\n",
       "      <td>-1.666864</td>\n",
       "      <td>-0.882865</td>\n",
       "      <td>0</td>\n",
       "    </tr>\n",
       "    <tr>\n",
       "      <th>2</th>\n",
       "      <td>-1.314353</td>\n",
       "      <td>0.529521</td>\n",
       "      <td>0</td>\n",
       "    </tr>\n",
       "    <tr>\n",
       "      <th>3</th>\n",
       "      <td>-1.602360</td>\n",
       "      <td>0.428567</td>\n",
       "      <td>0</td>\n",
       "    </tr>\n",
       "    <tr>\n",
       "      <th>4</th>\n",
       "      <td>2.221280</td>\n",
       "      <td>-2.152022</td>\n",
       "      <td>1</td>\n",
       "    </tr>\n",
       "    <tr>\n",
       "      <th>...</th>\n",
       "      <td>...</td>\n",
       "      <td>...</td>\n",
       "      <td>...</td>\n",
       "    </tr>\n",
       "    <tr>\n",
       "      <th>1147</th>\n",
       "      <td>-0.616426</td>\n",
       "      <td>-0.121670</td>\n",
       "      <td>0</td>\n",
       "    </tr>\n",
       "    <tr>\n",
       "      <th>1148</th>\n",
       "      <td>-0.912584</td>\n",
       "      <td>-0.187558</td>\n",
       "      <td>0</td>\n",
       "    </tr>\n",
       "    <tr>\n",
       "      <th>1149</th>\n",
       "      <td>2.070739</td>\n",
       "      <td>-0.354459</td>\n",
       "      <td>1</td>\n",
       "    </tr>\n",
       "    <tr>\n",
       "      <th>1150</th>\n",
       "      <td>-1.434964</td>\n",
       "      <td>-0.595487</td>\n",
       "      <td>0</td>\n",
       "    </tr>\n",
       "    <tr>\n",
       "      <th>1151</th>\n",
       "      <td>1.862448</td>\n",
       "      <td>2.608349</td>\n",
       "      <td>1</td>\n",
       "    </tr>\n",
       "  </tbody>\n",
       "</table>\n",
       "<p>1152 rows × 3 columns</p>\n",
       "</div>"
      ],
      "text/plain": [
       "      principal component 1  principal component 2  Cluster\n",
       "0                  1.959243              -0.094939        1\n",
       "1                 -1.666864              -0.882865        0\n",
       "2                 -1.314353               0.529521        0\n",
       "3                 -1.602360               0.428567        0\n",
       "4                  2.221280              -2.152022        1\n",
       "...                     ...                    ...      ...\n",
       "1147              -0.616426              -0.121670        0\n",
       "1148              -0.912584              -0.187558        0\n",
       "1149               2.070739              -0.354459        1\n",
       "1150              -1.434964              -0.595487        0\n",
       "1151               1.862448               2.608349        1\n",
       "\n",
       "[1152 rows x 3 columns]"
      ]
     },
     "execution_count": 18,
     "metadata": {},
     "output_type": "execute_result"
    }
   ],
   "source": [
    "principalDf"
   ]
  },
  {
   "cell_type": "markdown",
   "metadata": {},
   "source": [
    "### First Regime"
   ]
  },
  {
   "cell_type": "code",
   "execution_count": 19,
   "metadata": {},
   "outputs": [],
   "source": [
    "first_regime_idx = principalDf.index[principalDf['Cluster']==0]\n",
    "firstRegimeDf = df.loc[first_regime_idx]"
   ]
  },
  {
   "cell_type": "code",
   "execution_count": 20,
   "metadata": {},
   "outputs": [
    {
     "data": {
      "text/html": [
       "<div>\n",
       "<style scoped>\n",
       "    .dataframe tbody tr th:only-of-type {\n",
       "        vertical-align: middle;\n",
       "    }\n",
       "\n",
       "    .dataframe tbody tr th {\n",
       "        vertical-align: top;\n",
       "    }\n",
       "\n",
       "    .dataframe thead th {\n",
       "        text-align: right;\n",
       "    }\n",
       "</style>\n",
       "<table border=\"1\" class=\"dataframe\">\n",
       "  <thead>\n",
       "    <tr style=\"text-align: right;\">\n",
       "      <th></th>\n",
       "      <th>0</th>\n",
       "      <th>1</th>\n",
       "      <th>2</th>\n",
       "      <th>3</th>\n",
       "      <th>4</th>\n",
       "      <th>5</th>\n",
       "      <th>6</th>\n",
       "      <th>7</th>\n",
       "    </tr>\n",
       "  </thead>\n",
       "  <tbody>\n",
       "    <tr>\n",
       "      <th>1</th>\n",
       "      <td>1.017860</td>\n",
       "      <td>2.930730</td>\n",
       "      <td>19.79390</td>\n",
       "      <td>29.14050</td>\n",
       "      <td>71.21740</td>\n",
       "      <td>9.20533</td>\n",
       "      <td>7.38931</td>\n",
       "      <td>0.03</td>\n",
       "    </tr>\n",
       "    <tr>\n",
       "      <th>2</th>\n",
       "      <td>0.657983</td>\n",
       "      <td>4.936150</td>\n",
       "      <td>14.50480</td>\n",
       "      <td>20.59880</td>\n",
       "      <td>117.92000</td>\n",
       "      <td>16.85310</td>\n",
       "      <td>11.44240</td>\n",
       "      <td>0.07</td>\n",
       "    </tr>\n",
       "    <tr>\n",
       "      <th>3</th>\n",
       "      <td>-9.000650</td>\n",
       "      <td>10.952400</td>\n",
       "      <td>18.63740</td>\n",
       "      <td>24.97370</td>\n",
       "      <td>108.02800</td>\n",
       "      <td>19.79630</td>\n",
       "      <td>23.60180</td>\n",
       "      <td>3.07</td>\n",
       "    </tr>\n",
       "    <tr>\n",
       "      <th>5</th>\n",
       "      <td>2.180230</td>\n",
       "      <td>1.033750</td>\n",
       "      <td>19.30060</td>\n",
       "      <td>16.84810</td>\n",
       "      <td>58.56770</td>\n",
       "      <td>14.51230</td>\n",
       "      <td>30.39860</td>\n",
       "      <td>0.03</td>\n",
       "    </tr>\n",
       "    <tr>\n",
       "      <th>6</th>\n",
       "      <td>-15.986200</td>\n",
       "      <td>1.142200</td>\n",
       "      <td>13.51830</td>\n",
       "      <td>26.01400</td>\n",
       "      <td>92.62060</td>\n",
       "      <td>7.46707</td>\n",
       "      <td>3.46095</td>\n",
       "      <td>0.03</td>\n",
       "    </tr>\n",
       "    <tr>\n",
       "      <th>...</th>\n",
       "      <td>...</td>\n",
       "      <td>...</td>\n",
       "      <td>...</td>\n",
       "      <td>...</td>\n",
       "      <td>...</td>\n",
       "      <td>...</td>\n",
       "      <td>...</td>\n",
       "      <td>...</td>\n",
       "    </tr>\n",
       "    <tr>\n",
       "      <th>1145</th>\n",
       "      <td>-20.513700</td>\n",
       "      <td>0.786783</td>\n",
       "      <td>8.26637</td>\n",
       "      <td>2.93807</td>\n",
       "      <td>121.90100</td>\n",
       "      <td>6.52699</td>\n",
       "      <td>32.96890</td>\n",
       "      <td>0.05</td>\n",
       "    </tr>\n",
       "    <tr>\n",
       "      <th>1146</th>\n",
       "      <td>-24.505500</td>\n",
       "      <td>0.895232</td>\n",
       "      <td>2.48400</td>\n",
       "      <td>12.10400</td>\n",
       "      <td>5.95422</td>\n",
       "      <td>19.48170</td>\n",
       "      <td>6.03130</td>\n",
       "      <td>0.05</td>\n",
       "    </tr>\n",
       "    <tr>\n",
       "      <th>1147</th>\n",
       "      <td>3.177660</td>\n",
       "      <td>2.900660</td>\n",
       "      <td>17.19490</td>\n",
       "      <td>3.56229</td>\n",
       "      <td>52.65690</td>\n",
       "      <td>7.12946</td>\n",
       "      <td>10.08440</td>\n",
       "      <td>0.09</td>\n",
       "    </tr>\n",
       "    <tr>\n",
       "      <th>1148</th>\n",
       "      <td>-44.904600</td>\n",
       "      <td>4.906080</td>\n",
       "      <td>11.90580</td>\n",
       "      <td>25.02060</td>\n",
       "      <td>99.35950</td>\n",
       "      <td>14.77720</td>\n",
       "      <td>14.13750</td>\n",
       "      <td>0.31</td>\n",
       "    </tr>\n",
       "    <tr>\n",
       "      <th>1150</th>\n",
       "      <td>0.340030</td>\n",
       "      <td>1.003680</td>\n",
       "      <td>16.70160</td>\n",
       "      <td>21.26990</td>\n",
       "      <td>40.00710</td>\n",
       "      <td>12.43650</td>\n",
       "      <td>33.09370</td>\n",
       "      <td>0.03</td>\n",
       "    </tr>\n",
       "  </tbody>\n",
       "</table>\n",
       "<p>772 rows × 8 columns</p>\n",
       "</div>"
      ],
      "text/plain": [
       "              0          1         2         3          4         5         6  \\\n",
       "1      1.017860   2.930730  19.79390  29.14050   71.21740   9.20533   7.38931   \n",
       "2      0.657983   4.936150  14.50480  20.59880  117.92000  16.85310  11.44240   \n",
       "3     -9.000650  10.952400  18.63740  24.97370  108.02800  19.79630  23.60180   \n",
       "5      2.180230   1.033750  19.30060  16.84810   58.56770  14.51230  30.39860   \n",
       "6    -15.986200   1.142200  13.51830  26.01400   92.62060   7.46707   3.46095   \n",
       "...         ...        ...       ...       ...        ...       ...       ...   \n",
       "1145 -20.513700   0.786783   8.26637   2.93807  121.90100   6.52699  32.96890   \n",
       "1146 -24.505500   0.895232   2.48400  12.10400    5.95422  19.48170   6.03130   \n",
       "1147   3.177660   2.900660  17.19490   3.56229   52.65690   7.12946  10.08440   \n",
       "1148 -44.904600   4.906080  11.90580  25.02060   99.35950  14.77720  14.13750   \n",
       "1150   0.340030   1.003680  16.70160  21.26990   40.00710  12.43650  33.09370   \n",
       "\n",
       "         7  \n",
       "1     0.03  \n",
       "2     0.07  \n",
       "3     3.07  \n",
       "5     0.03  \n",
       "6     0.03  \n",
       "...    ...  \n",
       "1145  0.05  \n",
       "1146  0.05  \n",
       "1147  0.09  \n",
       "1148  0.31  \n",
       "1150  0.03  \n",
       "\n",
       "[772 rows x 8 columns]"
      ]
     },
     "execution_count": 20,
     "metadata": {},
     "output_type": "execute_result"
    }
   ],
   "source": [
    "firstRegimeDf"
   ]
  },
  {
   "cell_type": "markdown",
   "metadata": {},
   "source": [
    "So 772 datapoints belong to the first regime"
   ]
  },
  {
   "cell_type": "code",
   "execution_count": 21,
   "metadata": {},
   "outputs": [
    {
     "data": {
      "text/plain": [
       "<matplotlib.axes._subplots.AxesSubplot at 0x7fcb485e88d0>"
      ]
     },
     "execution_count": 21,
     "metadata": {},
     "output_type": "execute_result"
    },
    {
     "data": {
      "image/png": "[encoded data removed]",
      "text/plain": [
       "<Figure size 432x288 with 1 Axes>"
      ]
     },
     "metadata": {
      "needs_background": "light"
     },
     "output_type": "display_data"
    }
   ],
   "source": [
    "# Normalizing and applying PCA to second regime\n",
    "firstRegimeNDF = StandardScaler().fit_transform(firstRegimeDf)\n",
    "first_reg_pca = PCA(n_components=2)\n",
    "first_regime_principal_components = first_reg_pca.fit_transform(firstRegimeNDF)\n",
    "firstRegimeprincipalDf = pd.DataFrame(data=first_regime_principal_components, \n",
    "                           columns = ['principal component 1', 'principal component 2'])\n",
    "\n",
    "firstRegimeprincipalDf.plot(x='principal component 1', y='principal component 2', kind='scatter')"
   ]
  },
  {
   "cell_type": "code",
   "execution_count": 22,
   "metadata": {},
   "outputs": [
    {
     "data": {
      "text/plain": [
       "array([[ 0.05167536,  0.71278257,  0.20165599,  0.10337918,  0.12239173,\n",
       "         0.57249595, -0.06699038,  0.30116311],\n",
       "       [ 0.25039114, -0.13669263, -0.65579396,  0.34160131, -0.02438881,\n",
       "        -0.00583232, -0.10253742,  0.60059926]])"
      ]
     },
     "execution_count": 22,
     "metadata": {},
     "output_type": "execute_result"
    }
   ],
   "source": [
    "first_reg_pca.components_"
   ]
  },
  {
   "cell_type": "code",
   "execution_count": 23,
   "metadata": {},
   "outputs": [
    {
     "data": {
      "text/plain": [
       "array([1.53573338, 1.30485715])"
      ]
     },
     "execution_count": 23,
     "metadata": {},
     "output_type": "execute_result"
    }
   ],
   "source": [
    "first_reg_pca.explained_variance_"
   ]
  },
  {
   "cell_type": "markdown",
   "metadata": {},
   "source": [
    "### Second Regime"
   ]
  },
  {
   "cell_type": "code",
   "execution_count": 24,
   "metadata": {},
   "outputs": [],
   "source": [
    "second_regime_idx = principalDf.index[principalDf['Cluster']==1]\n",
    "secondRegimeDf = df.loc[second_regime_idx]"
   ]
  },
  {
   "cell_type": "code",
   "execution_count": 25,
   "metadata": {},
   "outputs": [
    {
     "data": {
      "text/html": [
       "<div>\n",
       "<style scoped>\n",
       "    .dataframe tbody tr th:only-of-type {\n",
       "        vertical-align: middle;\n",
       "    }\n",
       "\n",
       "    .dataframe tbody tr th {\n",
       "        vertical-align: top;\n",
       "    }\n",
       "\n",
       "    .dataframe thead th {\n",
       "        text-align: right;\n",
       "    }\n",
       "</style>\n",
       "<table border=\"1\" class=\"dataframe\">\n",
       "  <thead>\n",
       "    <tr style=\"text-align: right;\">\n",
       "      <th></th>\n",
       "      <th>0</th>\n",
       "      <th>1</th>\n",
       "      <th>2</th>\n",
       "      <th>3</th>\n",
       "      <th>4</th>\n",
       "      <th>5</th>\n",
       "      <th>6</th>\n",
       "      <th>7</th>\n",
       "    </tr>\n",
       "  </thead>\n",
       "  <tbody>\n",
       "    <tr>\n",
       "      <th>0</th>\n",
       "      <td>-27.40390</td>\n",
       "      <td>34.9090</td>\n",
       "      <td>0.950377</td>\n",
       "      <td>3.307300</td>\n",
       "      <td>34.40680</td>\n",
       "      <td>18.614400</td>\n",
       "      <td>45.1768</td>\n",
       "      <td>4.340000</td>\n",
       "    </tr>\n",
       "    <tr>\n",
       "      <th>4</th>\n",
       "      <td>-21.19610</td>\n",
       "      <td>33.0121</td>\n",
       "      <td>0.457121</td>\n",
       "      <td>21.014900</td>\n",
       "      <td>21.75710</td>\n",
       "      <td>3.921380</td>\n",
       "      <td>14.1861</td>\n",
       "      <td>0.929999</td>\n",
       "    </tr>\n",
       "    <tr>\n",
       "      <th>8</th>\n",
       "      <td>3.38396</td>\n",
       "      <td>21.1964</td>\n",
       "      <td>0.627083</td>\n",
       "      <td>0.596993</td>\n",
       "      <td>109.64700</td>\n",
       "      <td>3.944430</td>\n",
       "      <td>43.9921</td>\n",
       "      <td>7.370070</td>\n",
       "    </tr>\n",
       "    <tr>\n",
       "      <th>10</th>\n",
       "      <td>-11.77430</td>\n",
       "      <td>19.2995</td>\n",
       "      <td>0.133826</td>\n",
       "      <td>18.304600</td>\n",
       "      <td>96.99740</td>\n",
       "      <td>9.251430</td>\n",
       "      <td>13.0014</td>\n",
       "      <td>5.230020</td>\n",
       "    </tr>\n",
       "    <tr>\n",
       "      <th>11</th>\n",
       "      <td>-17.76200</td>\n",
       "      <td>39.4621</td>\n",
       "      <td>1.460260</td>\n",
       "      <td>2.053510</td>\n",
       "      <td>148.07700</td>\n",
       "      <td>18.683500</td>\n",
       "      <td>26.5950</td>\n",
       "      <td>152.955000</td>\n",
       "    </tr>\n",
       "    <tr>\n",
       "      <th>...</th>\n",
       "      <td>...</td>\n",
       "      <td>...</td>\n",
       "      <td>...</td>\n",
       "      <td>...</td>\n",
       "      <td>...</td>\n",
       "      <td>...</td>\n",
       "      <td>...</td>\n",
       "      <td>...</td>\n",
       "    </tr>\n",
       "    <tr>\n",
       "      <th>1138</th>\n",
       "      <td>-27.93960</td>\n",
       "      <td>34.4452</td>\n",
       "      <td>1.480860</td>\n",
       "      <td>1.065410</td>\n",
       "      <td>29.63460</td>\n",
       "      <td>4.719570</td>\n",
       "      <td>47.6224</td>\n",
       "      <td>1.330000</td>\n",
       "    </tr>\n",
       "    <tr>\n",
       "      <th>1141</th>\n",
       "      <td>3.73193</td>\n",
       "      <td>30.6512</td>\n",
       "      <td>0.494344</td>\n",
       "      <td>6.480660</td>\n",
       "      <td>4.33513</td>\n",
       "      <td>15.333600</td>\n",
       "      <td>39.6409</td>\n",
       "      <td>4.530010</td>\n",
       "    </tr>\n",
       "    <tr>\n",
       "      <th>1144</th>\n",
       "      <td>0.89430</td>\n",
       "      <td>28.7542</td>\n",
       "      <td>0.001088</td>\n",
       "      <td>24.188300</td>\n",
       "      <td>141.68500</td>\n",
       "      <td>0.640568</td>\n",
       "      <td>8.6502</td>\n",
       "      <td>5.480030</td>\n",
       "    </tr>\n",
       "    <tr>\n",
       "      <th>1149</th>\n",
       "      <td>-6.10216</td>\n",
       "      <td>16.9386</td>\n",
       "      <td>0.171050</td>\n",
       "      <td>3.770360</td>\n",
       "      <td>79.57540</td>\n",
       "      <td>0.663618</td>\n",
       "      <td>38.4563</td>\n",
       "      <td>3.420000</td>\n",
       "    </tr>\n",
       "    <tr>\n",
       "      <th>1151</th>\n",
       "      <td>-39.69470</td>\n",
       "      <td>13.0362</td>\n",
       "      <td>4.966910</td>\n",
       "      <td>0.019693</td>\n",
       "      <td>20.22300</td>\n",
       "      <td>18.322900</td>\n",
       "      <td>3.4124</td>\n",
       "      <td>241.567000</td>\n",
       "    </tr>\n",
       "  </tbody>\n",
       "</table>\n",
       "<p>380 rows × 8 columns</p>\n",
       "</div>"
      ],
      "text/plain": [
       "             0        1         2          3          4          5        6  \\\n",
       "0    -27.40390  34.9090  0.950377   3.307300   34.40680  18.614400  45.1768   \n",
       "4    -21.19610  33.0121  0.457121  21.014900   21.75710   3.921380  14.1861   \n",
       "8      3.38396  21.1964  0.627083   0.596993  109.64700   3.944430  43.9921   \n",
       "10   -11.77430  19.2995  0.133826  18.304600   96.99740   9.251430  13.0014   \n",
       "11   -17.76200  39.4621  1.460260   2.053510  148.07700  18.683500  26.5950   \n",
       "...        ...      ...       ...        ...        ...        ...      ...   \n",
       "1138 -27.93960  34.4452  1.480860   1.065410   29.63460   4.719570  47.6224   \n",
       "1141   3.73193  30.6512  0.494344   6.480660    4.33513  15.333600  39.6409   \n",
       "1144   0.89430  28.7542  0.001088  24.188300  141.68500   0.640568   8.6502   \n",
       "1149  -6.10216  16.9386  0.171050   3.770360   79.57540   0.663618  38.4563   \n",
       "1151 -39.69470  13.0362  4.966910   0.019693   20.22300  18.322900   3.4124   \n",
       "\n",
       "               7  \n",
       "0       4.340000  \n",
       "4       0.929999  \n",
       "8       7.370070  \n",
       "10      5.230020  \n",
       "11    152.955000  \n",
       "...          ...  \n",
       "1138    1.330000  \n",
       "1141    4.530010  \n",
       "1144    5.480030  \n",
       "1149    3.420000  \n",
       "1151  241.567000  \n",
       "\n",
       "[380 rows x 8 columns]"
      ]
     },
     "execution_count": 25,
     "metadata": {},
     "output_type": "execute_result"
    }
   ],
   "source": [
    "secondRegimeDf"
   ]
  },
  {
   "cell_type": "markdown",
   "metadata": {},
   "source": [
    "So there are 380 datapoints in the second regime"
   ]
  },
  {
   "cell_type": "code",
   "execution_count": 26,
   "metadata": {},
   "outputs": [
    {
     "data": {
      "text/plain": [
       "<matplotlib.axes._subplots.AxesSubplot at 0x7fcb485cae48>"
      ]
     },
     "execution_count": 26,
     "metadata": {},
     "output_type": "execute_result"
    },
    {
     "data": {
      "image/png": "[encoded data removed]",
      "text/plain": [
       "<Figure size 432x288 with 1 Axes>"
      ]
     },
     "metadata": {
      "needs_background": "light"
     },
     "output_type": "display_data"
    }
   ],
   "source": [
    "# Normalizing and applying PCA to second regime\n",
    "secondRegimeNDF = StandardScaler().fit_transform(secondRegimeDf)\n",
    "second_reg_pca = PCA(n_components=2)\n",
    "second_regime_principal_components = second_reg_pca.fit_transform(secondRegimeNDF)\n",
    "secondRegimeprincipalDf = pd.DataFrame(data=second_regime_principal_components, \n",
    "                           columns = ['principal component 1', 'principal component 2'])\n",
    "\n",
    "secondRegimeprincipalDf.plot(x='principal component 1', y='principal component 2', kind='scatter')"
   ]
  },
  {
   "cell_type": "code",
   "execution_count": 27,
   "metadata": {},
   "outputs": [
    {
     "data": {
      "text/plain": [
       "array([[ 0.08286405, -0.41349814, -0.04193103, -0.42959154,  0.43581724,\n",
       "         0.20352999,  0.11061927,  0.62629705],\n",
       "       [-0.49510651,  0.00270264,  0.71172176, -0.3091987 , -0.35962309,\n",
       "         0.07354003,  0.06373363,  0.11794774]])"
      ]
     },
     "execution_count": 27,
     "metadata": {},
     "output_type": "execute_result"
    }
   ],
   "source": [
    "second_reg_pca.components_"
   ]
  },
  {
   "cell_type": "code",
   "execution_count": 28,
   "metadata": {},
   "outputs": [
    {
     "data": {
      "text/plain": [
       "array([1.48431129, 1.2578455 ])"
      ]
     },
     "execution_count": 28,
     "metadata": {},
     "output_type": "execute_result"
    }
   ],
   "source": [
    "second_reg_pca.explained_variance_"
   ]
  },
  {
   "cell_type": "markdown",
   "metadata": {},
   "source": [
    "## Results"
   ]
  },
  {
   "cell_type": "markdown",
   "metadata": {},
   "source": [
    "Order of column influence to output (by weight in PC1), from most influent to less influent"
   ]
  },
  {
   "cell_type": "markdown",
   "metadata": {},
   "source": [
    "\\begin{array}{|c|c|c|} \\hline\n",
    "    \\text{All} & \\text{First Regime} & \\text{Second Regime} \\\\ \\hline\n",
    "    2 & 1 & 4\\\\ \\hline\n",
    "    1 & 5 & 3\\\\ \\hline\n",
    "    5 & 2 & 2\\\\ \\hline\n",
    "    3 & 4 & 1\\\\ \\hline\n",
    "    0 & 3 & 5\\\\ \\hline\n",
    "    6 & 6 & 6\\\\ \\hline\n",
    "    4 & 0 & 0\\\\ \\hline\n",
    "\\end{array}\n"
   ]
  },
  {
   "cell_type": "markdown",
   "metadata": {},
   "source": [
    "## Fixating Columns using column value bining"
   ]
  },
  {
   "cell_type": "markdown",
   "metadata": {},
   "source": [
    "### First Regime"
   ]
  },
  {
   "cell_type": "code",
   "execution_count": 29,
   "metadata": {},
   "outputs": [
    {
     "data": {
      "text/plain": [
       "311"
      ]
     },
     "execution_count": 29,
     "metadata": {},
     "output_type": "execute_result"
    }
   ],
   "source": [
    "binned_1 = pd.cut(firstRegimeDf.loc[:, 1], bins=10, right=True)\n",
    "points_bin_1_idx = [i for i in first_regime_idx if binned_1[i]==binned_1[5]]\n",
    "len(points_bin_1_idx)"
   ]
  },
  {
   "cell_type": "code",
   "execution_count": 30,
   "metadata": {},
   "outputs": [
    {
     "data": {
      "text/plain": [
       "146"
      ]
     },
     "execution_count": 30,
     "metadata": {},
     "output_type": "execute_result"
    }
   ],
   "source": [
    "binned_5 = pd.cut(firstRegimeDf.loc[:, 5], bins=10, right=True)\n",
    "points_bin_5_idx = [i for i in first_regime_idx if binned_5[i]==binned_5[3]]\n",
    "len(points_bin_5_idx)"
   ]
  },
  {
   "cell_type": "code",
   "execution_count": 31,
   "metadata": {},
   "outputs": [
    {
     "data": {
      "text/plain": [
       "151"
      ]
     },
     "execution_count": 31,
     "metadata": {},
     "output_type": "execute_result"
    }
   ],
   "source": [
    "binned_2 = pd.cut(firstRegimeDf.loc[:, 2], bins=10, right=True)\n",
    "points_bin_2_idx = [i for i in first_regime_idx if binned_2[i]==binned_2[1]]\n",
    "len(points_bin_2_idx)"
   ]
  },
  {
   "cell_type": "markdown",
   "metadata": {},
   "source": [
    "#### Fixate Column 1 and 5, Output(Column 2)"
   ]
  },
  {
   "cell_type": "code",
   "execution_count": 32,
   "metadata": {},
   "outputs": [
    {
     "data": {
      "text/plain": [
       "[<matplotlib.lines.Line2D at 0x7fcb4851b160>]"
      ]
     },
     "execution_count": 32,
     "metadata": {},
     "output_type": "execute_result"
    },
    {
     "data": {
      "image/png": "[encoded data removed]",
      "text/plain": [
       "<Figure size 432x288 with 1 Axes>"
      ]
     },
     "metadata": {
      "needs_background": "light"
     },
     "output_type": "display_data"
    }
   ],
   "source": [
    "common = []\n",
    "for element in points_bin_1_idx:\n",
    "    if element in points_bin_5_idx:\n",
    "        common.append(element)\n",
    "\n",
    "commondf = df.loc[common]\n",
    "x = commondf.loc[:, [2]].values\n",
    "y = commondf.loc[:, [7]].values\n",
    "pylab.plot(x, y, 'bo')"
   ]
  },
  {
   "cell_type": "code",
   "execution_count": 33,
   "metadata": {},
   "outputs": [
    {
     "data": {
      "image/png": "[encoded data removed]",
      "text/plain": [
       "<Figure size 432x288 with 1 Axes>"
      ]
     },
     "metadata": {
      "needs_background": "light"
     },
     "output_type": "display_data"
    }
   ],
   "source": [
    "pylab.plot(x, y, 'bo')\n",
    "pylab.yscale('log')"
   ]
  },
  {
   "cell_type": "code",
   "execution_count": 34,
   "metadata": {},
   "outputs": [
    {
     "data": {
      "image/png": "[encoded data removed]",
      "text/plain": [
       "<Figure size 432x288 with 1 Axes>"
      ]
     },
     "metadata": {
      "needs_background": "light"
     },
     "output_type": "display_data"
    }
   ],
   "source": [
    "pylab.plot(x, y, 'bo')\n",
    "pylab.yscale('log')\n",
    "pylab.xscale('log')"
   ]
  },
  {
   "cell_type": "markdown",
   "metadata": {},
   "source": [
    "#### Fixate Column 2 and 5, Output(Column1 )"
   ]
  },
  {
   "cell_type": "code",
   "execution_count": 35,
   "metadata": {},
   "outputs": [
    {
     "data": {
      "text/plain": [
       "[<matplotlib.lines.Line2D at 0x7fcb482f8f60>]"
      ]
     },
     "execution_count": 35,
     "metadata": {},
     "output_type": "execute_result"
    },
    {
     "data": {
      "image/png": "[encoded data removed]",
      "text/plain": [
       "<Figure size 432x288 with 1 Axes>"
      ]
     },
     "metadata": {
      "needs_background": "light"
     },
     "output_type": "display_data"
    }
   ],
   "source": [
    "common = []\n",
    "for element in points_bin_2_idx:\n",
    "    if element in points_bin_5_idx:\n",
    "        common.append(element)\n",
    "\n",
    "commondf = df.loc[common]\n",
    "x = commondf.loc[:, [1]].values\n",
    "y = commondf.loc[:, [7]].values\n",
    "pylab.plot(x, y, 'bo')"
   ]
  },
  {
   "cell_type": "code",
   "execution_count": 36,
   "metadata": {},
   "outputs": [
    {
     "data": {
      "image/png": "[encoded data removed]",
      "text/plain": [
       "<Figure size 432x288 with 1 Axes>"
      ]
     },
     "metadata": {
      "needs_background": "light"
     },
     "output_type": "display_data"
    }
   ],
   "source": [
    "pylab.plot(x, y, 'bo')\n",
    "pylab.yscale('log')"
   ]
  },
  {
   "cell_type": "code",
   "execution_count": 37,
   "metadata": {},
   "outputs": [
    {
     "data": {
      "image/png": "[encoded data removed]",
      "text/plain": [
       "<Figure size 432x288 with 1 Axes>"
      ]
     },
     "metadata": {
      "needs_background": "light"
     },
     "output_type": "display_data"
    }
   ],
   "source": [
    "pylab.plot(x, y, 'bo')\n",
    "pylab.yscale('log')\n",
    "pylab.xscale('log')"
   ]
  },
  {
   "cell_type": "markdown",
   "metadata": {},
   "source": [
    "#### Fixate Column 1 and 2, Output(Column 5)"
   ]
  },
  {
   "cell_type": "code",
   "execution_count": 38,
   "metadata": {},
   "outputs": [
    {
     "data": {
      "text/plain": [
       "[<matplotlib.lines.Line2D at 0x7fcb4837f048>]"
      ]
     },
     "execution_count": 38,
     "metadata": {},
     "output_type": "execute_result"
    },
    {
     "data": {
      "image/png": "[encoded data removed]",
      "text/plain": [
       "<Figure size 432x288 with 1 Axes>"
      ]
     },
     "metadata": {
      "needs_background": "light"
     },
     "output_type": "display_data"
    }
   ],
   "source": [
    "common = []\n",
    "for element in points_bin_2_idx:\n",
    "    if element in points_bin_1_idx:\n",
    "        common.append(element)\n",
    "\n",
    "commondf = df.loc[common]\n",
    "x = commondf.loc[:, [5]].values\n",
    "y = commondf.loc[:, [7]].values\n",
    "pylab.plot(x, y, 'bo')"
   ]
  },
  {
   "cell_type": "code",
   "execution_count": 39,
   "metadata": {},
   "outputs": [
    {
     "data": {
      "image/png": "[encoded data removed]",
      "text/plain": [
       "<Figure size 432x288 with 1 Axes>"
      ]
     },
     "metadata": {
      "needs_background": "light"
     },
     "output_type": "display_data"
    }
   ],
   "source": [
    "pylab.plot(x, y, 'bo')\n",
    "pylab.yscale('log')"
   ]
  },
  {
   "cell_type": "code",
   "execution_count": 40,
   "metadata": {},
   "outputs": [
    {
     "data": {
      "image/png": "[encoded data removed]",
      "text/plain": [
       "<Figure size 432x288 with 1 Axes>"
      ]
     },
     "metadata": {
      "needs_background": "light"
     },
     "output_type": "display_data"
    }
   ],
   "source": [
    "pylab.plot(x, y, 'bo')\n",
    "pylab.yscale('log')\n",
    "pylab.xscale('log')"
   ]
  },
  {
   "cell_type": "markdown",
   "metadata": {},
   "source": [
    "### Second Regime"
   ]
  },
  {
   "cell_type": "code",
   "execution_count": 41,
   "metadata": {},
   "outputs": [
    {
     "data": {
      "text/plain": [
       "352"
      ]
     },
     "execution_count": 41,
     "metadata": {},
     "output_type": "execute_result"
    }
   ],
   "source": [
    "binned_2 = pd.cut(secondRegimeDf.loc[:, 2], bins=10, right=True)\n",
    "points_bin_2_idx = [i for i in second_regime_idx if binned_2[i]==binned_2[0]]\n",
    "len(points_bin_2_idx)"
   ]
  },
  {
   "cell_type": "code",
   "execution_count": 42,
   "metadata": {},
   "outputs": [
    {
     "data": {
      "text/plain": [
       "83"
      ]
     },
     "execution_count": 42,
     "metadata": {},
     "output_type": "execute_result"
    }
   ],
   "source": [
    "binned_3 = pd.cut(secondRegimeDf.loc[:, 3], bins=10, right=True)\n",
    "points_bin_3_idx = [i for i in second_regime_idx if binned_3[i]==binned_3[1151]]\n",
    "len(points_bin_3_idx)"
   ]
  },
  {
   "cell_type": "code",
   "execution_count": 43,
   "metadata": {},
   "outputs": [
    {
     "data": {
      "text/plain": [
       "36"
      ]
     },
     "execution_count": 43,
     "metadata": {},
     "output_type": "execute_result"
    }
   ],
   "source": [
    "binned_4 = pd.cut(secondRegimeDf.loc[:, 4], bins=10, right=True)\n",
    "points_bin_4_idx = [i for i in second_regime_idx if binned_4[i]==binned_4[1151]]\n",
    "len(points_bin_4_idx)"
   ]
  },
  {
   "cell_type": "markdown",
   "metadata": {},
   "source": [
    "#### Fixate Column 4 and 2, Output(Column 3)"
   ]
  },
  {
   "cell_type": "code",
   "execution_count": 44,
   "metadata": {},
   "outputs": [
    {
     "data": {
      "text/plain": [
       "[<matplotlib.lines.Line2D at 0x7fcb4806ffd0>]"
      ]
     },
     "execution_count": 44,
     "metadata": {},
     "output_type": "execute_result"
    },
    {
     "data": {
      "image/png": "[encoded data removed]",
      "text/plain": [
       "<Figure size 432x288 with 1 Axes>"
      ]
     },
     "metadata": {
      "needs_background": "light"
     },
     "output_type": "display_data"
    }
   ],
   "source": [
    "common = []\n",
    "for element in points_bin_2_idx:\n",
    "    if element in points_bin_4_idx:\n",
    "        common.append(element)\n",
    "\n",
    "commondf = df.loc[common]\n",
    "x = commondf.loc[:, [3]].values\n",
    "y = commondf.loc[:, [7]].values\n",
    "pylab.plot(x, y, 'bo')"
   ]
  },
  {
   "cell_type": "code",
   "execution_count": 45,
   "metadata": {},
   "outputs": [
    {
     "data": {
      "image/png": "[encoded data removed]",
      "text/plain": [
       "<Figure size 432x288 with 1 Axes>"
      ]
     },
     "metadata": {
      "needs_background": "light"
     },
     "output_type": "display_data"
    }
   ],
   "source": [
    "pylab.plot(x, y, 'bo')\n",
    "pylab.yscale('log')"
   ]
  },
  {
   "cell_type": "code",
   "execution_count": 46,
   "metadata": {},
   "outputs": [
    {
     "data": {
      "image/png": "[encoded data removed]",
      "text/plain": [
       "<Figure size 432x288 with 1 Axes>"
      ]
     },
     "metadata": {
      "needs_background": "light"
     },
     "output_type": "display_data"
    }
   ],
   "source": [
    "pylab.plot(x, y, 'bo')\n",
    "pylab.yscale('log')\n",
    "pylab.xscale('log')"
   ]
  },
  {
   "cell_type": "markdown",
   "metadata": {},
   "source": [
    "#### Fixate Column 2 and 3, Output(Column 4)"
   ]
  },
  {
   "cell_type": "code",
   "execution_count": 47,
   "metadata": {},
   "outputs": [
    {
     "data": {
      "text/plain": [
       "[<matplotlib.lines.Line2D at 0x7fcb47fc99b0>]"
      ]
     },
     "execution_count": 47,
     "metadata": {},
     "output_type": "execute_result"
    },
    {
     "data": {
      "image/png": "[encoded data removed]",
      "text/plain": [
       "<Figure size 432x288 with 1 Axes>"
      ]
     },
     "metadata": {
      "needs_background": "light"
     },
     "output_type": "display_data"
    }
   ],
   "source": [
    "common = []\n",
    "for element in points_bin_2_idx:\n",
    "    if element in points_bin_3_idx:\n",
    "        common.append(element)\n",
    "\n",
    "commondf = df.loc[common]\n",
    "x = commondf.loc[:, [4]].values\n",
    "y = commondf.loc[:, [7]].values\n",
    "pylab.plot(x, y, 'bo')"
   ]
  },
  {
   "cell_type": "code",
   "execution_count": 48,
   "metadata": {},
   "outputs": [
    {
     "data": {
      "image/png": "[encoded data removed]",
      "text/plain": [
       "<Figure size 432x288 with 1 Axes>"
      ]
     },
     "metadata": {
      "needs_background": "light"
     },
     "output_type": "display_data"
    }
   ],
   "source": [
    "pylab.plot(x, y, 'bo')\n",
    "pylab.yscale('log')"
   ]
  },
  {
   "cell_type": "code",
   "execution_count": 49,
   "metadata": {},
   "outputs": [
    {
     "data": {
      "image/png": "[encoded data removed]",
      "text/plain": [
       "<Figure size 432x288 with 1 Axes>"
      ]
     },
     "metadata": {
      "needs_background": "light"
     },
     "output_type": "display_data"
    }
   ],
   "source": [
    "pylab.plot(x, y, 'bo')\n",
    "pylab.yscale('log')\n",
    "pylab.xscale('log')"
   ]
  },
  {
   "cell_type": "markdown",
   "metadata": {},
   "source": [
    "#### Fixate Column 3 and 4, Output(Column 2)"
   ]
  },
  {
   "cell_type": "code",
   "execution_count": 50,
   "metadata": {},
   "outputs": [
    {
     "data": {
      "text/plain": [
       "[<matplotlib.lines.Line2D at 0x7fcb484555c0>]"
      ]
     },
     "execution_count": 50,
     "metadata": {},
     "output_type": "execute_result"
    },
    {
     "data": {
      "image/png": "[encoded data removed]",
      "text/plain": [
       "<Figure size 432x288 with 1 Axes>"
      ]
     },
     "metadata": {
      "needs_background": "light"
     },
     "output_type": "display_data"
    }
   ],
   "source": [
    "common = []\n",
    "for element in points_bin_4_idx:\n",
    "    if element in points_bin_3_idx:\n",
    "        common.append(element)\n",
    "\n",
    "commondf = df.loc[common]\n",
    "x = commondf.loc[:, [2]].values\n",
    "y = commondf.loc[:, [7]].values\n",
    "pylab.plot(x, y, 'bo')"
   ]
  },
  {
   "cell_type": "code",
   "execution_count": 51,
   "metadata": {},
   "outputs": [
    {
     "data": {
      "image/png": "[encoded data removed]",
      "text/plain": [
       "<Figure size 432x288 with 1 Axes>"
      ]
     },
     "metadata": {
      "needs_background": "light"
     },
     "output_type": "display_data"
    }
   ],
   "source": [
    "pylab.plot(x, y, 'bo')\n",
    "pylab.yscale('log')"
   ]
  },
  {
   "cell_type": "code",
   "execution_count": 52,
   "metadata": {},
   "outputs": [
    {
     "data": {
      "image/png": "[encoded data removed]",
      "text/plain": [
       "<Figure size 432x288 with 1 Axes>"
      ]
     },
     "metadata": {
      "needs_background": "light"
     },
     "output_type": "display_data"
    }
   ],
   "source": [
    "pylab.plot(x, y, 'bo')\n",
    "pylab.yscale('log')\n",
    "pylab.xscale('log')"
   ]
  },
  {
   "cell_type": "markdown",
   "metadata": {},
   "source": [
    "## Points distribution per column bin"
   ]
  },
  {
   "cell_type": "code",
   "execution_count": 53,
   "metadata": {},
   "outputs": [
    {
     "data": {
      "image/png": "[encoded data removed]",
      "text/plain": [
       "<Figure size 432x288 with 9 Axes>"
      ]
     },
     "metadata": {
      "needs_background": "light"
     },
     "output_type": "display_data"
    }
   ],
   "source": [
    "hist = df.hist(bins=10)"
   ]
  },
  {
   "cell_type": "code",
   "execution_count": 54,
   "metadata": {},
   "outputs": [
    {
     "data": {
      "image/png": "[encoded data removed]",
      "text/plain": [
       "<Figure size 432x288 with 9 Axes>"
      ]
     },
     "metadata": {
      "needs_background": "light"
     },
     "output_type": "display_data"
    }
   ],
   "source": [
    "hist = firstRegimeDf.hist(bins=10)"
   ]
  },
  {
   "cell_type": "code",
   "execution_count": 55,
   "metadata": {},
   "outputs": [
    {
     "data": {
      "image/png": "[encoded data removed]",
      "text/plain": [
       "<Figure size 432x288 with 9 Axes>"
      ]
     },
     "metadata": {
      "needs_background": "light"
     },
     "output_type": "display_data"
    }
   ],
   "source": [
    "hist = secondRegimeDf.hist(bins=10)"
   ]
  },
  {
   "cell_type": "markdown",
   "metadata": {},
   "source": [
    "Now the three groups (all, first regime, second regime) all in the same histogram"
   ]
  },
  {
   "cell_type": "code",
   "execution_count": 69,
   "metadata": {},
   "outputs": [
    {
     "data": {
      "image/png": "[encoded data removed]",
      "text/plain": [
       "<Figure size 432x288 with 1 Axes>"
      ]
     },
     "metadata": {
      "needs_background": "light"
     },
     "output_type": "display_data"
    }
   ],
   "source": [
    "# Column 0\n",
    "all_hist = np.histogram(df[:][0], bins=10)\n",
    "bins_minimum = all_hist[1][:10]\n",
    "bin_width = bins_minimum[1]-bins_minimum[0]\n",
    "\n",
    "first_reg_hist = np.histogram(firstRegimeDf[:][0], all_hist[1])\n",
    "second_reg_hist = np.histogram(secondRegimeDf[:][0], all_hist[1])\n",
    "\n",
    "pylab.plot([minimum+bin_width/2 for minimum in bins_minimum] , all_hist[0], '--bo', label='All')\n",
    "pylab.plot([minimum+bin_width/2 for minimum in bins_minimum] , first_reg_hist[0], '--ro', label='First Regime')\n",
    "pylab.plot([minimum+bin_width/2 for minimum in bins_minimum] , second_reg_hist[0], '--go', label='Second Regime')\n",
    "pylab.xticks(all_hist[1], fontsize=15, rotation='45')\n",
    "pylab.legend()\n",
    "pylab.show()"
   ]
  },
  {
   "cell_type": "code",
   "execution_count": 70,
   "metadata": {},
   "outputs": [
    {
     "data": {
      "image/png": "[encoded data removed]",
      "text/plain": [
       "<Figure size 432x288 with 1 Axes>"
      ]
     },
     "metadata": {
      "needs_background": "light"
     },
     "output_type": "display_data"
    }
   ],
   "source": [
    "# Column 1\n",
    "all_hist = np.histogram(df[:][1], bins=10)\n",
    "bins_minimum = all_hist[1][:10]\n",
    "bin_width = bins_minimum[1]-bins_minimum[0]\n",
    "\n",
    "first_reg_hist = np.histogram(firstRegimeDf[:][1], all_hist[1])\n",
    "second_reg_hist = np.histogram(secondRegimeDf[:][1], all_hist[1])\n",
    "\n",
    "pylab.plot([minimum+bin_width/2 for minimum in bins_minimum] , all_hist[0], '--bo', label='All')\n",
    "pylab.plot([minimum+bin_width/2 for minimum in bins_minimum] , first_reg_hist[0], '--ro', label='First Regime')\n",
    "pylab.plot([minimum+bin_width/2 for minimum in bins_minimum] , second_reg_hist[0], '--go', label='Second Regime')\n",
    "pylab.xticks(all_hist[1], fontsize=15, rotation='45')\n",
    "pylab.legend()\n",
    "pylab.show()"
   ]
  },
  {
   "cell_type": "code",
   "execution_count": 71,
   "metadata": {},
   "outputs": [
    {
     "data": {
      "image/png": "[encoded data removed]",
      "text/plain": [
       "<Figure size 432x288 with 1 Axes>"
      ]
     },
     "metadata": {
      "needs_background": "light"
     },
     "output_type": "display_data"
    }
   ],
   "source": [
    "# Column 2\n",
    "all_hist = np.histogram(df[:][2], bins=10)\n",
    "bins_minimum = all_hist[1][:10]\n",
    "bin_width = bins_minimum[1]-bins_minimum[0]\n",
    "\n",
    "first_reg_hist = np.histogram(firstRegimeDf[:][2], all_hist[1])\n",
    "second_reg_hist = np.histogram(secondRegimeDf[:][2], all_hist[1])\n",
    "\n",
    "pylab.plot([minimum+bin_width/2 for minimum in bins_minimum] , all_hist[0], '--bo', label='All')\n",
    "pylab.plot([minimum+bin_width/2 for minimum in bins_minimum] , first_reg_hist[0], '--ro', label='First Regime')\n",
    "pylab.plot([minimum+bin_width/2 for minimum in bins_minimum] , second_reg_hist[0], '--go', label='Second Regime')\n",
    "pylab.xticks(all_hist[1], fontsize=15, rotation='45')\n",
    "pylab.legend()\n",
    "pylab.show()"
   ]
  },
  {
   "cell_type": "code",
   "execution_count": 72,
   "metadata": {},
   "outputs": [
    {
     "data": {
      "image/png": "[encoded data removed]",
      "text/plain": [
       "<Figure size 432x288 with 1 Axes>"
      ]
     },
     "metadata": {
      "needs_background": "light"
     },
     "output_type": "display_data"
    }
   ],
   "source": [
    "# Column 3\n",
    "all_hist = np.histogram(df[:][3], bins=10)\n",
    "bins_minimum = all_hist[1][:10]\n",
    "bin_width = bins_minimum[1]-bins_minimum[0]\n",
    "\n",
    "first_reg_hist = np.histogram(firstRegimeDf[:][3], all_hist[1])\n",
    "second_reg_hist = np.histogram(secondRegimeDf[:][3], all_hist[1])\n",
    "\n",
    "pylab.plot([minimum+bin_width/2 for minimum in bins_minimum] , all_hist[0], '--bo', label='All')\n",
    "pylab.plot([minimum+bin_width/2 for minimum in bins_minimum] , first_reg_hist[0], '--ro', label='First Regime')\n",
    "pylab.plot([minimum+bin_width/2 for minimum in bins_minimum] , second_reg_hist[0], '--go', label='Second Regime')\n",
    "pylab.xticks(all_hist[1], fontsize=15, rotation='45')\n",
    "pylab.legend()\n",
    "pylab.show()"
   ]
  },
  {
   "cell_type": "code",
   "execution_count": 73,
   "metadata": {},
   "outputs": [
    {
     "data": {
      "image/png": "[encoded data removed]",
      "text/plain": [
       "<Figure size 432x288 with 1 Axes>"
      ]
     },
     "metadata": {
      "needs_background": "light"
     },
     "output_type": "display_data"
    }
   ],
   "source": [
    "# Column 4\n",
    "all_hist = np.histogram(df[:][4], bins=10)\n",
    "bins_minimum = all_hist[1][:10]\n",
    "bin_width = bins_minimum[1]-bins_minimum[0]\n",
    "\n",
    "first_reg_hist = np.histogram(firstRegimeDf[:][4], all_hist[1])\n",
    "second_reg_hist = np.histogram(secondRegimeDf[:][4], all_hist[1])\n",
    "\n",
    "pylab.plot([minimum+bin_width/2 for minimum in bins_minimum] , all_hist[0], '--bo', label='All')\n",
    "pylab.plot([minimum+bin_width/2 for minimum in bins_minimum] , first_reg_hist[0], '--ro', label='First Regime')\n",
    "pylab.plot([minimum+bin_width/2 for minimum in bins_minimum] , second_reg_hist[0], '--go', label='Second Regime')\n",
    "pylab.xticks(all_hist[1], fontsize=15, rotation='45')\n",
    "pylab.legend()\n",
    "pylab.show()"
   ]
  },
  {
   "cell_type": "code",
   "execution_count": 74,
   "metadata": {},
   "outputs": [
    {
     "data": {
      "image/png": "[encoded data removed]",
      "text/plain": [
       "<Figure size 432x288 with 1 Axes>"
      ]
     },
     "metadata": {
      "needs_background": "light"
     },
     "output_type": "display_data"
    }
   ],
   "source": [
    "# Column 5\n",
    "all_hist = np.histogram(df[:][5], bins=10)\n",
    "bins_minimum = all_hist[1][:10]\n",
    "bin_width = bins_minimum[1]-bins_minimum[0]\n",
    "\n",
    "first_reg_hist = np.histogram(firstRegimeDf[:][5], all_hist[1])\n",
    "second_reg_hist = np.histogram(secondRegimeDf[:][5], all_hist[1])\n",
    "\n",
    "pylab.plot([minimum+bin_width/2 for minimum in bins_minimum] , all_hist[0], '--bo', label='All')\n",
    "pylab.plot([minimum+bin_width/2 for minimum in bins_minimum] , first_reg_hist[0], '--ro', label='First Regime')\n",
    "pylab.plot([minimum+bin_width/2 for minimum in bins_minimum] , second_reg_hist[0], '--go', label='Second Regime')\n",
    "pylab.xticks(all_hist[1], fontsize=15, rotation='45')\n",
    "pylab.legend()\n",
    "pylab.show()"
   ]
  },
  {
   "cell_type": "code",
   "execution_count": 75,
   "metadata": {},
   "outputs": [
    {
     "data": {
      "image/png": "[encoded data removed]",
      "text/plain": [
       "<Figure size 432x288 with 1 Axes>"
      ]
     },
     "metadata": {
      "needs_background": "light"
     },
     "output_type": "display_data"
    }
   ],
   "source": [
    "# Column 6\n",
    "all_hist = np.histogram(df[:][6], bins=10)\n",
    "bins_minimum = all_hist[1][:10]\n",
    "bin_width = bins_minimum[1]-bins_minimum[0]\n",
    "\n",
    "first_reg_hist = np.histogram(firstRegimeDf[:][6], all_hist[1])\n",
    "second_reg_hist = np.histogram(secondRegimeDf[:][6], all_hist[1])\n",
    "\n",
    "pylab.plot([minimum+bin_width/2 for minimum in bins_minimum] , all_hist[0], '--bo', label='All')\n",
    "pylab.plot([minimum+bin_width/2 for minimum in bins_minimum] , first_reg_hist[0], '--ro', label='First Regime')\n",
    "pylab.plot([minimum+bin_width/2 for minimum in bins_minimum] , second_reg_hist[0], '--go', label='Second Regime')\n",
    "pylab.xticks(all_hist[1], fontsize=15, rotation='45')\n",
    "pylab.legend()\n",
    "pylab.show()"
   ]
  },
  {
   "cell_type": "code",
   "execution_count": null,
   "metadata": {},
   "outputs": [],
   "source": []
  }
 ],
 "metadata": {
  "kernelspec": {
   "display_name": "Python 3",
   "language": "python",
   "name": "python3"
  },
  "language_info": {
   "codemirror_mode": {
    "name": "ipython",
    "version": 3
   },
   "file_extension": ".py",
   "mimetype": "text/x-python",
   "name": "python",
   "nbconvert_exporter": "python",
   "pygments_lexer": "ipython3",
   "version": "3.6.9"
  }
 },
 "nbformat": 4,
 "nbformat_minor": 2
}
