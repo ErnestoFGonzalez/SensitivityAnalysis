{
 "cells": [
  {
   "cell_type": "markdown",
   "metadata": {},
   "source": [
    "# Isolated Trajectories\n",
    "In this file we will study the trajectories in planes (`Column i`,`Output`), with $i=[6]$, for our dataset `dados.dat`, by fixating all other column values, i.e. we will vary values in `Column i` while all other values are fixed."
   ]
  },
  {
   "cell_type": "code",
   "execution_count": null,
   "metadata": {},
   "outputs": [],
   "source": [
    "# define a function whose parameters are a dataframe and a radius\n",
    "# it search iteratively for clusters where column 0 takes values inside that radius\n",
    "# in the returned clustes searches for points where column 1 takes values inside that same radius\n",
    "# repeat for all columns except column 6\n",
    "# final clusters can be considered to have points where column 6 varies but all other are fixed (as long radius is small)\n",
    "\n",
    "# repeat for all other columns"
   ]
  }
 ],
 "metadata": {
  "kernelspec": {
   "display_name": "Python 3",
   "language": "python",
   "name": "python3"
  },
  "language_info": {
   "codemirror_mode": {
    "name": "ipython",
    "version": 3
   },
   "file_extension": ".py",
   "mimetype": "text/x-python",
   "name": "python",
   "nbconvert_exporter": "python",
   "pygments_lexer": "ipython3",
   "version": "3.7.1"
  }
 },
 "nbformat": 4,
 "nbformat_minor": 2
}
