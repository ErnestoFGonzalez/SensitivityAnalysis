{
 "cells": [
  {
   "cell_type": "markdown",
   "metadata": {},
   "source": [
    "# Isolated Trajectories\n",
    "In this file we will study the trajectories in planes (`Column i`,`Output`), with $i=[6]$, for our dataset `dados.dat`, by fixating all other column values, i.e. we will vary values in `Column i` while all other values are fixed."
   ]
  },
  {
   "cell_type": "code",
   "execution_count": 1,
   "metadata": {},
   "outputs": [],
   "source": [
    "import numpy as np\n",
    "import pandas as pd\n",
    "import pylab\n",
    "from mpl_toolkits.mplot3d import Axes3D\n",
    "from sklearn.decomposition import PCA\n",
    "from sklearn.preprocessing import StandardScaler\n",
    "%matplotlib notebook"
   ]
  },
  {
   "cell_type": "code",
   "execution_count": 2,
   "metadata": {},
   "outputs": [],
   "source": [
    "# import dataset\n",
    "with open('dados.dat', 'r') as infile:\n",
    "    readlines = infile.readlines()\n",
    "    \n",
    "    df = []\n",
    "\n",
    "    for line in readlines: \n",
    "        temp = line.split('   ')\n",
    "        for elem in temp:\n",
    "            if elem == '':\n",
    "                temp.remove(elem)\n",
    "                continue\n",
    "            temp[temp.index(elem)] = float(elem.strip())\n",
    "        df.append([temp[0], float(temp[1]), temp[2], \n",
    "                   temp[3], temp[4], temp[5], temp[6], temp[7]])\n",
    "            \n",
    "df = pd.DataFrame(df)"
   ]
  },
  {
   "cell_type": "code",
   "execution_count": null,
   "metadata": {},
   "outputs": [],
   "source": [
    "# define a function whose parameters are a dataframe and a radius\n",
    "# it searches iteratively for clusters where column 0 takes values inside that radius\n",
    "# in the returned clusters searches for points where column 1 takes values inside that same radius\n",
    "# repeat for all columns except column 6\n",
    "# final clusters can be considered to have points where column 6 varies but all other are fixed (as long radius is small)\n",
    "\n",
    "# repeat for all other columns"
   ]
  },
  {
   "cell_type": "code",
   "execution_count": 84,
   "metadata": {},
   "outputs": [],
   "source": [
    "def distance(a,b):\n",
    "    sum = 0\n",
    "    for coord in range(len(a)):\n",
    "        sum += (a[coord]- b[coord])**2\n",
    "    return sum**0.5\n",
    "\n",
    "\n",
    "def isolate_column(column, r):\n",
    "    \"\"\"column:= column to isolate;\n",
    "    r:= radius to consider fixation\"\"\"\n",
    "    indexes = [0,1,2,3,4,5,6]\n",
    "    indexes.remove(column)\n",
    "    \n",
    "    list_df = df.loc[:, indexes].values.tolist()\n",
    "    \n",
    "    clusters = []\n",
    "\n",
    "    for point in list_df:\n",
    "        point_cluster = []\n",
    "        for point_ in list_df:\n",
    "            idx = list_df.index(point_)\n",
    "            dist = distance(point, point_)\n",
    "            if dist < r:\n",
    "                point_cluster.append(idx) \n",
    "        if len(point_cluster) != 1:\n",
    "            clusters.append(point_cluster)\n",
    "\n",
    "  \n",
    "    return clusters"
   ]
  },
  {
   "cell_type": "markdown",
   "metadata": {},
   "source": [
    "## Isolating `Column 0`"
   ]
  },
  {
   "cell_type": "code",
   "execution_count": 90,
   "metadata": {
    "scrolled": true
   },
   "outputs": [
    {
     "data": {
      "text/plain": [
       "[[3, 367],\n",
       " [6, 370],\n",
       " [7, 371],\n",
       " [9, 374],\n",
       " [12, 377],\n",
       " [15, 380],\n",
       " [17, 382],\n",
       " [23, 388],\n",
       " [27, 391],\n",
       " [30, 395],\n",
       " [33, 398],\n",
       " [36, 401],\n",
       " [40, 405],\n",
       " [42, 407],\n",
       " [44, 409],\n",
       " [52, 418],\n",
       " [55, 421],\n",
       " [58, 424],\n",
       " [59, 425],\n",
       " [61, 427],\n",
       " [65, 431],\n",
       " [78, 443],\n",
       " [88, 453],\n",
       " [91, 456],\n",
       " [92, 457],\n",
       " [94, 460],\n",
       " [99, 465],\n",
       " [101, 467],\n",
       " [107, 474],\n",
       " [115, 482],\n",
       " [118, 486],\n",
       " [121, 489],\n",
       " [125, 493],\n",
       " [134, 501],\n",
       " [136, 503],\n",
       " [139, 505],\n",
       " [142, 509],\n",
       " [150, 516],\n",
       " [155, 521],\n",
       " [163, 528],\n",
       " [172, 537],\n",
       " [173, 538],\n",
       " [176, 541],\n",
       " [177, 542],\n",
       " [181, 545],\n",
       " [183, 547],\n",
       " [186, 550],\n",
       " [188, 552],\n",
       " [194, 559],\n",
       " [202, 564],\n",
       " [205, 568],\n",
       " [208, 571],\n",
       " [209, 572],\n",
       " [212, 575],\n",
       " [220, 583],\n",
       " [225, 588],\n",
       " [231, 593],\n",
       " [235, 597],\n",
       " [237, 599],\n",
       " [242, 603],\n",
       " [247, 608],\n",
       " [250, 611],\n",
       " [256, 617],\n",
       " [257, 618],\n",
       " [259, 620],\n",
       " [264, 625],\n",
       " [271, 630],\n",
       " [274, 633],\n",
       " [276, 635],\n",
       " [285, 644],\n",
       " [287, 646],\n",
       " [292, 651],\n",
       " [293, 652],\n",
       " [298, 657],\n",
       " [304, 664],\n",
       " [306, 667],\n",
       " [309, 670],\n",
       " [315, 675],\n",
       " [319, 680],\n",
       " [326, 687],\n",
       " [331, 693],\n",
       " [334, 696],\n",
       " [340, 703],\n",
       " [341, 704],\n",
       " [344, 706],\n",
       " [348, 712],\n",
       " [355, 717],\n",
       " [358, 720],\n",
       " [3, 367],\n",
       " [369, 730],\n",
       " [6, 370],\n",
       " [7, 371],\n",
       " [372, 733],\n",
       " [373, 734],\n",
       " [9, 374],\n",
       " [376, 737],\n",
       " [12, 377],\n",
       " [379, 740],\n",
       " [15, 380],\n",
       " [381, 742],\n",
       " [17, 382],\n",
       " [384, 745],\n",
       " [23, 388],\n",
       " [390, 752],\n",
       " [27, 391],\n",
       " [30, 395],\n",
       " [33, 398],\n",
       " [399, 760],\n",
       " [36, 401],\n",
       " [404, 765],\n",
       " [40, 405],\n",
       " [406, 767],\n",
       " [42, 407],\n",
       " [408, 769],\n",
       " [44, 409],\n",
       " [417, 778],\n",
       " [52, 418],\n",
       " [420, 781],\n",
       " [55, 421],\n",
       " [58, 424],\n",
       " [59, 425],\n",
       " [61, 427],\n",
       " [430, 791],\n",
       " [65, 431],\n",
       " [432, 793],\n",
       " [435, 797],\n",
       " [442, 803],\n",
       " [78, 443],\n",
       " [88, 453],\n",
       " [91, 456],\n",
       " [92, 457],\n",
       " [458, 819],\n",
       " [459, 820],\n",
       " [94, 460],\n",
       " [462, 823],\n",
       " [99, 465],\n",
       " [101, 467],\n",
       " [107, 474],\n",
       " [115, 482],\n",
       " [118, 486],\n",
       " [121, 489],\n",
       " [125, 493],\n",
       " [134, 501],\n",
       " [136, 503],\n",
       " [139, 505],\n",
       " [142, 509],\n",
       " [150, 516],\n",
       " [155, 521],\n",
       " [163, 528],\n",
       " [172, 537],\n",
       " [173, 538],\n",
       " [176, 541],\n",
       " [177, 542],\n",
       " [181, 545],\n",
       " [183, 547],\n",
       " [186, 550],\n",
       " [188, 552],\n",
       " [194, 559],\n",
       " [202, 564],\n",
       " [205, 568],\n",
       " [208, 571],\n",
       " [209, 572],\n",
       " [212, 575],\n",
       " [220, 583],\n",
       " [225, 588],\n",
       " [231, 593],\n",
       " [235, 597],\n",
       " [237, 599],\n",
       " [242, 603],\n",
       " [247, 608],\n",
       " [250, 611],\n",
       " [256, 617],\n",
       " [257, 618],\n",
       " [259, 620],\n",
       " [264, 625],\n",
       " [271, 630],\n",
       " [274, 633],\n",
       " [276, 635],\n",
       " [285, 644],\n",
       " [287, 646],\n",
       " [292, 651],\n",
       " [293, 652],\n",
       " [298, 657],\n",
       " [304, 664],\n",
       " [306, 667],\n",
       " [309, 670],\n",
       " [315, 675],\n",
       " [319, 680],\n",
       " [326, 687],\n",
       " [331, 693],\n",
       " [334, 696],\n",
       " [340, 703],\n",
       " [341, 704],\n",
       " [344, 706],\n",
       " [348, 712],\n",
       " [355, 717],\n",
       " [358, 720],\n",
       " [369, 730],\n",
       " [372, 733],\n",
       " [373, 734],\n",
       " [376, 737],\n",
       " [379, 740],\n",
       " [381, 742],\n",
       " [384, 745],\n",
       " [390, 752],\n",
       " [399, 760],\n",
       " [404, 765],\n",
       " [406, 767],\n",
       " [408, 769],\n",
       " [417, 778],\n",
       " [420, 781],\n",
       " [430, 791],\n",
       " [432, 793],\n",
       " [435, 797],\n",
       " [442, 803],\n",
       " [458, 819],\n",
       " [459, 820],\n",
       " [462, 823]]"
      ]
     },
     "execution_count": 90,
     "metadata": {},
     "output_type": "execute_result"
    }
   ],
   "source": [
    "isolate_column(0,1.805)    "
   ]
  },
  {
   "cell_type": "code",
   "execution_count": 105,
   "metadata": {},
   "outputs": [
    {
     "data": {
      "text/plain": [
       "[<matplotlib.lines.Line2D at 0x1591f67e5c0>]"
      ]
     },
     "execution_count": 105,
     "metadata": {},
     "output_type": "execute_result"
    },
    {
     "data": {
      "image/png": "[encoded data removed]",
      "text/plain": [
       "<Figure size 432x288 with 5 Axes>"
      ]
     },
     "metadata": {
      "needs_background": "light"
     },
     "output_type": "display_data"
    }
   ],
   "source": [
    "fig, (ax1, ax2, ax3, ax4, ax5) = pylab.subplots(1, 5)\n",
    "\n",
    "ax1.plot(df.loc[[276, 635], [0]].values, df.loc[[276, 635], [7]].values, 'bo')\n",
    "ax2.plot(df.loc[[358, 720], [0]].values, df.loc[[358, 720], [7]].values, 'bo')\n",
    "ax3.plot(df.loc[[344, 706], [0]].values, df.loc[[344, 706], [7]].values, 'bo')\n",
    "ax4.plot(df.loc[[331, 693], [0]].values, df.loc[[331, 693], [7]].values, 'bo')\n",
    "ax5.plot(df.loc[[306, 667], [0]].values, df.loc[[306, 667], [7]].values, 'bo')"
   ]
  },
  {
   "cell_type": "markdown",
   "metadata": {},
   "source": [
    "## Isolating `Column 1`"
   ]
  },
  {
   "cell_type": "code",
   "execution_count": 86,
   "metadata": {},
   "outputs": [
    {
     "data": {
      "text/plain": [
       "[[2, 815],\n",
       " [3, 818],\n",
       " [5, 820],\n",
       " [10, 824],\n",
       " [11, 825],\n",
       " [2, 815],\n",
       " [3, 818],\n",
       " [5, 820],\n",
       " [10, 824],\n",
       " [11, 825]]"
      ]
     },
     "execution_count": 86,
     "metadata": {},
     "output_type": "execute_result"
    }
   ],
   "source": [
    "isolate_column(1,1.6)"
   ]
  },
  {
   "cell_type": "code",
   "execution_count": 104,
   "metadata": {},
   "outputs": [
    {
     "data": {
      "text/plain": [
       "[<matplotlib.lines.Line2D at 0x1591dc46da0>]"
      ]
     },
     "execution_count": 104,
     "metadata": {},
     "output_type": "execute_result"
    },
    {
     "data": {
      "image/png": "[encoded data removed]",
      "text/plain": [
       "<Figure size 432x288 with 5 Axes>"
      ]
     },
     "metadata": {
      "needs_background": "light"
     },
     "output_type": "display_data"
    }
   ],
   "source": [
    "fig, (ax1, ax2, ax3, ax4, ax5) = pylab.subplots(1, 5)\n",
    "\n",
    "ax1.plot(df.loc[[2, 815], [1]].values, df.loc[[2, 815], [7]].values, 'bo')\n",
    "ax2.plot(df.loc[[3, 818], [1]].values, df.loc[[3, 818], [7]].values, 'bo')\n",
    "ax3.plot(df.loc[[10, 824], [1]].values, df.loc[[10, 824], [7]].values, 'bo')\n",
    "ax4.plot(df.loc[[11, 825], [1]].values, df.loc[[11, 825], [7]].values, 'bo')\n",
    "ax5.plot(df.loc[[5, 820], [1]].values, df.loc[[5, 820], [7]].values, 'bo')"
   ]
  },
  {
   "cell_type": "markdown",
   "metadata": {},
   "source": [
    "## Isolating `Column 2`"
   ]
  },
  {
   "cell_type": "code",
   "execution_count": 79,
   "metadata": {},
   "outputs": [
    {
     "data": {
      "text/plain": [
       "[[173, 538], [274, 633], [173, 538], [274, 633]]"
      ]
     },
     "execution_count": 79,
     "metadata": {},
     "output_type": "execute_result"
    }
   ],
   "source": [
    "isolate_column(2,2.0)"
   ]
  },
  {
   "cell_type": "code",
   "execution_count": null,
   "metadata": {},
   "outputs": [],
   "source": [
    "fig, (ax1, ax2) = pylab.subplots(1, 2)\n",
    "\n",
    "ax1.plot(df.loc[[173, 538], [4]].values, df.loc[[173, 538], [7]].values, 'bo')\n",
    "ax2.plot(df.loc[[407, 768], [4]].values, df.loc[[407, 768], [7]].values, 'bo')"
   ]
  },
  {
   "cell_type": "markdown",
   "metadata": {},
   "source": [
    "## Isolating `Column 3`"
   ]
  },
  {
   "cell_type": "code",
   "execution_count": 48,
   "metadata": {},
   "outputs": [
    {
     "data": {
      "text/plain": [
       "[[173, 538], [407, 768], [173, 538], [407, 768]]"
      ]
     },
     "execution_count": 48,
     "metadata": {},
     "output_type": "execute_result"
    }
   ],
   "source": [
    "isolate_column(3,1.9)"
   ]
  },
  {
   "cell_type": "code",
   "execution_count": 103,
   "metadata": {},
   "outputs": [
    {
     "data": {
      "text/plain": [
       "[<matplotlib.lines.Line2D at 0x1591e6091d0>]"
      ]
     },
     "execution_count": 103,
     "metadata": {},
     "output_type": "execute_result"
    },
    {
     "data": {
      "image/png": "[encoded data removed]",
      "text/plain": [
       "<Figure size 432x288 with 2 Axes>"
      ]
     },
     "metadata": {
      "needs_background": "light"
     },
     "output_type": "display_data"
    }
   ],
   "source": [
    "fig, (ax1, ax2) = pylab.subplots(1, 2)\n",
    "\n",
    "ax1.plot(df.loc[[173, 538], [3]].values, df.loc[[173, 538], [7]].values, 'bo')\n",
    "ax2.plot(df.loc[[407, 768], [3]].values, df.loc[[407, 768], [7]].values, 'bo')"
   ]
  },
  {
   "cell_type": "markdown",
   "metadata": {},
   "source": [
    "## Isolating `Column 4`"
   ]
  },
  {
   "cell_type": "code",
   "execution_count": 89,
   "metadata": {},
   "outputs": [
    {
     "data": {
      "text/plain": [
       "[[3, 101],\n",
       " [5, 237],\n",
       " [10, 108],\n",
       " [13, 111],\n",
       " [18, 117],\n",
       " [20, 120],\n",
       " [31, 131],\n",
       " [38, 137],\n",
       " [48, 145],\n",
       " [50, 282],\n",
       " [53, 286],\n",
       " [60, 294],\n",
       " [61, 160],\n",
       " [65, 165],\n",
       " [75, 175],\n",
       " [78, 178],\n",
       " [88, 188],\n",
       " [90, 321],\n",
       " [95, 195],\n",
       " [3, 101],\n",
       " [102, 204],\n",
       " [104, 337],\n",
       " [106, 209],\n",
       " [10, 108],\n",
       " [13, 111],\n",
       " [116, 217],\n",
       " [18, 117],\n",
       " [20, 120, 221],\n",
       " [122, 353],\n",
       " [123, 223],\n",
       " [31, 131],\n",
       " [132, 232],\n",
       " [38, 137],\n",
       " [138, 239],\n",
       " [48, 145],\n",
       " [147, 249],\n",
       " [150, 252],\n",
       " [153, 254],\n",
       " [155, 256],\n",
       " [61, 160],\n",
       " [65, 165],\n",
       " [168, 399],\n",
       " [170, 268],\n",
       " [173, 271],\n",
       " [75, 175],\n",
       " [78, 178],\n",
       " [181, 278],\n",
       " [183, 414],\n",
       " [88, 188],\n",
       " [189, 288],\n",
       " [95, 195],\n",
       " [200, 299],\n",
       " [102, 204],\n",
       " [207, 305],\n",
       " [106, 209],\n",
       " [210, 307],\n",
       " [116, 217],\n",
       " [120, 221],\n",
       " [123, 223],\n",
       " [226, 325],\n",
       " [132, 232],\n",
       " [234, 333],\n",
       " [5, 237, 469],\n",
       " [138, 239],\n",
       " [242, 340],\n",
       " [147, 249],\n",
       " [150, 252],\n",
       " [153, 254, 352],\n",
       " [155, 256],\n",
       " [262, 361],\n",
       " [266, 366],\n",
       " [170, 268],\n",
       " [269, 369],\n",
       " [173, 271],\n",
       " [274, 374],\n",
       " [277, 377],\n",
       " [181, 278],\n",
       " [50, 282, 514],\n",
       " [283, 382],\n",
       " [53, 286, 517],\n",
       " [189, 288],\n",
       " [290, 521],\n",
       " [60, 294],\n",
       " [200, 299],\n",
       " [207, 305],\n",
       " [210, 307],\n",
       " [310, 410],\n",
       " [318, 419],\n",
       " [90, 321, 422],\n",
       " [226, 325],\n",
       " [326, 426],\n",
       " [331, 432],\n",
       " [234, 333],\n",
       " [336, 436],\n",
       " [104, 337],\n",
       " [242, 340],\n",
       " [343, 444],\n",
       " [344, 576],\n",
       " [346, 579],\n",
       " [350, 452],\n",
       " [254, 352],\n",
       " [122, 353],\n",
       " [355, 457],\n",
       " [360, 462],\n",
       " [262, 361],\n",
       " [364, 465],\n",
       " [266, 366],\n",
       " [269, 369],\n",
       " [372, 472],\n",
       " [274, 374],\n",
       " [277, 377],\n",
       " [283, 382],\n",
       " [387, 490],\n",
       " [397, 499],\n",
       " [168, 399, 626],\n",
       " [403, 629],\n",
       " [405, 505],\n",
       " [407, 633],\n",
       " [310, 410],\n",
       " [183, 414],\n",
       " [417, 515],\n",
       " [318, 419],\n",
       " [321, 422, 520],\n",
       " [326, 426],\n",
       " [429, 527],\n",
       " [331, 432],\n",
       " [336, 436],\n",
       " [437, 537],\n",
       " [343, 444],\n",
       " [445, 544],\n",
       " [446, 673],\n",
       " [350, 452],\n",
       " [453, 680],\n",
       " [455, 554],\n",
       " [355, 457],\n",
       " [458, 557],\n",
       " [460, 559],\n",
       " [360, 462],\n",
       " [364, 465],\n",
       " [467, 696],\n",
       " [237, 469],\n",
       " [470, 569],\n",
       " [372, 472],\n",
       " [473, 572],\n",
       " [480, 578],\n",
       " [485, 581],\n",
       " [387, 490],\n",
       " [493, 588],\n",
       " [397, 499],\n",
       " [500, 595],\n",
       " [405, 505],\n",
       " [511, 739],\n",
       " [512, 607],\n",
       " [513, 641],\n",
       " [282, 514],\n",
       " [417, 515, 612],\n",
       " [286, 517],\n",
       " [518, 614],\n",
       " [422, 520],\n",
       " [290, 521, 749],\n",
       " [429, 527],\n",
       " [528, 622],\n",
       " [437, 537],\n",
       " [540, 632],\n",
       " [542, 769],\n",
       " [543, 635],\n",
       " [445, 544],\n",
       " [546, 639],\n",
       " [455, 554],\n",
       " [555, 649],\n",
       " [458, 557],\n",
       " [460, 559],\n",
       " [564, 660],\n",
       " [566, 796],\n",
       " [567, 662],\n",
       " [470, 569],\n",
       " [473, 572, 667],\n",
       " [575, 670],\n",
       " [344, 576, 805],\n",
       " [480, 578],\n",
       " [346, 579],\n",
       " [485, 581],\n",
       " [582, 678],\n",
       " [493, 588],\n",
       " [594, 692],\n",
       " [500, 595],\n",
       " [598, 697],\n",
       " [603, 703],\n",
       " [512, 607],\n",
       " [515, 612],\n",
       " [518, 614],\n",
       " [617, 716],\n",
       " [619, 719],\n",
       " [528, 622, 722],\n",
       " [624, 725],\n",
       " [399, 626],\n",
       " [403, 629],\n",
       " [540, 632],\n",
       " [407, 633],\n",
       " [543, 635],\n",
       " [546, 639],\n",
       " [513, 641],\n",
       " [644, 745],\n",
       " [555, 649],\n",
       " [652, 752],\n",
       " [654, 754],\n",
       " [564, 660],\n",
       " [567, 662],\n",
       " [665, 765],\n",
       " [572, 667],\n",
       " [575, 670],\n",
       " [446, 673],\n",
       " [582, 678],\n",
       " [453, 680],\n",
       " [681, 782],\n",
       " [594, 692],\n",
       " [467, 696],\n",
       " [598, 697],\n",
       " [698, 798],\n",
       " [603, 703, 802],\n",
       " [709, 807],\n",
       " [711, 810],\n",
       " [715, 815],\n",
       " [617, 716],\n",
       " [619, 719],\n",
       " [721, 822],\n",
       " [622, 722],\n",
       " [723, 824],\n",
       " [624, 725],\n",
       " [511, 739],\n",
       " [644, 745],\n",
       " [521, 749],\n",
       " [652, 752],\n",
       " [654, 754],\n",
       " [665, 765],\n",
       " [542, 769],\n",
       " [681, 782],\n",
       " [566, 796],\n",
       " [698, 798],\n",
       " [703, 802],\n",
       " [576, 805],\n",
       " [709, 807],\n",
       " [711, 810],\n",
       " [715, 815],\n",
       " [721, 822],\n",
       " [723, 824]]"
      ]
     },
     "execution_count": 89,
     "metadata": {},
     "output_type": "execute_result"
    }
   ],
   "source": [
    "isolate_column(4,1.3)"
   ]
  },
  {
   "cell_type": "code",
   "execution_count": 101,
   "metadata": {},
   "outputs": [
    {
     "data": {
      "text/plain": [
       "[<matplotlib.lines.Line2D at 0x1591e5467b8>]"
      ]
     },
     "execution_count": 101,
     "metadata": {},
     "output_type": "execute_result"
    },
    {
     "data": {
      "image/png": "[encoded data removed]",
      "text/plain": [
       "<Figure size 432x288 with 10 Axes>"
      ]
     },
     "metadata": {
      "needs_background": "light"
     },
     "output_type": "display_data"
    }
   ],
   "source": [
    "fig, ((ax1, ax2, ax3, ax4, ax5), (ax6, ax7, ax8, ax9, ax10)) = pylab.subplots(2, 5)\n",
    "\n",
    "ax1.plot(df.loc[[3, 101], [4]].values, df.loc[[3, 101], [7]].values, 'bo')\n",
    "ax2.plot(df.loc[[5, 237], [4]].values, df.loc[[5, 237], [7]].values, 'bo')\n",
    "ax3.plot(df.loc[[60, 294], [4]].values, df.loc[[60, 294], [7]].values, 'bo')\n",
    "ax4.plot(df.loc[[48, 145], [4]].values, df.loc[[48, 145], [7]].values, 'bo')\n",
    "ax5.plot(df.loc[[104, 337], [4]].values, df.loc[[104, 337], [7]].values, 'bo')\n",
    "ax6.plot(df.loc[[13, 111], [4]].values, df.loc[[13, 111], [7]].values, 'bo')\n",
    "ax7.plot(df.loc[[10, 108], [4]].values, df.loc[[10, 108], [7]].values, 'bo')\n",
    "ax8.plot(df.loc[[20, 120, 221], [4]].values, df.loc[[20, 120, 221], [7]].values, 'bo')\n",
    "ax9.plot(df.loc[[123, 223], [4]].values, df.loc[[123, 223], [7]].values, 'bo')\n",
    "ax10.plot(df.loc[[138, 239], [4]].values, df.loc[[138, 239], [7]].values, 'bo')"
   ]
  },
  {
   "cell_type": "markdown",
   "metadata": {},
   "source": [
    "## Isolating `Column 5`"
   ]
  },
  {
   "cell_type": "code",
   "execution_count": 72,
   "metadata": {},
   "outputs": [
    {
     "data": {
      "text/plain": [
       "[[173, 538], [173, 538]]"
      ]
     },
     "execution_count": 72,
     "metadata": {},
     "output_type": "execute_result"
    }
   ],
   "source": [
    "isolate_column(5,1.8)"
   ]
  },
  {
   "cell_type": "code",
   "execution_count": 92,
   "metadata": {},
   "outputs": [
    {
     "data": {
      "text/plain": [
       "[<matplotlib.lines.Line2D at 0x1591d939b38>]"
      ]
     },
     "execution_count": 92,
     "metadata": {},
     "output_type": "execute_result"
    },
    {
     "data": {
      "image/png": "[encoded data removed]",
      "text/plain": [
       "<Figure size 432x288 with 1 Axes>"
      ]
     },
     "metadata": {
      "needs_background": "light"
     },
     "output_type": "display_data"
    }
   ],
   "source": [
    "x = df.loc[[173, 538], [5]].values\n",
    "y = df.loc[[173, 538], [7]].values\n",
    "\n",
    "# plot\n",
    "pylab.plot(x, y, 'bo')"
   ]
  },
  {
   "cell_type": "markdown",
   "metadata": {},
   "source": [
    "## Isolating `Column 6`"
   ]
  },
  {
   "cell_type": "code",
   "execution_count": 78,
   "metadata": {
    "scrolled": true
   },
   "outputs": [
    {
     "data": {
      "text/plain": [
       "[[460, 769], [460, 769]]"
      ]
     },
     "execution_count": 78,
     "metadata": {},
     "output_type": "execute_result"
    }
   ],
   "source": [
    "isolate_column(6,0.5)"
   ]
  },
  {
   "cell_type": "code",
   "execution_count": 91,
   "metadata": {},
   "outputs": [
    {
     "data": {
      "text/plain": [
       "[<matplotlib.lines.Line2D at 0x1591d8ad588>]"
      ]
     },
     "execution_count": 91,
     "metadata": {},
     "output_type": "execute_result"
    },
    {
     "data": {
      "image/png": "[encoded data removed]",
      "text/plain": [
       "<Figure size 432x288 with 1 Axes>"
      ]
     },
     "metadata": {
      "needs_background": "light"
     },
     "output_type": "display_data"
    }
   ],
   "source": [
    "x = df.loc[[460,769], [6]].values\n",
    "y = df.loc[[460,769], [7]].values\n",
    "\n",
    "# plot\n",
    "pylab.plot(x, y, 'bo')"
   ]
  }
 ],
 "metadata": {
  "kernelspec": {
   "display_name": "Python 3",
   "language": "python",
   "name": "python3"
  },
  "language_info": {
   "codemirror_mode": {
    "name": "ipython",
    "version": 3
   },
   "file_extension": ".py",
   "mimetype": "text/x-python",
   "name": "python",
   "nbconvert_exporter": "python",
   "pygments_lexer": "ipython3",
   "version": "3.7.1"
  }
 },
 "nbformat": 4,
 "nbformat_minor": 2
}
