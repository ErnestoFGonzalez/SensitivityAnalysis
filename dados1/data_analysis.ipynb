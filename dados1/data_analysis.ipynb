{
 "cells": [
  {
   "cell_type": "markdown",
   "metadata": {},
   "source": [
    "Author: Ernesto González\n",
    "Date: 29/12/2019"
   ]
  },
  {
   "cell_type": "code",
   "execution_count": 2,
   "metadata": {},
   "outputs": [],
   "source": [
    "import numpy as np\n",
    "import pandas as pd\n",
    "import pylab\n",
    "from mpl_toolkits.mplot3d import Axes3D\n",
    "from sklearn.decomposition import PCA\n",
    "from sklearn.preprocessing import StandardScaler\n",
    "%matplotlib notebook"
   ]
  },
  {
   "cell_type": "markdown",
   "metadata": {},
   "source": [
    "Let's start by reading the data file `dados.dat` and creating a dataframe"
   ]
  },
  {
   "cell_type": "code",
   "execution_count": 3,
   "metadata": {},
   "outputs": [],
   "source": [
    "with open('dados.dat', 'r') as infile:\n",
    "    readlines = infile.readlines()\n",
    "    \n",
    "    df = []\n",
    "\n",
    "    for line in readlines: \n",
    "        temp = line.split('   ')\n",
    "        for elem in temp:\n",
    "            if elem == '':\n",
    "                temp.remove(elem)\n",
    "                continue\n",
    "            temp[temp.index(elem)] = float(elem.strip())\n",
    "        df.append([temp[0], float(temp[1]), temp[2], \n",
    "                   temp[3], temp[4], temp[5], temp[6], temp[7]])\n",
    "            \n",
    "df = pd.DataFrame(df)"
   ]
  },
  {
   "cell_type": "code",
   "execution_count": 4,
   "metadata": {
    "scrolled": false
   },
   "outputs": [
    {
     "data": {
      "text/html": [
       "<div>\n",
       "<style scoped>\n",
       "    .dataframe tbody tr th:only-of-type {\n",
       "        vertical-align: middle;\n",
       "    }\n",
       "\n",
       "    .dataframe tbody tr th {\n",
       "        vertical-align: top;\n",
       "    }\n",
       "\n",
       "    .dataframe thead th {\n",
       "        text-align: right;\n",
       "    }\n",
       "</style>\n",
       "<table border=\"1\" class=\"dataframe\">\n",
       "  <thead>\n",
       "    <tr style=\"text-align: right;\">\n",
       "      <th></th>\n",
       "      <th>0</th>\n",
       "      <th>1</th>\n",
       "      <th>2</th>\n",
       "      <th>3</th>\n",
       "      <th>4</th>\n",
       "      <th>5</th>\n",
       "      <th>6</th>\n",
       "      <th>7</th>\n",
       "    </tr>\n",
       "  </thead>\n",
       "  <tbody>\n",
       "    <tr>\n",
       "      <th>0</th>\n",
       "      <td>3.495620</td>\n",
       "      <td>0.854140</td>\n",
       "      <td>0.749902</td>\n",
       "      <td>0.192743</td>\n",
       "      <td>43.52330</td>\n",
       "      <td>2.02056</td>\n",
       "      <td>42.43320</td>\n",
       "      <td>84.10960</td>\n",
       "    </tr>\n",
       "    <tr>\n",
       "      <th>1</th>\n",
       "      <td>-4.480930</td>\n",
       "      <td>1.104820</td>\n",
       "      <td>0.485446</td>\n",
       "      <td>1.623300</td>\n",
       "      <td>9.09081</td>\n",
       "      <td>3.35892</td>\n",
       "      <td>46.48630</td>\n",
       "      <td>18.18030</td>\n",
       "    </tr>\n",
       "    <tr>\n",
       "      <th>2</th>\n",
       "      <td>2.775870</td>\n",
       "      <td>1.355500</td>\n",
       "      <td>0.220990</td>\n",
       "      <td>1.053850</td>\n",
       "      <td>24.65840</td>\n",
       "      <td>1.19727</td>\n",
       "      <td>50.53940</td>\n",
       "      <td>2.80000</td>\n",
       "    </tr>\n",
       "    <tr>\n",
       "      <th>3</th>\n",
       "      <td>1.696240</td>\n",
       "      <td>2.107530</td>\n",
       "      <td>0.427622</td>\n",
       "      <td>1.345510</td>\n",
       "      <td>21.36100</td>\n",
       "      <td>1.71233</td>\n",
       "      <td>8.69876</td>\n",
       "      <td>7.98009</td>\n",
       "    </tr>\n",
       "    <tr>\n",
       "      <th>4</th>\n",
       "      <td>-4.580720</td>\n",
       "      <td>2.358210</td>\n",
       "      <td>0.163166</td>\n",
       "      <td>0.776062</td>\n",
       "      <td>36.92860</td>\n",
       "      <td>3.05069</td>\n",
       "      <td>12.75190</td>\n",
       "      <td>6.76006</td>\n",
       "    </tr>\n",
       "    <tr>\n",
       "      <th>...</th>\n",
       "      <td>...</td>\n",
       "      <td>...</td>\n",
       "      <td>...</td>\n",
       "      <td>...</td>\n",
       "      <td>...</td>\n",
       "      <td>...</td>\n",
       "      <td>...</td>\n",
       "      <td>...</td>\n",
       "    </tr>\n",
       "    <tr>\n",
       "      <th>821</th>\n",
       "      <td>1.779430</td>\n",
       "      <td>0.027883</td>\n",
       "      <td>0.880700</td>\n",
       "      <td>0.162503</td>\n",
       "      <td>17.66680</td>\n",
       "      <td>2.34437</td>\n",
       "      <td>21.23360</td>\n",
       "      <td>0.10000</td>\n",
       "    </tr>\n",
       "    <tr>\n",
       "      <th>822</th>\n",
       "      <td>1.059680</td>\n",
       "      <td>0.529239</td>\n",
       "      <td>0.351788</td>\n",
       "      <td>1.023610</td>\n",
       "      <td>48.80190</td>\n",
       "      <td>1.52108</td>\n",
       "      <td>29.33990</td>\n",
       "      <td>32.86050</td>\n",
       "    </tr>\n",
       "    <tr>\n",
       "      <th>823</th>\n",
       "      <td>0.699809</td>\n",
       "      <td>0.779917</td>\n",
       "      <td>0.087332</td>\n",
       "      <td>0.454162</td>\n",
       "      <td>14.36940</td>\n",
       "      <td>2.85944</td>\n",
       "      <td>33.39300</td>\n",
       "      <td>4.00000</td>\n",
       "    </tr>\n",
       "    <tr>\n",
       "      <th>824</th>\n",
       "      <td>3.980060</td>\n",
       "      <td>1.281270</td>\n",
       "      <td>0.558420</td>\n",
       "      <td>1.315270</td>\n",
       "      <td>45.50450</td>\n",
       "      <td>2.03614</td>\n",
       "      <td>41.49920</td>\n",
       "      <td>42.51890</td>\n",
       "    </tr>\n",
       "    <tr>\n",
       "      <th>825</th>\n",
       "      <td>-3.419800</td>\n",
       "      <td>1.531950</td>\n",
       "      <td>0.293964</td>\n",
       "      <td>0.745821</td>\n",
       "      <td>11.07210</td>\n",
       "      <td>3.37450</td>\n",
       "      <td>45.55230</td>\n",
       "      <td>3.50000</td>\n",
       "    </tr>\n",
       "  </tbody>\n",
       "</table>\n",
       "<p>826 rows × 8 columns</p>\n",
       "</div>"
      ],
      "text/plain": [
       "            0         1         2         3         4        5         6  \\\n",
       "0    3.495620  0.854140  0.749902  0.192743  43.52330  2.02056  42.43320   \n",
       "1   -4.480930  1.104820  0.485446  1.623300   9.09081  3.35892  46.48630   \n",
       "2    2.775870  1.355500  0.220990  1.053850  24.65840  1.19727  50.53940   \n",
       "3    1.696240  2.107530  0.427622  1.345510  21.36100  1.71233   8.69876   \n",
       "4   -4.580720  2.358210  0.163166  0.776062  36.92860  3.05069  12.75190   \n",
       "..        ...       ...       ...       ...       ...      ...       ...   \n",
       "821  1.779430  0.027883  0.880700  0.162503  17.66680  2.34437  21.23360   \n",
       "822  1.059680  0.529239  0.351788  1.023610  48.80190  1.52108  29.33990   \n",
       "823  0.699809  0.779917  0.087332  0.454162  14.36940  2.85944  33.39300   \n",
       "824  3.980060  1.281270  0.558420  1.315270  45.50450  2.03614  41.49920   \n",
       "825 -3.419800  1.531950  0.293964  0.745821  11.07210  3.37450  45.55230   \n",
       "\n",
       "            7  \n",
       "0    84.10960  \n",
       "1    18.18030  \n",
       "2     2.80000  \n",
       "3     7.98009  \n",
       "4     6.76006  \n",
       "..        ...  \n",
       "821   0.10000  \n",
       "822  32.86050  \n",
       "823   4.00000  \n",
       "824  42.51890  \n",
       "825   3.50000  \n",
       "\n",
       "[826 rows x 8 columns]"
      ]
     },
     "execution_count": 4,
     "metadata": {},
     "output_type": "execute_result"
    }
   ],
   "source": [
    "df"
   ]
  },
  {
   "cell_type": "markdown",
   "metadata": {},
   "source": [
    "Before applying the PCA method we should normalize the data."
   ]
  },
  {
   "cell_type": "code",
   "execution_count": 5,
   "metadata": {},
   "outputs": [],
   "source": [
    "parameters = [0, 1, 2, 3, 4, 5, 6]\n",
    "\n",
    "# separating out the parameters\n",
    "x = df.loc[:, parameters].values\n",
    "\n",
    "# separating out the output\n",
    "y = df.loc[:,[7]].values\n",
    "\n",
    "# standardizing the features\n",
    "x = StandardScaler().fit_transform(x)"
   ]
  },
  {
   "cell_type": "markdown",
   "metadata": {},
   "source": [
    "Now we can apply the PCA method"
   ]
  },
  {
   "cell_type": "code",
   "execution_count": 6,
   "metadata": {},
   "outputs": [],
   "source": [
    "normalized_inputs = StandardScaler().fit_transform(x)\n",
    "pca = PCA(n_components=2)\n",
    "principal_components = pca.fit_transform(normalized_inputs)\n",
    "\n",
    "principalDf = pd.DataFrame(data=principal_components, \n",
    "                           columns = ['principal component 1', 'principal component 2'])"
   ]
  },
  {
   "cell_type": "code",
   "execution_count": 7,
   "metadata": {},
   "outputs": [],
   "source": [
    "finalDf = pd.concat([principalDf, df[[7]]], axis=1)"
   ]
  },
  {
   "cell_type": "code",
   "execution_count": 8,
   "metadata": {},
   "outputs": [
    {
     "data": {
      "text/html": [
       "<div>\n",
       "<style scoped>\n",
       "    .dataframe tbody tr th:only-of-type {\n",
       "        vertical-align: middle;\n",
       "    }\n",
       "\n",
       "    .dataframe tbody tr th {\n",
       "        vertical-align: top;\n",
       "    }\n",
       "\n",
       "    .dataframe thead th {\n",
       "        text-align: right;\n",
       "    }\n",
       "</style>\n",
       "<table border=\"1\" class=\"dataframe\">\n",
       "  <thead>\n",
       "    <tr style=\"text-align: right;\">\n",
       "      <th></th>\n",
       "      <th>principal component 1</th>\n",
       "      <th>principal component 2</th>\n",
       "      <th>7</th>\n",
       "    </tr>\n",
       "  </thead>\n",
       "  <tbody>\n",
       "    <tr>\n",
       "      <th>0</th>\n",
       "      <td>1.106882</td>\n",
       "      <td>-1.321242</td>\n",
       "      <td>84.10960</td>\n",
       "    </tr>\n",
       "    <tr>\n",
       "      <th>1</th>\n",
       "      <td>-0.333107</td>\n",
       "      <td>0.409863</td>\n",
       "      <td>18.18030</td>\n",
       "    </tr>\n",
       "    <tr>\n",
       "      <th>2</th>\n",
       "      <td>-0.601398</td>\n",
       "      <td>0.621101</td>\n",
       "      <td>2.80000</td>\n",
       "    </tr>\n",
       "    <tr>\n",
       "      <th>3</th>\n",
       "      <td>-0.838568</td>\n",
       "      <td>-0.148524</td>\n",
       "      <td>7.98009</td>\n",
       "    </tr>\n",
       "    <tr>\n",
       "      <th>4</th>\n",
       "      <td>-0.860202</td>\n",
       "      <td>-0.569062</td>\n",
       "      <td>6.76006</td>\n",
       "    </tr>\n",
       "    <tr>\n",
       "      <th>...</th>\n",
       "      <td>...</td>\n",
       "      <td>...</td>\n",
       "      <td>...</td>\n",
       "    </tr>\n",
       "    <tr>\n",
       "      <th>821</th>\n",
       "      <td>0.451673</td>\n",
       "      <td>-2.562386</td>\n",
       "      <td>0.10000</td>\n",
       "    </tr>\n",
       "    <tr>\n",
       "      <th>822</th>\n",
       "      <td>-0.875158</td>\n",
       "      <td>-0.267020</td>\n",
       "      <td>32.86050</td>\n",
       "    </tr>\n",
       "    <tr>\n",
       "      <th>823</th>\n",
       "      <td>-1.023965</td>\n",
       "      <td>-0.958320</td>\n",
       "      <td>4.00000</td>\n",
       "    </tr>\n",
       "    <tr>\n",
       "      <th>824</th>\n",
       "      <td>0.278443</td>\n",
       "      <td>0.421765</td>\n",
       "      <td>42.51890</td>\n",
       "    </tr>\n",
       "    <tr>\n",
       "      <th>825</th>\n",
       "      <td>-0.172893</td>\n",
       "      <td>-0.367407</td>\n",
       "      <td>3.50000</td>\n",
       "    </tr>\n",
       "  </tbody>\n",
       "</table>\n",
       "<p>826 rows × 3 columns</p>\n",
       "</div>"
      ],
      "text/plain": [
       "     principal component 1  principal component 2         7\n",
       "0                 1.106882              -1.321242  84.10960\n",
       "1                -0.333107               0.409863  18.18030\n",
       "2                -0.601398               0.621101   2.80000\n",
       "3                -0.838568              -0.148524   7.98009\n",
       "4                -0.860202              -0.569062   6.76006\n",
       "..                     ...                    ...       ...\n",
       "821               0.451673              -2.562386   0.10000\n",
       "822              -0.875158              -0.267020  32.86050\n",
       "823              -1.023965              -0.958320   4.00000\n",
       "824               0.278443               0.421765  42.51890\n",
       "825              -0.172893              -0.367407   3.50000\n",
       "\n",
       "[826 rows x 3 columns]"
      ]
     },
     "execution_count": 8,
     "metadata": {},
     "output_type": "execute_result"
    }
   ],
   "source": [
    "finalDf"
   ]
  },
  {
   "cell_type": "markdown",
   "metadata": {},
   "source": [
    "Now we use `pca.explained_variance_ratio_`. The explained variance tells you how much information (variance) can be attributed to each of the principal components. "
   ]
  },
  {
   "cell_type": "code",
   "execution_count": 9,
   "metadata": {},
   "outputs": [
    {
     "data": {
      "text/plain": [
       "array([0.18251581, 0.16080563])"
      ]
     },
     "execution_count": 9,
     "metadata": {},
     "output_type": "execute_result"
    }
   ],
   "source": [
    "pca.explained_variance_ratio_"
   ]
  },
  {
   "cell_type": "markdown",
   "metadata": {},
   "source": [
    "This way we see that the first principal component contains 18.23% of the variance and the second principal component contains 16.08% of the variance. Together, the two components contain 34.33% of the information."
   ]
  },
  {
   "cell_type": "markdown",
   "metadata": {},
   "source": [
    "Now we use `pca.components_` that gives us the eigenvectors of the PCA method, i.e. the direction of the principal components 1 and principal component 2 in the original vector space."
   ]
  },
  {
   "cell_type": "code",
   "execution_count": 10,
   "metadata": {},
   "outputs": [
    {
     "data": {
      "text/plain": [
       "array([[ 0.11221458,  0.53220522,  0.66025691, -0.27648913,  0.11041312,\n",
       "         0.23912327,  0.34987008],\n",
       "       [ 0.03630264,  0.46439203, -0.26086447,  0.72524986,  0.10218483,\n",
       "        -0.12808001,  0.40266401]])"
      ]
     },
     "execution_count": 10,
     "metadata": {},
     "output_type": "execute_result"
    }
   ],
   "source": [
    "pca.components_"
   ]
  },
  {
   "cell_type": "markdown",
   "metadata": {},
   "source": [
    "Portanto $$v_1=(0.11221458,0.53220522,0.66025691,-0.27648913,0.11041312,0.23912327,0.34987008)$$ e \n",
    "$$v_2=(0.03630264,0.46439203,-0.26086447,0.72524986,0.10218483,-0.12808001,0.40266401)$$"
   ]
  },
  {
   "cell_type": "code",
   "execution_count": 11,
   "metadata": {},
   "outputs": [
    {
     "data": {
      "image/png": "[encoded data removed]",
      "text/plain": [
       "<Figure size 432x288 with 1 Axes>"
      ]
     },
     "metadata": {
      "needs_background": "light"
     },
     "output_type": "display_data"
    }
   ],
   "source": [
    "figure = pylab.figure().gca(projection='3d')\n",
    "figure.scatter(finalDf['principal component 1'], finalDf['principal component 2'], finalDf[[7]])\n",
    "figure.set_xlabel('principal component 1')\n",
    "figure.set_ylabel('principal component 2')\n",
    "figure.set_zlabel('7')\n",
    "pylab.show()"
   ]
  },
  {
   "cell_type": "markdown",
   "metadata": {},
   "source": [
    "# Apply PCA to whole dataframe"
   ]
  },
  {
   "cell_type": "code",
   "execution_count": 12,
   "metadata": {},
   "outputs": [],
   "source": [
    "nDF = StandardScaler().fit_transform(df)\n",
    "pca = PCA(n_components=2)\n",
    "principal_components = pca.fit_transform(nDF)\n",
    "\n",
    "principalDf = pd.DataFrame(data=principal_components, \n",
    "                           columns = ['principal component 1', 'principal component 2'])"
   ]
  },
  {
   "cell_type": "code",
   "execution_count": 13,
   "metadata": {},
   "outputs": [
    {
     "data": {
      "text/html": [
       "<div>\n",
       "<style scoped>\n",
       "    .dataframe tbody tr th:only-of-type {\n",
       "        vertical-align: middle;\n",
       "    }\n",
       "\n",
       "    .dataframe tbody tr th {\n",
       "        vertical-align: top;\n",
       "    }\n",
       "\n",
       "    .dataframe thead th {\n",
       "        text-align: right;\n",
       "    }\n",
       "</style>\n",
       "<table border=\"1\" class=\"dataframe\">\n",
       "  <thead>\n",
       "    <tr style=\"text-align: right;\">\n",
       "      <th></th>\n",
       "      <th>principal component 1</th>\n",
       "      <th>principal component 2</th>\n",
       "    </tr>\n",
       "  </thead>\n",
       "  <tbody>\n",
       "    <tr>\n",
       "      <th>0</th>\n",
       "      <td>2.514710</td>\n",
       "      <td>-0.094856</td>\n",
       "    </tr>\n",
       "    <tr>\n",
       "      <th>1</th>\n",
       "      <td>-0.033750</td>\n",
       "      <td>0.281165</td>\n",
       "    </tr>\n",
       "    <tr>\n",
       "      <th>2</th>\n",
       "      <td>-0.720192</td>\n",
       "      <td>0.299280</td>\n",
       "    </tr>\n",
       "    <tr>\n",
       "      <th>3</th>\n",
       "      <td>-0.245678</td>\n",
       "      <td>0.829692</td>\n",
       "    </tr>\n",
       "    <tr>\n",
       "      <th>4</th>\n",
       "      <td>0.244227</td>\n",
       "      <td>1.134412</td>\n",
       "    </tr>\n",
       "    <tr>\n",
       "      <th>...</th>\n",
       "      <td>...</td>\n",
       "      <td>...</td>\n",
       "    </tr>\n",
       "    <tr>\n",
       "      <th>821</th>\n",
       "      <td>1.419264</td>\n",
       "      <td>0.390659</td>\n",
       "    </tr>\n",
       "    <tr>\n",
       "      <th>822</th>\n",
       "      <td>0.705759</td>\n",
       "      <td>1.258011</td>\n",
       "    </tr>\n",
       "    <tr>\n",
       "      <th>823</th>\n",
       "      <td>-0.083010</td>\n",
       "      <td>1.198327</td>\n",
       "    </tr>\n",
       "    <tr>\n",
       "      <th>824</th>\n",
       "      <td>1.028346</td>\n",
       "      <td>0.060652</td>\n",
       "    </tr>\n",
       "    <tr>\n",
       "      <th>825</th>\n",
       "      <td>-0.031337</td>\n",
       "      <td>0.230507</td>\n",
       "    </tr>\n",
       "  </tbody>\n",
       "</table>\n",
       "<p>826 rows × 2 columns</p>\n",
       "</div>"
      ],
      "text/plain": [
       "     principal component 1  principal component 2\n",
       "0                 2.514710              -0.094856\n",
       "1                -0.033750               0.281165\n",
       "2                -0.720192               0.299280\n",
       "3                -0.245678               0.829692\n",
       "4                 0.244227               1.134412\n",
       "..                     ...                    ...\n",
       "821               1.419264               0.390659\n",
       "822               0.705759               1.258011\n",
       "823              -0.083010               1.198327\n",
       "824               1.028346               0.060652\n",
       "825              -0.031337               0.230507\n",
       "\n",
       "[826 rows x 2 columns]"
      ]
     },
     "execution_count": 13,
     "metadata": {},
     "output_type": "execute_result"
    }
   ],
   "source": [
    "principalDf"
   ]
  },
  {
   "cell_type": "code",
   "execution_count": 14,
   "metadata": {},
   "outputs": [
    {
     "data": {
      "text/plain": [
       "<matplotlib.axes._subplots.AxesSubplot at 0x2a242fa4588>"
      ]
     },
     "execution_count": 14,
     "metadata": {},
     "output_type": "execute_result"
    },
    {
     "data": {
      "image/png": "[encoded data removed]",
      "text/plain": [
       "<Figure size 432x288 with 1 Axes>"
      ]
     },
     "metadata": {
      "needs_background": "light"
     },
     "output_type": "display_data"
    }
   ],
   "source": [
    "principalDf.plot(x='principal component 1', y='principal component 2', kind='scatter')"
   ]
  },
  {
   "cell_type": "code",
   "execution_count": 15,
   "metadata": {},
   "outputs": [
    {
     "data": {
      "text/plain": [
       "array([[ 0.05138702, -0.17186915,  0.44900399, -0.32321236,  0.29956843,\n",
       "         0.3632416 , -0.08295572,  0.65816579],\n",
       "       [-0.09973638, -0.68954647, -0.50366819,  0.0827247 ,  0.00906892,\n",
       "        -0.08233037, -0.45706933,  0.19565374]])"
      ]
     },
     "execution_count": 15,
     "metadata": {},
     "output_type": "execute_result"
    }
   ],
   "source": [
    "pca.components_"
   ]
  },
  {
   "cell_type": "markdown",
   "metadata": {},
   "source": [
    "In the above figure we see how data generally focuses around $(0,0)$. The exception is the group of datapoints with coordinates in PC1 larger than $2$. We will separate this two data regimes (first regime for datapoints with PC1 lesser or equal to 2, second regime are datapoints with PC1 coords bigger thant 2) and then apply PCA to each of them."
   ]
  },
  {
   "cell_type": "code",
   "execution_count": 16,
   "metadata": {},
   "outputs": [],
   "source": [
    "# separating the two regimes\n",
    "first_regime_idx = principalDf.index[principalDf['principal component 1']<=2]\n",
    "firstRegimeDf = df.loc[first_regime_idx]\n",
    "second_regime_idx = principalDf.index[principalDf['principal component 1']>2]\n",
    "secondRegimeDf = df.loc[second_regime_idx]"
   ]
  },
  {
   "cell_type": "markdown",
   "metadata": {},
   "source": [
    "### First Regime"
   ]
  },
  {
   "cell_type": "code",
   "execution_count": 17,
   "metadata": {},
   "outputs": [
    {
     "data": {
      "text/plain": [
       "<matplotlib.axes._subplots.AxesSubplot at 0x2a243046eb8>"
      ]
     },
     "execution_count": 17,
     "metadata": {},
     "output_type": "execute_result"
    },
    {
     "data": {
      "image/png": "[encoded data removed]",
      "text/plain": [
       "<Figure size 432x288 with 1 Axes>"
      ]
     },
     "metadata": {
      "needs_background": "light"
     },
     "output_type": "display_data"
    }
   ],
   "source": [
    "# Applying normalizing and applying PCA to first regime\n",
    "nDF = StandardScaler().fit_transform(firstRegimeDf)\n",
    "pca = PCA(n_components=2)\n",
    "principal_components = pca.fit_transform(nDF)\n",
    "principalDf = pd.DataFrame(data=principal_components, \n",
    "                           columns = ['principal component 1', 'principal component 2'])\n",
    "\n",
    "principalDf.plot(x='principal component 1', y='principal component 2', kind='scatter')"
   ]
  },
  {
   "cell_type": "code",
   "execution_count": 18,
   "metadata": {},
   "outputs": [
    {
     "data": {
      "text/plain": [
       "array([[-0.02554221,  0.14924096,  0.58317163, -0.11981782,  0.32328441,\n",
       "         0.29477109,  0.1648722 ,  0.63564426],\n",
       "       [-0.12700845, -0.6527734 , -0.35486197,  0.22131772,  0.28415442,\n",
       "         0.05319212, -0.33436201,  0.43298511]])"
      ]
     },
     "execution_count": 18,
     "metadata": {},
     "output_type": "execute_result"
    }
   ],
   "source": [
    "pca.components_"
   ]
  },
  {
   "cell_type": "code",
   "execution_count": 19,
   "metadata": {},
   "outputs": [
    {
     "data": {
      "text/plain": [
       "array([0.17640067, 0.15485737])"
      ]
     },
     "execution_count": 19,
     "metadata": {},
     "output_type": "execute_result"
    }
   ],
   "source": [
    "pca.explained_variance_ratio_"
   ]
  },
  {
   "cell_type": "markdown",
   "metadata": {},
   "source": [
    "### Second Regime"
   ]
  },
  {
   "cell_type": "code",
   "execution_count": 22,
   "metadata": {},
   "outputs": [
    {
     "data": {
      "text/plain": [
       "<matplotlib.axes._subplots.AxesSubplot at 0x2a24319bcf8>"
      ]
     },
     "execution_count": 22,
     "metadata": {},
     "output_type": "execute_result"
    },
    {
     "data": {
      "image/png": "[encoded data removed]",
      "text/plain": [
       "<Figure size 432x288 with 1 Axes>"
      ]
     },
     "metadata": {
      "needs_background": "light"
     },
     "output_type": "display_data"
    }
   ],
   "source": [
    "# Applying normalizing and applying PCA to second regime\n",
    "nDF = StandardScaler().fit_transform(secondRegimeDf)\n",
    "pca = PCA(n_components=2)\n",
    "principal_components = pca.fit_transform(nDF)\n",
    "principalDf = pd.DataFrame(data=principal_components, \n",
    "                           columns = ['principal component 1', 'principal component 2'])\n",
    "principalDf.plot(x='principal component 1', y='principal component 2', kind='scatter')"
   ]
  },
  {
   "cell_type": "code",
   "execution_count": 24,
   "metadata": {},
   "outputs": [
    {
     "data": {
      "text/html": [
       "<div>\n",
       "<style scoped>\n",
       "    .dataframe tbody tr th:only-of-type {\n",
       "        vertical-align: middle;\n",
       "    }\n",
       "\n",
       "    .dataframe tbody tr th {\n",
       "        vertical-align: top;\n",
       "    }\n",
       "\n",
       "    .dataframe thead th {\n",
       "        text-align: right;\n",
       "    }\n",
       "</style>\n",
       "<table border=\"1\" class=\"dataframe\">\n",
       "  <thead>\n",
       "    <tr style=\"text-align: right;\">\n",
       "      <th></th>\n",
       "      <th>principal component 1</th>\n",
       "      <th>principal component 2</th>\n",
       "    </tr>\n",
       "  </thead>\n",
       "  <tbody>\n",
       "    <tr>\n",
       "      <th>0</th>\n",
       "      <td>0.194243</td>\n",
       "      <td>-0.845734</td>\n",
       "    </tr>\n",
       "    <tr>\n",
       "      <th>1</th>\n",
       "      <td>0.067642</td>\n",
       "      <td>-1.149846</td>\n",
       "    </tr>\n",
       "    <tr>\n",
       "      <th>2</th>\n",
       "      <td>1.126239</td>\n",
       "      <td>0.564407</td>\n",
       "    </tr>\n",
       "    <tr>\n",
       "      <th>3</th>\n",
       "      <td>-1.088271</td>\n",
       "      <td>2.591307</td>\n",
       "    </tr>\n",
       "    <tr>\n",
       "      <th>4</th>\n",
       "      <td>2.283662</td>\n",
       "      <td>-0.332273</td>\n",
       "    </tr>\n",
       "    <tr>\n",
       "      <th>5</th>\n",
       "      <td>-2.309941</td>\n",
       "      <td>0.177017</td>\n",
       "    </tr>\n",
       "    <tr>\n",
       "      <th>6</th>\n",
       "      <td>0.203657</td>\n",
       "      <td>1.362402</td>\n",
       "    </tr>\n",
       "    <tr>\n",
       "      <th>7</th>\n",
       "      <td>2.461597</td>\n",
       "      <td>0.133797</td>\n",
       "    </tr>\n",
       "    <tr>\n",
       "      <th>8</th>\n",
       "      <td>-1.965393</td>\n",
       "      <td>-2.286330</td>\n",
       "    </tr>\n",
       "    <tr>\n",
       "      <th>9</th>\n",
       "      <td>-1.466056</td>\n",
       "      <td>-1.970528</td>\n",
       "    </tr>\n",
       "    <tr>\n",
       "      <th>10</th>\n",
       "      <td>0.581952</td>\n",
       "      <td>-0.123717</td>\n",
       "    </tr>\n",
       "    <tr>\n",
       "      <th>11</th>\n",
       "      <td>-1.986856</td>\n",
       "      <td>2.237155</td>\n",
       "    </tr>\n",
       "    <tr>\n",
       "      <th>12</th>\n",
       "      <td>-2.662009</td>\n",
       "      <td>0.447637</td>\n",
       "    </tr>\n",
       "    <tr>\n",
       "      <th>13</th>\n",
       "      <td>-1.711608</td>\n",
       "      <td>-1.685132</td>\n",
       "    </tr>\n",
       "    <tr>\n",
       "      <th>14</th>\n",
       "      <td>2.992069</td>\n",
       "      <td>0.690947</td>\n",
       "    </tr>\n",
       "    <tr>\n",
       "      <th>15</th>\n",
       "      <td>0.528784</td>\n",
       "      <td>2.223649</td>\n",
       "    </tr>\n",
       "    <tr>\n",
       "      <th>16</th>\n",
       "      <td>2.034230</td>\n",
       "      <td>0.236477</td>\n",
       "    </tr>\n",
       "    <tr>\n",
       "      <th>17</th>\n",
       "      <td>-0.757752</td>\n",
       "      <td>0.150239</td>\n",
       "    </tr>\n",
       "    <tr>\n",
       "      <th>18</th>\n",
       "      <td>1.204973</td>\n",
       "      <td>-0.206533</td>\n",
       "    </tr>\n",
       "    <tr>\n",
       "      <th>19</th>\n",
       "      <td>-1.430131</td>\n",
       "      <td>-0.696652</td>\n",
       "    </tr>\n",
       "    <tr>\n",
       "      <th>20</th>\n",
       "      <td>-0.127070</td>\n",
       "      <td>-0.461279</td>\n",
       "    </tr>\n",
       "    <tr>\n",
       "      <th>21</th>\n",
       "      <td>0.634205</td>\n",
       "      <td>1.196909</td>\n",
       "    </tr>\n",
       "    <tr>\n",
       "      <th>22</th>\n",
       "      <td>-0.451356</td>\n",
       "      <td>-0.105590</td>\n",
       "    </tr>\n",
       "    <tr>\n",
       "      <th>23</th>\n",
       "      <td>0.144119</td>\n",
       "      <td>-1.491071</td>\n",
       "    </tr>\n",
       "    <tr>\n",
       "      <th>24</th>\n",
       "      <td>0.207213</td>\n",
       "      <td>-0.340295</td>\n",
       "    </tr>\n",
       "    <tr>\n",
       "      <th>25</th>\n",
       "      <td>2.362361</td>\n",
       "      <td>0.338891</td>\n",
       "    </tr>\n",
       "    <tr>\n",
       "      <th>26</th>\n",
       "      <td>-0.666941</td>\n",
       "      <td>-0.765275</td>\n",
       "    </tr>\n",
       "    <tr>\n",
       "      <th>27</th>\n",
       "      <td>-0.445633</td>\n",
       "      <td>-0.116079</td>\n",
       "    </tr>\n",
       "    <tr>\n",
       "      <th>28</th>\n",
       "      <td>2.197180</td>\n",
       "      <td>0.293484</td>\n",
       "    </tr>\n",
       "    <tr>\n",
       "      <th>29</th>\n",
       "      <td>0.105820</td>\n",
       "      <td>-1.028115</td>\n",
       "    </tr>\n",
       "    <tr>\n",
       "      <th>30</th>\n",
       "      <td>-1.245369</td>\n",
       "      <td>0.085729</td>\n",
       "    </tr>\n",
       "    <tr>\n",
       "      <th>31</th>\n",
       "      <td>-0.089774</td>\n",
       "      <td>-1.010139</td>\n",
       "    </tr>\n",
       "    <tr>\n",
       "      <th>32</th>\n",
       "      <td>-2.727715</td>\n",
       "      <td>2.602226</td>\n",
       "    </tr>\n",
       "    <tr>\n",
       "      <th>33</th>\n",
       "      <td>1.801929</td>\n",
       "      <td>-0.717683</td>\n",
       "    </tr>\n",
       "  </tbody>\n",
       "</table>\n",
       "</div>"
      ],
      "text/plain": [
       "    principal component 1  principal component 2\n",
       "0                0.194243              -0.845734\n",
       "1                0.067642              -1.149846\n",
       "2                1.126239               0.564407\n",
       "3               -1.088271               2.591307\n",
       "4                2.283662              -0.332273\n",
       "5               -2.309941               0.177017\n",
       "6                0.203657               1.362402\n",
       "7                2.461597               0.133797\n",
       "8               -1.965393              -2.286330\n",
       "9               -1.466056              -1.970528\n",
       "10               0.581952              -0.123717\n",
       "11              -1.986856               2.237155\n",
       "12              -2.662009               0.447637\n",
       "13              -1.711608              -1.685132\n",
       "14               2.992069               0.690947\n",
       "15               0.528784               2.223649\n",
       "16               2.034230               0.236477\n",
       "17              -0.757752               0.150239\n",
       "18               1.204973              -0.206533\n",
       "19              -1.430131              -0.696652\n",
       "20              -0.127070              -0.461279\n",
       "21               0.634205               1.196909\n",
       "22              -0.451356              -0.105590\n",
       "23               0.144119              -1.491071\n",
       "24               0.207213              -0.340295\n",
       "25               2.362361               0.338891\n",
       "26              -0.666941              -0.765275\n",
       "27              -0.445633              -0.116079\n",
       "28               2.197180               0.293484\n",
       "29               0.105820              -1.028115\n",
       "30              -1.245369               0.085729\n",
       "31              -0.089774              -1.010139\n",
       "32              -2.727715               2.602226\n",
       "33               1.801929              -0.717683"
      ]
     },
     "execution_count": 24,
     "metadata": {},
     "output_type": "execute_result"
    }
   ],
   "source": [
    "principalDf"
   ]
  },
  {
   "cell_type": "code",
   "execution_count": 52,
   "metadata": {},
   "outputs": [
    {
     "data": {
      "text/plain": [
       "array([[ 0.31735559,  0.60289043,  0.46245722,  0.34919558,  0.24053158,\n",
       "         0.18508668,  0.17432564, -0.27839249],\n",
       "       [ 0.29105121,  0.03692512, -0.17024696,  0.40373631,  0.30517285,\n",
       "         0.02791753, -0.54186716,  0.57828092]])"
      ]
     },
     "execution_count": 52,
     "metadata": {},
     "output_type": "execute_result"
    }
   ],
   "source": [
    "pca.components_"
   ]
  },
  {
   "cell_type": "code",
   "execution_count": 54,
   "metadata": {},
   "outputs": [
    {
     "data": {
      "text/plain": [
       "array([0.29741875, 0.17813504])"
      ]
     },
     "execution_count": 54,
     "metadata": {},
     "output_type": "execute_result"
    }
   ],
   "source": [
    "pca.explained_variance_ratio_"
   ]
  },
  {
   "cell_type": "markdown",
   "metadata": {},
   "source": [
    "### Discussion about first and second regime\n",
    "From the above computations we get a PC1 for the first regime with $v_1=(-0.02554221,  0.14924096,  0.58317163, -0.11981782,  0.32328441, 0.29477109,  0.1648722,  0.63564426)$\n",
    "<br>\n",
    "and for the second regime $v_1=(0.31735559,  0.60289043,  0.46245722,  0.34919558,  0.24053158,\n",
    "         0.18508668,  0.17432564, -0.27839249)$\n",
    "         \n",
    "         \n",
    "\n",
    "\\begin{array}{|c|c|} \\hline\n",
    "    \\text{First Regime} & \\text{Second Regime} \\\\ \\hline\n",
    "    -0.02554221 & 0.31735559 \\\\ \\hline\n",
    "    0.14924096 & 0.60289043 \\\\ \\hline\n",
    "    0.58317163 & 0.46245722 \\\\ \\hline\n",
    "    -0.11981782 & 0.34919558 \\\\ \\hline\n",
    "    0.32328441 & 0.24053158 \\\\ \\hline\n",
    "    0.29477109 & 0.18508668 \\\\ \\hline\n",
    "    0.1648722 & 0.17432564 \\\\ \\hline\n",
    "    0.63564426 & -0.27839249 \\\\ \\hline\n",
    "\\end{array}"
   ]
  },
  {
   "cell_type": "markdown",
   "metadata": {},
   "source": [
    "From column influence to the first regime is\n",
    "- `Column 2`\n",
    "- `Column 4`\n",
    "- `Column 5`\n",
    "- `Column 6`\n",
    "- `Column 1`\n",
    "- `Column 3`"
   ]
  },
  {
   "cell_type": "markdown",
   "metadata": {},
   "source": [
    "# PCA for Sensitivity Analysis"
   ]
  },
  {
   "cell_type": "markdown",
   "metadata": {},
   "source": [
    "Now we will apply the PCA method to the whole original dataset to understand what are the parameters that influence the the output."
   ]
  },
  {
   "cell_type": "code",
   "execution_count": 25,
   "metadata": {},
   "outputs": [],
   "source": [
    "# standardizing everything\n",
    "normalizedDf = StandardScaler().fit_transform(df)\n",
    "\n",
    "pca = PCA(n_components=2)\n",
    "principal_components = pca.fit_transform(normalizedDf)\n",
    "\n",
    "principalDf = pd.DataFrame(data=principal_components, \n",
    "                           columns = ['principal component 1', 'principal component 2'])"
   ]
  },
  {
   "cell_type": "code",
   "execution_count": 26,
   "metadata": {},
   "outputs": [
    {
     "data": {
      "text/plain": [
       "array([0.17675722, 0.15752788])"
      ]
     },
     "execution_count": 26,
     "metadata": {},
     "output_type": "execute_result"
    }
   ],
   "source": [
    "pca.explained_variance_ratio_"
   ]
  },
  {
   "cell_type": "code",
   "execution_count": 27,
   "metadata": {},
   "outputs": [
    {
     "data": {
      "text/plain": [
       "array([[ 0.05138702, -0.17186915,  0.44900399, -0.32321236,  0.29956843,\n",
       "         0.3632416 , -0.08295572,  0.65816579],\n",
       "       [-0.09973638, -0.68954647, -0.50366819,  0.0827247 ,  0.00906892,\n",
       "        -0.08233037, -0.45706933,  0.19565374]])"
      ]
     },
     "execution_count": 27,
     "metadata": {},
     "output_type": "execute_result"
    }
   ],
   "source": [
    "pca.components_"
   ]
  },
  {
   "cell_type": "markdown",
   "metadata": {},
   "source": [
    "If algorithm is correct, the parameters in `column 0` and `column 6` do not influence the output in `column 7`"
   ]
  },
  {
   "cell_type": "markdown",
   "metadata": {},
   "source": [
    "### Results\n",
    "By order of influence to the output (from most influent to less influent) the columns are:\n",
    "- `Column 2`\n",
    "- `Column 5`\n",
    "- `Column 3`\n",
    "- `Column 4`\n",
    "- `Column 1`\n",
    "- `Column 6`\n",
    "- `Column 0`"
   ]
  },
  {
   "cell_type": "markdown",
   "metadata": {},
   "source": [
    "### Explained variance of each column to output by PCA"
   ]
  },
  {
   "cell_type": "markdown",
   "metadata": {},
   "source": [
    "Here we apply PCA method to two-column dataframes, where the first column is one of the input columns in the original dataframe, and the second column is the output column in the original dataframe."
   ]
  },
  {
   "cell_type": "code",
   "execution_count": 20,
   "metadata": {},
   "outputs": [
    {
     "data": {
      "text/plain": [
       "array([0.50620015])"
      ]
     },
     "execution_count": 20,
     "metadata": {},
     "output_type": "execute_result"
    }
   ],
   "source": [
    "# for column 0\n",
    "df_0 = pd.concat([df[[0]], df[[7]]], axis=1)\n",
    "normalizedDf_0 = StandardScaler().fit_transform(df_0)\n",
    "pca = PCA(n_components=1)\n",
    "principal_components = pca.fit_transform(normalizedDf_0)\n",
    "\n",
    "principalDf = pd.DataFrame(data=principal_components, \n",
    "                           columns = ['principal component 1'])\n",
    "pca.explained_variance_ratio_"
   ]
  },
  {
   "cell_type": "code",
   "execution_count": 21,
   "metadata": {},
   "outputs": [
    {
     "data": {
      "text/plain": [
       "array([0.60563565])"
      ]
     },
     "execution_count": 21,
     "metadata": {},
     "output_type": "execute_result"
    }
   ],
   "source": [
    "# for column 1\n",
    "df_1 = pd.concat([df[[1]], df[[7]]], axis=1)\n",
    "normalizedDf_1 = StandardScaler().fit_transform(df_1)\n",
    "pca = PCA(n_components=1)\n",
    "principal_components = pca.fit_transform(normalizedDf_1)\n",
    "\n",
    "principalDf = pd.DataFrame(data=principal_components, \n",
    "                           columns = ['principal component 1'])\n",
    "pca.explained_variance_ratio_"
   ]
  },
  {
   "cell_type": "code",
   "execution_count": 22,
   "metadata": {},
   "outputs": [
    {
     "data": {
      "text/plain": [
       "array([0.60553149])"
      ]
     },
     "execution_count": 22,
     "metadata": {},
     "output_type": "execute_result"
    }
   ],
   "source": [
    "# for column 2\n",
    "df_2 = pd.concat([df[[2]], df[[7]]], axis=1)\n",
    "normalizedDf_2 = StandardScaler().fit_transform(df_2)\n",
    "pca = PCA(n_components=1)\n",
    "principal_components = pca.fit_transform(normalizedDf_2)\n",
    "\n",
    "principalDf = pd.DataFrame(data=principal_components, \n",
    "                           columns = ['principal component 1'])\n",
    "pca.explained_variance_ratio_"
   ]
  },
  {
   "cell_type": "code",
   "execution_count": 23,
   "metadata": {},
   "outputs": [
    {
     "data": {
      "text/plain": [
       "array([0.51985005])"
      ]
     },
     "execution_count": 23,
     "metadata": {},
     "output_type": "execute_result"
    }
   ],
   "source": [
    "# for column 3\n",
    "df_3 = pd.concat([df[[3]], df[[7]]], axis=1)\n",
    "normalizedDf_3 = StandardScaler().fit_transform(df_3)\n",
    "pca = PCA(n_components=1)\n",
    "principal_components = pca.fit_transform(normalizedDf_3)\n",
    "\n",
    "principalDf = pd.DataFrame(data=principal_components, \n",
    "                           columns = ['principal component 1'])\n",
    "pca.explained_variance_ratio_"
   ]
  },
  {
   "cell_type": "code",
   "execution_count": 24,
   "metadata": {},
   "outputs": [
    {
     "data": {
      "text/plain": [
       "array([0.5972727])"
      ]
     },
     "execution_count": 24,
     "metadata": {},
     "output_type": "execute_result"
    }
   ],
   "source": [
    "# for column 4\n",
    "df_4 = pd.concat([df[[4]], df[[7]]], axis=1)\n",
    "normalizedDf_4 = StandardScaler().fit_transform(df_4)\n",
    "pca = PCA(n_components=1)\n",
    "principal_components = pca.fit_transform(normalizedDf_4)\n",
    "\n",
    "principalDf = pd.DataFrame(data=principal_components, \n",
    "                           columns = ['principal component 1'])\n",
    "pca.explained_variance_ratio_"
   ]
  },
  {
   "cell_type": "code",
   "execution_count": 25,
   "metadata": {},
   "outputs": [
    {
     "data": {
      "text/plain": [
       "array([0.58870904])"
      ]
     },
     "execution_count": 25,
     "metadata": {},
     "output_type": "execute_result"
    }
   ],
   "source": [
    "# for column 5\n",
    "df_5 = pd.concat([df[[5]], df[[7]]], axis=1)\n",
    "normalizedDf_5 = StandardScaler().fit_transform(df_5)\n",
    "pca = PCA(n_components=1)\n",
    "principal_components = pca.fit_transform(normalizedDf_5)\n",
    "\n",
    "principalDf = pd.DataFrame(data=principal_components, \n",
    "                           columns = ['principal component 1'])\n",
    "pca.explained_variance_ratio_"
   ]
  },
  {
   "cell_type": "code",
   "execution_count": 26,
   "metadata": {},
   "outputs": [
    {
     "data": {
      "text/plain": [
       "array([0.53161605])"
      ]
     },
     "execution_count": 26,
     "metadata": {},
     "output_type": "execute_result"
    }
   ],
   "source": [
    "# for column 6\n",
    "df_6 = pd.concat([df[[6]], df[[7]]], axis=1)\n",
    "normalizedDf_6 = StandardScaler().fit_transform(df_6)\n",
    "pca = PCA(n_components=1)\n",
    "principal_components = pca.fit_transform(normalizedDf_6)\n",
    "\n",
    "principalDf = pd.DataFrame(data=principal_components, \n",
    "                           columns = ['principal component 1'])\n",
    "pca.explained_variance_ratio_"
   ]
  },
  {
   "cell_type": "code",
   "execution_count": 31,
   "metadata": {},
   "outputs": [
    {
     "data": {
      "image/png": "[encoded data removed]",
      "text/plain": [
       "<Figure size 432x288 with 1 Axes>"
      ]
     },
     "metadata": {
      "needs_background": "light"
     },
     "output_type": "display_data"
    }
   ],
   "source": [
    "column_pc1_weight = [0.05138702, 0.17186915,  0.44900399, 0.32321236,  0.29956843,\n",
    "         0.3632416 , 0.08295572]\n",
    "column_explained_variance = [0.50620015, 0.60563565, 0.60553149, 0.51985005, 0.5972727, 0.58870904, 0.53161605]\n",
    "\n",
    "labels = ['Column 0', 'Column 1', 'Column 2', 'Column 3', 'Column 4', 'Column 5', 'Column 6']\n",
    "\n",
    "for i in range(7):\n",
    "    pylab.scatter(column_pc1_weight[i], column_explained_variance[i], label=labels[i])\n",
    "pylab.legend()\n",
    "pylab.xlabel('Column PC1 Weight')\n",
    "pylab.ylabel('Column Explained Variance')\n",
    "pylab.show()"
   ]
  }
 ],
 "metadata": {
  "kernelspec": {
   "display_name": "Python 3",
   "language": "python",
   "name": "python3"
  },
  "language_info": {
   "codemirror_mode": {
    "name": "ipython",
    "version": 3
   },
   "file_extension": ".py",
   "mimetype": "text/x-python",
   "name": "python",
   "nbconvert_exporter": "python",
   "pygments_lexer": "ipython3",
   "version": "3.7.1"
  }
 },
 "nbformat": 4,
 "nbformat_minor": 2
}
